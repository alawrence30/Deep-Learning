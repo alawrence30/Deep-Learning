{
  "cells": [
    {
      "cell_type": "markdown",
      "metadata": {
        "id": "view-in-github",
        "colab_type": "text"
      },
      "source": [
        "<a href=\"https://colab.research.google.com/github/alawrence30/Deep-Learning/blob/main/MSDS458_Assignment_01_v26_1.ipynb\" target=\"_parent\"><img src=\"https://colab.research.google.com/assets/colab-badge.svg\" alt=\"Open In Colab\"/></a>"
      ]
    },
    {
      "cell_type": "markdown",
      "metadata": {
        "id": "orJYAIqHkn5y"
      },
      "source": [
        "<img src=\"https://github.com/djp840/MSDS_458_Public/blob/master/images/NorthwesternHeader.png?raw=1\">"
      ]
    },
    {
      "cell_type": "markdown",
      "metadata": {
        "id": "zy62HRWykn53"
      },
      "source": [
        "## MSDS458 Research Assignment 1:\n",
        "\n",
        "* In this notebook, we will build a `DNN` model for classifying MNIST digits. The `DNN` model will consist of 784 input nodes, a hidden layer with 128 nodes and 10 output nodes (corresponding to the 10 digits). \n",
        "* We use `mnist.load_data()` to get the 70,000 images divided into a set of 60,000 training images and 10,000 test images. We hold back 5,000 of the 60,000 training images for validation. \n",
        "* After training and evaluating our `DNN` model we analyze its performance. In particular, we use confusion matrices to compare the `predicted classes` with the `class labels` to try to determine why some images were misclassified by the model.\n",
        "* We then obtain the 60,000 `activation values` of one of the hidden nodes for the (original) set of training data. We want to use these `activation values` as \"proxies\" for the predicted classes of the 60,000 images. \n",
        "* And just like we compared the `predicted classes` with the `class labels` using confusion matrices to determine the efficacy of the model, we use `box plots` to visualize the relationship between the `activation values` of one hidden node and the `class labels`. We don't expect these activation values to have much \"predictive power\". In fact, the same activation values can be associated with multiple class labels resulting in a lot of overlap in the `box plots`.\n",
        "* We also perform similar experiments comparing the values at two pixel locations in the images with the class labels. This time we use `scatter plots` to visualize the relationship between the pair of pixel values with the class labels (represented by different colored dots).\n",
        "* Pixel values at two locations in image should not have much predictive value. To improve on this approach, we the PCA decomposition on both the raw data of 784 pixel values and 128 hidden node activation values to reduce the number of features to 2 in each case. Once again, we use a `scatter plot` to visualize the correlation between the two principal component values and the class labels.\n",
        "*  Finally, we use a Random Forest Classifier to find the relative importance of the 784 features (pixels) in the training set. We then select the 70 most important feature (pixels) from the training, validation and test images to test our 'best' model on."
      ]
    },
    {
      "cell_type": "code",
      "source": [
        "from psutil import virtual_memory\n",
        "ram_gb = virtual_memory().total / 1e9\n",
        "print('Your runtime has {:.1f} gigabytes of available RAM\\n'.format(ram_gb))\n",
        "\n",
        "if ram_gb < 20:\n",
        "  print('Not using a high-RAM runtime')\n",
        "else:\n",
        "  print('You are using a high-RAM runtime!')"
      ],
      "metadata": {
        "colab": {
          "base_uri": "https://localhost:8080/"
        },
        "id": "r_NP_-lDtaQn",
        "outputId": "1a8b3a63-e6ae-495b-a5ea-484da0829460"
      },
      "execution_count": 1,
      "outputs": [
        {
          "output_type": "stream",
          "name": "stdout",
          "text": [
            "Your runtime has 27.3 gigabytes of available RAM\n",
            "\n",
            "You are using a high-RAM runtime!\n"
          ]
        }
      ]
    },
    {
      "cell_type": "markdown",
      "metadata": {
        "id": "4dTs_msbkn54"
      },
      "source": [
        "# Importing Packages \n",
        "\n",
        "* First we import all the packages that will be used in the assignment.\n",
        "\n",
        "* Since Keras is integrated in TensorFlow 2.x, we import `keras` from `tensorflow` and use `tenserflow.keras.xxx` to import all other Keras packages. The seed argument produces a deterministic sequence of tensors across multiple calls."
      ]
    },
    {
      "cell_type": "code",
      "execution_count": 2,
      "metadata": {
        "id": "6RE2Olj5kn54"
      },
      "outputs": [],
      "source": [
        "import datetime\n",
        "from packaging import version\n",
        "from collections import Counter\n",
        "import numpy as np\n",
        "import pandas as pd\n",
        "\n",
        "import matplotlib as mpl  # EA\n",
        "import matplotlib.pyplot as plt\n",
        "import seaborn as sns\n",
        "\n",
        "from sklearn.metrics import confusion_matrix, classification_report\n",
        "from sklearn.decomposition import PCA\n",
        "from sklearn.manifold import TSNE\n",
        "from sklearn.ensemble import RandomForestClassifier\n",
        "from sklearn.metrics import mean_squared_error as MSE\n",
        "from sklearn.metrics import accuracy_score\n",
        "\n",
        "import tensorflow as tf\n",
        "from tensorflow.keras.utils import to_categorical\n",
        "from tensorflow import keras\n",
        "from tensorflow.keras import models\n",
        "from tensorflow.keras.models import Sequential\n",
        "from tensorflow.keras.layers import Dense, Flatten\n",
        "from tensorflow.keras.datasets import mnist"
      ]
    },
    {
      "cell_type": "code",
      "execution_count": 3,
      "metadata": {
        "id": "ZU6vom71kn55"
      },
      "outputs": [],
      "source": [
        "%matplotlib inline\n",
        "np.set_printoptions(precision=3, suppress=True) "
      ]
    },
    {
      "cell_type": "markdown",
      "metadata": {
        "id": "3XwlONPLkn55"
      },
      "source": [
        "## Verify TensorFlow version and Keras version"
      ]
    },
    {
      "cell_type": "code",
      "execution_count": 4,
      "metadata": {
        "colab": {
          "base_uri": "https://localhost:8080/"
        },
        "id": "9HSeZcnpkn55",
        "outputId": "d14e8d18-dfe9-4056-a13d-e082da9ddc85"
      },
      "outputs": [
        {
          "output_type": "stream",
          "name": "stdout",
          "text": [
            "This notebook requires TensorFlow 2.0 or above\n",
            "TensorFlow version:  2.8.2\n"
          ]
        }
      ],
      "source": [
        "print(\"This notebook requires TensorFlow 2.0 or above\")\n",
        "print(\"TensorFlow version: \", tf.__version__)\n",
        "assert version.parse(tf.__version__).release[0] >=2"
      ]
    },
    {
      "cell_type": "code",
      "execution_count": 5,
      "metadata": {
        "colab": {
          "base_uri": "https://localhost:8080/"
        },
        "id": "SJ9PpKc0kn56",
        "outputId": "ea42838b-d749-45bc-f0c5-4b8e54052b36"
      },
      "outputs": [
        {
          "output_type": "stream",
          "name": "stdout",
          "text": [
            "Keras version:  2.8.0\n"
          ]
        }
      ],
      "source": [
        "print(\"Keras version: \", keras.__version__)"
      ]
    },
    {
      "cell_type": "markdown",
      "metadata": {
        "id": "kr8DPDQ2kn56"
      },
      "source": [
        "## Mount Google Drive to Colab environment"
      ]
    },
    {
      "cell_type": "code",
      "execution_count": 6,
      "metadata": {
        "id": "DEU8D6Jekn56",
        "colab": {
          "base_uri": "https://localhost:8080/"
        },
        "outputId": "928f48ed-fed6-4cd4-8f31-eb0b51413e03"
      },
      "outputs": [
        {
          "output_type": "stream",
          "name": "stdout",
          "text": [
            "Mounted at /content/gdrive\n"
          ]
        }
      ],
      "source": [
        "from google.colab import drive\n",
        "drive.mount('/content/gdrive')"
      ]
    },
    {
      "cell_type": "markdown",
      "metadata": {
        "id": "A7XAFde28ypy"
      },
      "source": [
        "## Research Assignment Reporting Functions"
      ]
    },
    {
      "cell_type": "code",
      "execution_count": 7,
      "metadata": {
        "id": "TMK9dHiz8ypz"
      },
      "outputs": [],
      "source": [
        "def print_validation_report(test_labels, predictions):\n",
        "    print(\"Classification Report\")\n",
        "    print(classification_report(test_labels, predictions))\n",
        "    print('Accuracy Score: {}'.format(accuracy_score(test_labels, predictions)))\n",
        "    print('Root Mean Square Error: {}'.format(np.sqrt(MSE(test_labels, predictions)))) \n",
        "    \n",
        "def plot_confusion_matrix(y_true, y_pred):\n",
        "    mtx = confusion_matrix(y_true, y_pred)\n",
        "    fig, ax = plt.subplots(figsize=(8,8))\n",
        "    sns.heatmap(mtx, annot=True, fmt='d', linewidths=.75,  cbar=False, ax=ax,cmap='Blues',linecolor='white')\n",
        "    #  square=True,\n",
        "    plt.ylabel('true label')\n",
        "    plt.xlabel('predicted label')\n",
        "\n",
        "def plot_history(history):\n",
        "  losses = history.history['loss']\n",
        "  accs = history.history['accuracy']\n",
        "  val_losses = history.history['val_loss']\n",
        "  val_accs = history.history['val_accuracy']\n",
        "  epochs = len(losses)\n",
        "\n",
        "  plt.figure(figsize=(16, 4))\n",
        "  for i, metrics in enumerate(zip([losses, accs], [val_losses, val_accs], ['Loss', 'Accuracy'])):\n",
        "    plt.subplot(1, 2, i + 1)\n",
        "    plt.plot(range(epochs), metrics[0], label='Training {}'.format(metrics[2]))\n",
        "    plt.plot(range(epochs), metrics[1], label='Validation {}'.format(metrics[2]))\n",
        "    plt.legend()\n",
        "  plt.show()\n",
        "\n",
        "def plot_digits(instances, pos, images_per_row=5, **options):\n",
        "    size = 28\n",
        "    images_per_row = min(len(instances), images_per_row)\n",
        "    images = [instance.reshape(size,size) for instance in instances]\n",
        "    n_rows = (len(instances) - 1) // images_per_row + 1\n",
        "    row_images = []\n",
        "    n_empty = n_rows * images_per_row - len(instances)\n",
        "    images.append(np.zeros((size, size * n_empty)))\n",
        "    for row in range(n_rows):\n",
        "        rimages = images[row * images_per_row : (row + 1) * images_per_row]\n",
        "        row_images.append(np.concatenate(rimages, axis=1))\n",
        "    image = np.concatenate(row_images, axis=0)\n",
        "    pos.imshow(image, cmap = 'binary', **options)\n",
        "    pos.axis(\"off\")\n",
        "\n",
        "def plot_digit(data):\n",
        "    image = data.reshape(28, 28)\n",
        "    plt.imshow(image, cmap = 'hot',\n",
        "               interpolation=\"nearest\")\n",
        "    plt.axis(\"off\")"
      ]
    },
    {
      "cell_type": "markdown",
      "metadata": {
        "id": "DAWHh09ckn56"
      },
      "source": [
        "# Loading MNIST Dataset\n",
        "\n",
        "* The MNIST dataset of handwritten digits has a training set of 60,000 images, and a test set of 10,000 images. It comes prepackaged as part of `tf.Keras`. Use the `tf.keras.datasets.mnist.load_data` to the get these datasets (and the corresponding labels) as Numpy arrays."
      ]
    },
    {
      "cell_type": "code",
      "execution_count": 8,
      "metadata": {
        "id": "6b-9FrSukn57",
        "colab": {
          "base_uri": "https://localhost:8080/"
        },
        "outputId": "ff620c76-ef6f-4254-92c3-6d1d5a2272be"
      },
      "outputs": [
        {
          "output_type": "stream",
          "name": "stdout",
          "text": [
            "Downloading data from https://storage.googleapis.com/tensorflow/tf-keras-datasets/mnist.npz\n",
            "11493376/11490434 [==============================] - 0s 0us/step\n",
            "11501568/11490434 [==============================] - 0s 0us/step\n"
          ]
        }
      ],
      "source": [
        "## Load MNIST data and split into test and train sets\n",
        "\n",
        "(x_train, y_train), (x_test, y_test)= tf.keras.datasets.mnist.load_data()"
      ]
    },
    {
      "cell_type": "markdown",
      "metadata": {
        "id": "4qwDLcPrkn57"
      },
      "source": [
        "* Tuples of Numpy arrays: `(x_train, y_train)`, `(x_test, y_test)`\n",
        "* `x_train`, `x_test`: uint8 arrays of grayscale image data with shapes (num_samples, 28, 28).\n",
        "* `y_train`, `y_test`: uint8 arrays of digit labels (integers in range 0-9)"
      ]
    },
    {
      "cell_type": "markdown",
      "metadata": {
        "id": "uG2UuvWmkn57"
      },
      "source": [
        "# EDA Training and Test Sets\n",
        "\n",
        "* Inspect the training and test sets as well as their labels as follows."
      ]
    },
    {
      "cell_type": "code",
      "execution_count": 9,
      "metadata": {
        "colab": {
          "base_uri": "https://localhost:8080/"
        },
        "id": "e-3GtF0okn57",
        "outputId": "d904aebe-2b1e-4225-8309-3924b98e82ea"
      },
      "outputs": [
        {
          "output_type": "stream",
          "name": "stdout",
          "text": [
            "x_train:\t(60000, 28, 28)\n",
            "y_train:\t(60000,)\n",
            "x_test:\t\t(10000, 28, 28)\n",
            "y_test:\t\t(10000,)\n"
          ]
        }
      ],
      "source": [
        "## Number of samples in each set\n",
        "\n",
        "print('x_train:\\t{}'.format(x_train.shape))\n",
        "print('y_train:\\t{}'.format(y_train.shape))\n",
        "print('x_test:\\t\\t{}'.format(x_test.shape))\n",
        "print('y_test:\\t\\t{}'.format(y_test.shape))"
      ]
    },
    {
      "cell_type": "markdown",
      "source": [
        "# EDA"
      ],
      "metadata": {
        "id": "zHru4CqyEBTf"
      }
    },
    {
      "cell_type": "markdown",
      "metadata": {
        "id": "aknb-WH8kn57"
      },
      "source": [
        "## Review labels for training set"
      ]
    },
    {
      "cell_type": "code",
      "execution_count": 10,
      "metadata": {
        "colab": {
          "base_uri": "https://localhost:8080/"
        },
        "id": "9KLr92thkn58",
        "outputId": "c53b4814-793b-48c9-ce19-c9ab42f44620"
      },
      "outputs": [
        {
          "output_type": "stream",
          "name": "stdout",
          "text": [
            "First ten labels training dataset:\n",
            " [5 0 4 1 9 2 1 3 1 4]\n",
            "\n"
          ]
        }
      ],
      "source": [
        "print(\"First ten labels training dataset:\\n {}\\n\".format(y_train[0:10]))"
      ]
    },
    {
      "cell_type": "markdown",
      "metadata": {
        "id": "qR5_IJZdkn58"
      },
      "source": [
        "## Find frequency of each label in training and test sets"
      ]
    },
    {
      "cell_type": "code",
      "execution_count": 11,
      "metadata": {
        "colab": {
          "base_uri": "https://localhost:8080/",
          "height": 0
        },
        "id": "QtWxhPgN8yp3",
        "outputId": "e180d73a-aba6-45a0-cb23-669ede2a9e9f"
      },
      "outputs": [
        {
          "output_type": "display_data",
          "data": {
            "text/plain": [
              "<Figure size 432x288 with 1 Axes>"
            ],
            "image/png": "[encoded data removed]"
          },
          "metadata": {
            "needs_background": "light"
          }
        }
      ],
      "source": [
        "items = [{'Class': x, 'Count': y} for x, y in Counter(y_train).items()]\n",
        "distribution = pd.DataFrame(items).sort_values(['Class'])\n",
        "sns.barplot(x=distribution.Class, y=distribution.Count);"
      ]
    },
    {
      "cell_type": "code",
      "execution_count": 12,
      "metadata": {
        "colab": {
          "base_uri": "https://localhost:8080/"
        },
        "id": "zarPJAOEkn58",
        "outputId": "c5a468c1-626b-4ea5-e99f-e39c7cc2f2d1"
      },
      "outputs": [
        {
          "output_type": "execute_result",
          "data": {
            "text/plain": [
              "[(1, 6742),\n",
              " (7, 6265),\n",
              " (3, 6131),\n",
              " (2, 5958),\n",
              " (9, 5949),\n",
              " (0, 5923),\n",
              " (6, 5918),\n",
              " (8, 5851),\n",
              " (4, 5842),\n",
              " (5, 5421)]"
            ]
          },
          "metadata": {},
          "execution_count": 12
        }
      ],
      "source": [
        "Counter(y_train).most_common()"
      ]
    },
    {
      "cell_type": "code",
      "execution_count": 13,
      "metadata": {
        "colab": {
          "base_uri": "https://localhost:8080/"
        },
        "id": "6ijQ5qIKkn58",
        "outputId": "f2eec913-df12-40c1-e7ae-98dab8802571"
      },
      "outputs": [
        {
          "output_type": "execute_result",
          "data": {
            "text/plain": [
              "[(1, 1135),\n",
              " (2, 1032),\n",
              " (7, 1028),\n",
              " (3, 1010),\n",
              " (9, 1009),\n",
              " (4, 982),\n",
              " (0, 980),\n",
              " (8, 974),\n",
              " (6, 958),\n",
              " (5, 892)]"
            ]
          },
          "metadata": {},
          "execution_count": 13
        }
      ],
      "source": [
        "Counter(y_test).most_common()"
      ]
    },
    {
      "cell_type": "markdown",
      "metadata": {
        "id": "Le1sKFW9kn58"
      },
      "source": [
        "## Plot sample images with their labels"
      ]
    },
    {
      "cell_type": "code",
      "execution_count": 14,
      "metadata": {
        "colab": {
          "base_uri": "https://localhost:8080/",
          "height": 0
        },
        "id": "WCt1-X-mkn58",
        "outputId": "311e1269-0cf3-4c21-fedc-be16b479bd32"
      },
      "outputs": [
        {
          "output_type": "display_data",
          "data": {
            "text/plain": [
              "<Figure size 1080x648 with 50 Axes>"
            ],
            "image/png": "[encoded data removed]"
          },
          "metadata": {}
        }
      ],
      "source": [
        "fig = plt.figure(figsize = (15, 9))\n",
        "\n",
        "for i in range(50):\n",
        "    plt.subplot(5, 10, 1+i)\n",
        "    plt.title(y_train[i])\n",
        "    plt.xticks([])\n",
        "    plt.yticks([])\n",
        "    plt.imshow(x_train[i].reshape(28,28), cmap='binary')"
      ]
    },
    {
      "cell_type": "markdown",
      "metadata": {
        "id": "qWhzZFiJkn58"
      },
      "source": [
        "# Preprocessing Data\n",
        "\n",
        "* Before we build our model, we need to prepare the data into the shape the network expected\n",
        "* More specifically, we will convert the labels (integers 0 to 9) to 1D numpy arrays of shape (10,) with elements 0s and 1s. \n",
        "* We also reshape the images from 2D arrays of shape (28,28) to 1D *float32* arrays of shape (784,) and then rescale their elements to values between 0 and 1."
      ]
    },
    {
      "cell_type": "markdown",
      "metadata": {
        "id": "1VOxXpikkn59"
      },
      "source": [
        "## Apply one-hot encoding on the labels\n",
        "\n",
        "We will change the way the labels are represented from numbers (0 to 9) to vectors (1D arrays) of shape (10, ) with all the elements set to 0 except the one which the label belongs to - which will be set to 1. For example:\n",
        "\n",
        "\n",
        "| original label | one-hot encoded label |\n",
        "|------|------|\n",
        "| 5 | [0 0 0 0 0 1 0 0 0 0] |\n",
        "| 7 | [0 0 0 0 0 0 0 1 0 0] |\n",
        "| 1 | [0 1 0 0 0 0 0 0 0 0] |"
      ]
    },
    {
      "cell_type": "code",
      "execution_count": 15,
      "metadata": {
        "colab": {
          "base_uri": "https://localhost:8080/"
        },
        "id": "q_X_hLYUkn59",
        "outputId": "47cb3b7a-6856-416b-ed22-b378ea4b02e5"
      },
      "outputs": [
        {
          "output_type": "stream",
          "name": "stdout",
          "text": [
            "First ten entries of y_train:\n",
            " [5 0 4 1 9 2 1 3 1 4]\n",
            "\n",
            "First ten rows of one-hot y_train:\n",
            " [[0. 0. 0. 0. 0. 1. 0. 0. 0. 0.]\n",
            " [1. 0. 0. 0. 0. 0. 0. 0. 0. 0.]\n",
            " [0. 0. 0. 0. 1. 0. 0. 0. 0. 0.]\n",
            " [0. 1. 0. 0. 0. 0. 0. 0. 0. 0.]\n",
            " [0. 0. 0. 0. 0. 0. 0. 0. 0. 1.]\n",
            " [0. 0. 1. 0. 0. 0. 0. 0. 0. 0.]\n",
            " [0. 1. 0. 0. 0. 0. 0. 0. 0. 0.]\n",
            " [0. 0. 0. 1. 0. 0. 0. 0. 0. 0.]\n",
            " [0. 1. 0. 0. 0. 0. 0. 0. 0. 0.]\n",
            " [0. 0. 0. 0. 1. 0. 0. 0. 0. 0.]]\n"
          ]
        }
      ],
      "source": [
        "y_train_encoded = to_categorical(y_train)\n",
        "y_test_encoded = to_categorical(y_test)\n",
        "\n",
        "print(\"First ten entries of y_train:\\n {}\\n\".format(y_train[0:10]))\n",
        "print(\"First ten rows of one-hot y_train:\\n {}\".format(y_train_encoded[0:10,]))"
      ]
    },
    {
      "cell_type": "code",
      "execution_count": 16,
      "metadata": {
        "colab": {
          "base_uri": "https://localhost:8080/"
        },
        "id": "3eTBZED0kn59",
        "outputId": "5fbed7d9-4d5d-44a2-9676-1ab523032978"
      },
      "outputs": [
        {
          "output_type": "stream",
          "name": "stdout",
          "text": [
            "y_train_encoded shape:  (60000, 10)\n",
            "y_test_encoded shape:  (10000, 10)\n"
          ]
        }
      ],
      "source": [
        "print('y_train_encoded shape: ', y_train_encoded.shape)\n",
        "print('y_test_encoded shape: ', y_test_encoded.shape)"
      ]
    },
    {
      "cell_type": "markdown",
      "metadata": {
        "id": "Lo3xfUCBkn59"
      },
      "source": [
        "## Reshape the images to 1D arrays\n",
        "\n",
        "Reshape the images from shape (28, 28) 2D arrays to shape (784, ) vectors (1D arrays)."
      ]
    },
    {
      "cell_type": "code",
      "execution_count": 17,
      "metadata": {
        "colab": {
          "base_uri": "https://localhost:8080/"
        },
        "id": "vhj2fCiUkn59",
        "outputId": "0c0fef30-78cb-4ef9-dadc-e9664c8253b5"
      },
      "outputs": [
        {
          "output_type": "stream",
          "name": "stdout",
          "text": [
            "x_train:\t(60000, 28, 28)\n",
            "x_test:\t\t(10000, 28, 28)\n"
          ]
        }
      ],
      "source": [
        "# Before reshape:\n",
        "print('x_train:\\t{}'.format(x_train.shape))\n",
        "print('x_test:\\t\\t{}'.format(x_test.shape))"
      ]
    },
    {
      "cell_type": "code",
      "execution_count": 18,
      "metadata": {
        "colab": {
          "base_uri": "https://localhost:8080/"
        },
        "id": "WGUdXbIzYSs4",
        "outputId": "37341b2a-8004-47be-af4f-bfa305b5dfe3"
      },
      "outputs": [
        {
          "output_type": "stream",
          "name": "stdout",
          "text": [
            "[[  0   0   0   0   0   0   0   0   0   0   0   0   0   0   0   0   0   0   0   0   0   0   0   0   0   0   0   0]\n",
            " [  0   0   0   0   0   0   0   0   0   0   0   0   0   0   0   0   0   0   0   0   0   0   0   0   0   0   0   0]\n",
            " [  0   0   0   0   0   0   0   0   0   0   0   0   0 167 208  19   0   0   0   0   0   0   0   0   0   0   0   0]\n",
            " [  0   0   0   0   0   0   0   0   0   0   0   0  13 235 254  99   0   0   0   0   0   0   0   0   0   0   0   0]\n",
            " [  0   0   0   0   0   0   0   0   0   0   0   0  74 254 234   4   0   0   0   0   0   0   0   0   0   0   0   0]\n",
            " [  0   0   0   0   0   0   0   0   0   0   0   0 154 254 145   0   0   0   0   0   0   0   0   0   0   0   0   0]\n",
            " [  0   0   0   0   0   0   0   0   0   0   0   0 224 254  92   0   0   0   0   0   0   0   0   0   0   0   0   0]\n",
            " [  0   0   0   0   0   0   0   0   0   0   0  51 245 211  13   0   0   0   0   0   0   0   0   0   0   0   0   0]\n",
            " [  0   0   0   0   0   0   0   0   0   0   2 169 254 101   0   0   0   0   0   0   0   0   0   0   0   0   0   0]\n",
            " [  0   0   0   0   0   0   0   0   0   0  27 254 254  88   0   0   0   0   0   0   0   0   0   0   0   0   0   0]\n",
            " [  0   0   0   0   0   0   0   0   0   0  72 255 241  15   0   0   0   0   0   0   0   0   0   0   0   0   0   0]\n",
            " [  0   0   0   0   0   0   0   0   0   0  88 254 153   0   0  33  53 155 156 102  15   0   0   0   0   0   0   0]\n",
            " [  0   0   0   0   0   0   0   0   0   0 130 254  31   0 128 235 254 254 254 254 186  10   0   0   0   0   0   0]\n",
            " [  0   0   0   0   0   0   0   0   0   0 190 254  51 178 254 246 213 111 109 186 254 145   0   0   0   0   0   0]\n",
            " [  0   0   0   0   0   0   0   0   0   0 192 254 229 254 216  90   0   0   0  57 254 234   0   0   0   0   0   0]\n",
            " [  0   0   0   0   0   0   0   0   0   0 235 254 254 247  85   0   0   0   0  32 254 234   0   0   0   0   0   0]\n",
            " [  0   0   0   0   0   0   0   0   0   0 235 254 254 118   0   0   0   0   0 107 254 201   0   0   0   0   0   0]\n",
            " [  0   0   0   0   0   0   0   0   0   0 235 255 254 102  12   0   0   0   8 188 248 119   0   0   0   0   0   0]\n",
            " [  0   0   0   0   0   0   0   0   0   0 207 254 254 238 107   0   0  39 175 254 148   0   0   0   0   0   0   0]\n",
            " [  0   0   0   0   0   0   0   0   0   0  84 254 248  74  11  32 115 238 254 176  11   0   0   0   0   0   0   0]\n",
            " [  0   0   0   0   0   0   0   0   0   0  21 214 254 254 254 254 254 254 132   6   0   0   0   0   0   0   0   0]\n",
            " [  0   0   0   0   0   0   0   0   0   0   0  14  96 176 254 254 214  48  12   0   0   0   0   0   0   0   0   0]\n",
            " [  0   0   0   0   0   0   0   0   0   0   0   0   0   0   0   0   0   0   0   0   0   0   0   0   0   0   0   0]\n",
            " [  0   0   0   0   0   0   0   0   0   0   0   0   0   0   0   0   0   0   0   0   0   0   0   0   0   0   0   0]\n",
            " [  0   0   0   0   0   0   0   0   0   0   0   0   0   0   0   0   0   0   0   0   0   0   0   0   0   0   0   0]\n",
            " [  0   0   0   0   0   0   0   0   0   0   0   0   0   0   0   0   0   0   0   0   0   0   0   0   0   0   0   0]\n",
            " [  0   0   0   0   0   0   0   0   0   0   0   0   0   0   0   0   0   0   0   0   0   0   0   0   0   0   0   0]\n",
            " [  0   0   0   0   0   0   0   0   0   0   0   0   0   0   0   0   0   0   0   0   0   0   0   0   0   0   0   0]]\n"
          ]
        }
      ],
      "source": [
        "np.set_printoptions(linewidth=np.inf)\n",
        "print(\"{}\".format(x_train[2020]))"
      ]
    },
    {
      "cell_type": "code",
      "execution_count": 19,
      "metadata": {
        "colab": {
          "base_uri": "https://localhost:8080/"
        },
        "id": "LfyHUMWlkn59",
        "outputId": "62d1a237-b181-44ac-a199-8d909bd003b5"
      },
      "outputs": [
        {
          "output_type": "stream",
          "name": "stdout",
          "text": [
            "x_train_reshaped shape:  (60000, 784)\n",
            "x_test_reshaped shape:  (10000, 784)\n"
          ]
        }
      ],
      "source": [
        "# Reshape the images:\n",
        "x_train_reshaped = np.reshape(x_train, (60000, 784))\n",
        "x_test_reshaped = np.reshape(x_test, (10000, 784))\n",
        "\n",
        "# After reshape:\n",
        "print('x_train_reshaped shape: ', x_train_reshaped.shape)\n",
        "print('x_test_reshaped shape: ', x_test_reshaped.shape)"
      ]
    },
    {
      "cell_type": "markdown",
      "metadata": {
        "id": "F6XjR6qgkn5-"
      },
      "source": [
        "1. Each element in an image is a pixel value\n",
        "2. Pixel values range from 0 to 255\n",
        "3. 0 = White\n",
        "4. 255 = Black"
      ]
    },
    {
      "cell_type": "markdown",
      "metadata": {
        "id": "mArIDYodYSs6"
      },
      "source": [
        "## Review unique values with set from 1st image"
      ]
    },
    {
      "cell_type": "code",
      "execution_count": 20,
      "metadata": {
        "colab": {
          "base_uri": "https://localhost:8080/"
        },
        "id": "e1joOK6Lkn5-",
        "outputId": "20707e2f-dbc7-4133-801e-10f870798ffa"
      },
      "outputs": [
        {
          "output_type": "stream",
          "name": "stdout",
          "text": [
            "{0, 1, 2, 3, 9, 11, 14, 16, 18, 23, 24, 25, 26, 27, 30, 35, 36, 39, 43, 45, 46, 49, 55, 56, 64, 66, 70, 78, 80, 81, 82, 90, 93, 94, 107, 108, 114, 119, 126, 127, 130, 132, 133, 135, 136, 139, 148, 150, 154, 156, 160, 166, 170, 171, 172, 175, 182, 183, 186, 187, 190, 195, 198, 201, 205, 207, 212, 213, 219, 221, 225, 226, 229, 238, 240, 241, 242, 244, 247, 249, 250, 251, 252, 253, 255}\n"
          ]
        }
      ],
      "source": [
        "print(set(x_train_reshaped[0]))"
      ]
    },
    {
      "cell_type": "markdown",
      "metadata": {
        "id": "eisT6z44kn5-"
      },
      "source": [
        "\n",
        "## Rescale the elements of the reshaped images\n",
        "\n",
        "Rescale the elements between [0 and 1]"
      ]
    },
    {
      "cell_type": "code",
      "execution_count": 21,
      "metadata": {
        "id": "-WDlwS3hkn5_"
      },
      "outputs": [],
      "source": [
        "## Normalize: convert pixels in range [0,255] to range [0,1], scales all images to the same size\n",
        "\n",
        "x_train_norm = x_train_reshaped.astype('float32') / 255\n",
        "x_test_norm = x_test_reshaped.astype('float32') / 255"
      ]
    },
    {
      "cell_type": "code",
      "execution_count": 22,
      "metadata": {
        "colab": {
          "base_uri": "https://localhost:8080/"
        },
        "id": "hIBXNcdWkn5_",
        "outputId": "4c53fc96-e5e8-4e35-dba3-f789088626be"
      },
      "outputs": [
        {
          "output_type": "stream",
          "name": "stdout",
          "text": [
            "{0.0, 0.011764706, 0.53333336, 0.07058824, 0.49411765, 0.6862745, 0.101960786, 0.6509804, 1.0, 0.96862745, 0.49803922, 0.11764706, 0.14117648, 0.36862746, 0.6039216, 0.6666667, 0.043137256, 0.05490196, 0.03529412, 0.85882354, 0.7764706, 0.7137255, 0.94509804, 0.3137255, 0.6117647, 0.41960785, 0.25882354, 0.32156864, 0.21960784, 0.8039216, 0.8666667, 0.8980392, 0.7882353, 0.52156866, 0.18039216, 0.30588236, 0.44705883, 0.3529412, 0.15294118, 0.6745098, 0.88235295, 0.99215686, 0.9490196, 0.7647059, 0.2509804, 0.19215687, 0.93333334, 0.9843137, 0.74509805, 0.7294118, 0.5882353, 0.50980395, 0.8862745, 0.105882354, 0.09019608, 0.16862746, 0.13725491, 0.21568628, 0.46666667, 0.3647059, 0.27450982, 0.8352941, 0.7176471, 0.5803922, 0.8117647, 0.9764706, 0.98039216, 0.73333335, 0.42352942, 0.003921569, 0.54509807, 0.67058825, 0.5294118, 0.007843138, 0.31764707, 0.0627451, 0.09411765, 0.627451, 0.9411765, 0.9882353, 0.95686275, 0.83137256, 0.5176471, 0.09803922, 0.1764706}\n"
          ]
        }
      ],
      "source": [
        "# Take a look at the first reshaped and normalized training image:\n",
        "print(set(x_train_norm[0]))"
      ]
    },
    {
      "cell_type": "code",
      "execution_count": 23,
      "metadata": {
        "id": "6OdGUkHrkn5_"
      },
      "outputs": [],
      "source": [
        "model = Sequential([\n",
        "    Dense(input_shape=[784], units=128, activation = tf.nn.relu,kernel_regularizer=tf.keras.regularizers.L2(0.001)),\n",
        "    Dense(name = \"output_layer\", units = 10, activation = tf.nn.softmax)\n",
        "])"
      ]
    },
    {
      "cell_type": "code",
      "execution_count": 24,
      "metadata": {
        "colab": {
          "base_uri": "https://localhost:8080/"
        },
        "id": "gpEmWU3mkn5_",
        "outputId": "b5d9761f-7abb-44fe-bd52-5fe30bc9dc1f"
      },
      "outputs": [
        {
          "output_type": "stream",
          "name": "stdout",
          "text": [
            "Model: \"sequential\"\n",
            "_________________________________________________________________\n",
            " Layer (type)                Output Shape              Param #   \n",
            "=================================================================\n",
            " dense (Dense)               (None, 128)               100480    \n",
            "                                                                 \n",
            " output_layer (Dense)        (None, 10)                1290      \n",
            "                                                                 \n",
            "=================================================================\n",
            "Total params: 101,770\n",
            "Trainable params: 101,770\n",
            "Non-trainable params: 0\n",
            "_________________________________________________________________\n"
          ]
        }
      ],
      "source": [
        "model.summary()"
      ]
    },
    {
      "cell_type": "code",
      "execution_count": 25,
      "metadata": {
        "colab": {
          "base_uri": "https://localhost:8080/",
          "height": 312
        },
        "id": "hDxzWOj4kn6A",
        "outputId": "ac0da11f-cc9e-438e-ee20-2178816d1bfb"
      },
      "outputs": [
        {
          "output_type": "execute_result",
          "data": {
            "image/png": "[encoded data removed]",
            "text/plain": [
              "<IPython.core.display.Image object>"
            ]
          },
          "metadata": {},
          "execution_count": 25
        }
      ],
      "source": [
        "keras.utils.plot_model(model, \"mnist_model.png\", show_shapes=True) "
      ]
    },
    {
      "cell_type": "markdown",
      "metadata": {
        "id": "YthKw2Dqkn6A"
      },
      "source": [
        "\n",
        "<b>tf.keras.optimizers.RMSprop</b><br> \n",
        " https://www.tensorflow.org/api_docs/python/tf/keras/optimizers/RMSprop"
      ]
    },
    {
      "cell_type": "markdown",
      "metadata": {
        "id": "sikgiIMykn6A"
      },
      "source": [
        "\n",
        "<b>tf.keras.losses.CategoricalCrossentropy</b><br> \n",
        "  https://www.tensorflow.org/api_docs/python/tf/keras/losses/CategoricalCrossentropy\n"
      ]
    },
    {
      "cell_type": "markdown",
      "source": [
        "# Experiment 1\n",
        "Our dense neural network will consist of 784 input nodes, a hidden layer with 1 node and 10 output nodes (corresponding to the 10 digits). \n",
        "\n",
        "We use mnist.load_data() to get the 70,000 images divided into a set of 60,000 training images and 10,000 test images. \n",
        "\n",
        "We hold back 5,000 of the 60,000 training images for validation. \n",
        "\n",
        "After training the model, we group the 60,000 activation values of the hidden node for the (original) set of training images by the 10 predicted classes and visualize these sets of values using a boxplot. We expect the overlap between the range of values in the \"boxes\" to be minimal. \n",
        "\n",
        "In addition, we find the pattern that maximally activates the hidden node as a \"warm up\" exercise for similar analysis we will perform on CNN models in Assignment 2."
      ],
      "metadata": {
        "id": "GAue3Yt0xA4K"
      }
    },
    {
      "cell_type": "markdown",
      "source": [
        "#### Build, Compile, Train, Evaluate"
      ],
      "metadata": {
        "id": "LT6S1AV5nWLy"
      }
    },
    {
      "cell_type": "code",
      "source": [
        "## Experiment 1 - 1 unit, 10 output units\n",
        "## Build model\n",
        "\n",
        "model_1 = Sequential([\n",
        "    Dense(input_shape=[784], units=1, activation = tf.nn.relu,kernel_regularizer=tf.keras.regularizers.L2(0.001)),\n",
        "    Dense(name = \"output_layer\", units = 10, activation = tf.nn.softmax)\n",
        "])\n",
        "\n",
        "print(model_1.summary())"
      ],
      "metadata": {
        "colab": {
          "base_uri": "https://localhost:8080/"
        },
        "id": "TI349MCDyoRK",
        "outputId": "af9b3a33-d949-4d64-bcb2-1c9e5e19b5b6"
      },
      "execution_count": 31,
      "outputs": [
        {
          "output_type": "stream",
          "name": "stdout",
          "text": [
            "Model: \"sequential_1\"\n",
            "_________________________________________________________________\n",
            " Layer (type)                Output Shape              Param #   \n",
            "=================================================================\n",
            " dense_1 (Dense)             (None, 1)                 785       \n",
            "                                                                 \n",
            " output_layer (Dense)        (None, 10)                20        \n",
            "                                                                 \n",
            "=================================================================\n",
            "Total params: 805\n",
            "Trainable params: 805\n",
            "Non-trainable params: 0\n",
            "_________________________________________________________________\n",
            "None\n"
          ]
        }
      ]
    },
    {
      "cell_type": "code",
      "source": [
        "## Compile\n",
        "\n",
        "model_1.compile(optimizer='rmsprop',           \n",
        "               loss = 'categorical_crossentropy',\n",
        "               metrics=['accuracy'])"
      ],
      "metadata": {
        "id": "Bdqj0y0sxEwa"
      },
      "execution_count": 32,
      "outputs": []
    },
    {
      "cell_type": "code",
      "source": [
        "## Train \n",
        "\n",
        "history_1 = model_1.fit(\n",
        "    x_train_norm\n",
        "    ,y_train_encoded\n",
        "    ,epochs = 200\n",
        "    ,validation_split=0.083 # 5,000 (of 60,000) for validation\n",
        "    ,callbacks=[tf.keras.callbacks.ModelCheckpoint(\"DNN_model.h5\",save_best_only=True,save_weights_only=False)\n",
        "                ,tf.keras.callbacks.EarlyStopping(monitor='val_accuracy', patience=2)] \n",
        "    )"
      ],
      "metadata": {
        "colab": {
          "base_uri": "https://localhost:8080/"
        },
        "id": "win06BggH60C",
        "outputId": "b620db35-4423-49e4-e00a-c115c4465dc2"
      },
      "execution_count": 33,
      "outputs": [
        {
          "output_type": "stream",
          "name": "stdout",
          "text": [
            "Epoch 1/200\n",
            "1720/1720 [==============================] - 7s 4ms/step - loss: 1.9922 - accuracy: 0.2010 - val_loss: 1.8482 - val_accuracy: 0.2530\n",
            "Epoch 2/200\n",
            "1720/1720 [==============================] - 6s 3ms/step - loss: 1.8205 - accuracy: 0.2736 - val_loss: 1.7631 - val_accuracy: 0.3143\n",
            "Epoch 3/200\n",
            "1720/1720 [==============================] - 6s 3ms/step - loss: 1.7663 - accuracy: 0.3028 - val_loss: 1.7267 - val_accuracy: 0.3211\n",
            "Epoch 4/200\n",
            "1720/1720 [==============================] - 6s 3ms/step - loss: 1.7426 - accuracy: 0.3192 - val_loss: 1.7144 - val_accuracy: 0.3388\n",
            "Epoch 5/200\n",
            "1720/1720 [==============================] - 6s 3ms/step - loss: 1.7284 - accuracy: 0.3263 - val_loss: 1.7113 - val_accuracy: 0.3153\n",
            "Epoch 6/200\n",
            "1720/1720 [==============================] - 6s 3ms/step - loss: 1.7170 - accuracy: 0.3370 - val_loss: 1.6817 - val_accuracy: 0.3476\n",
            "Epoch 7/200\n",
            "1720/1720 [==============================] - 6s 3ms/step - loss: 1.7058 - accuracy: 0.3441 - val_loss: 1.6728 - val_accuracy: 0.3538\n",
            "Epoch 8/200\n",
            "1720/1720 [==============================] - 6s 3ms/step - loss: 1.6968 - accuracy: 0.3486 - val_loss: 1.6624 - val_accuracy: 0.3687\n",
            "Epoch 9/200\n",
            "1720/1720 [==============================] - 6s 3ms/step - loss: 1.6891 - accuracy: 0.3513 - val_loss: 1.6525 - val_accuracy: 0.3572\n",
            "Epoch 10/200\n",
            "1720/1720 [==============================] - 6s 3ms/step - loss: 1.6820 - accuracy: 0.3514 - val_loss: 1.6423 - val_accuracy: 0.3580\n"
          ]
        }
      ]
    },
    {
      "cell_type": "code",
      "source": [
        "## Evaluate\n",
        "\n",
        "model_1 = tf.keras.models.load_model(\"DNN_model.h5\")\n",
        "print(f\"Test acc: {model_1.evaluate(x_test_norm, y_test_encoded)[1]:.3f}\")"
      ],
      "metadata": {
        "colab": {
          "base_uri": "https://localhost:8080/"
        },
        "id": "IS2ur3B6Iz9c",
        "outputId": "20d2d2f0-99b9-4ca4-caf8-2b21dee549a0"
      },
      "execution_count": 34,
      "outputs": [
        {
          "output_type": "stream",
          "name": "stdout",
          "text": [
            "313/313 [==============================] - 1s 2ms/step - loss: 1.6682 - accuracy: 0.3629\n",
            "Test acc: 0.363\n"
          ]
        }
      ]
    },
    {
      "cell_type": "markdown",
      "source": [
        "#### Activation Layer"
      ],
      "metadata": {
        "id": "jkRG0UUJnIE_"
      }
    },
    {
      "cell_type": "code",
      "execution_count": 35,
      "metadata": {
        "colab": {
          "base_uri": "https://localhost:8080/"
        },
        "outputId": "cb24a131-4ee2-45b3-af5c-2e03a84326ca",
        "id": "xCFOkhLnAD0z"
      },
      "outputs": [
        {
          "output_type": "stream",
          "name": "stdout",
          "text": [
            "There are 2 layers\n"
          ]
        }
      ],
      "source": [
        "# Extracts the outputs of the 2 layers:\n",
        "layer_outputs_1 = [layer.output for layer in model_1.layers]\n",
        "\n",
        "# Creates a model that will return these outputs, given the model input:\n",
        "activation_model_1 = models.Model(inputs=model_1.input, outputs=layer_outputs_1)\n",
        "\n",
        "print(f\"There are {len(layer_outputs_1)} layers\")\n",
        "layer_outputs_1; # description of the layers"
      ]
    },
    {
      "cell_type": "code",
      "execution_count": 36,
      "metadata": {
        "colab": {
          "base_uri": "https://localhost:8080/"
        },
        "outputId": "c2f6ca31-9bec-4f52-af61-22a6458dadd5",
        "id": "Ws1wfGFWAD00"
      },
      "outputs": [
        {
          "output_type": "execute_result",
          "data": {
            "text/plain": [
              "(60000, 1)"
            ]
          },
          "metadata": {},
          "execution_count": 36
        }
      ],
      "source": [
        "# Get the outputs of all the hidden nodes for each of the 60000 training images\n",
        "activations_1 = activation_model_1.predict(x_train_norm)\n",
        "hidden_layer_activation_1 = activations_1[0]\n",
        "output_layer_activations_1 = activations_1[1]\n",
        "hidden_layer_activation_1.shape   #  each of the 128 hidden nodes has one activation value per training image"
      ]
    },
    {
      "cell_type": "code",
      "execution_count": 37,
      "metadata": {
        "colab": {
          "base_uri": "https://localhost:8080/"
        },
        "outputId": "c20e4fe8-80ba-4b57-e788-0245ea6f84d8",
        "id": "unqdqqeoAD00"
      },
      "outputs": [
        {
          "output_type": "execute_result",
          "data": {
            "text/plain": [
              "(60000, 10)"
            ]
          },
          "metadata": {},
          "execution_count": 37
        }
      ],
      "source": [
        "output_layer_activations_1.shape"
      ]
    },
    {
      "cell_type": "code",
      "execution_count": 38,
      "metadata": {
        "colab": {
          "base_uri": "https://localhost:8080/"
        },
        "outputId": "c0c1cbe6-fb4f-40bd-c512-24a6ebf29553",
        "id": "Z81fHSFWAD00"
      },
      "outputs": [
        {
          "output_type": "stream",
          "name": "stdout",
          "text": [
            "The maximum activation value of the hidden nodes in the hidden layer is 15.576287269592285\n"
          ]
        }
      ],
      "source": [
        "print(f\"The maximum activation value of the hidden nodes in the hidden layer is \\\n",
        "{hidden_layer_activation_1.max()}\")"
      ]
    },
    {
      "cell_type": "code",
      "execution_count": 39,
      "metadata": {
        "colab": {
          "base_uri": "https://localhost:8080/"
        },
        "outputId": "1a23c46c-3d48-41dd-b1f2-e673dab448ea",
        "id": "X4MOIZpHAD00"
      },
      "outputs": [
        {
          "output_type": "stream",
          "name": "stdout",
          "text": [
            "The output node has shape (60000, 10)\n",
            "The output for the first image are [0.024 0.225 0.073 0.15  0.    0.156 0.15  0.022 0.2   0.   ]\n",
            "The sum of the probabilities is (approximately) 1.0\n"
          ]
        }
      ],
      "source": [
        "# Some stats about the output layer as an aside...\n",
        "np.set_printoptions(suppress = True)  # display probabilities as decimals and NOT in scientific notation\n",
        "ouput_layer_activation_1 = activations_1[1]\n",
        "print(f\"The output node has shape {ouput_layer_activation_1.shape}\")\n",
        "print(f\"The output for the first image are {ouput_layer_activation_1[0].round(4)}\")\n",
        "print(f\"The sum of the probabilities is (approximately) {ouput_layer_activation_1[0].sum()}\")"
      ]
    },
    {
      "cell_type": "code",
      "source": [
        "#Get the dataframe of all the node values\n",
        "activation_data_1 = {'actual_class':y_train}\n",
        "for k in range(0,1): \n",
        "    activation_data_1[f\"act_val_{k}\"] = hidden_layer_activation_1[:,k]\n",
        "\n",
        "activation_df_1 = pd.DataFrame(activation_data_1)\n",
        "activation_df_1.head(15).round(3).T"
      ],
      "metadata": {
        "colab": {
          "base_uri": "https://localhost:8080/",
          "height": 112
        },
        "id": "-Kothc-GHc5Z",
        "outputId": "143e9963-785d-4ad0-df50-76d913928176"
      },
      "execution_count": 40,
      "outputs": [
        {
          "output_type": "execute_result",
          "data": {
            "text/plain": [
              "                0    1    2      3    4      5      6      7      8    9   \\\n",
              "actual_class  5.00  0.0  4.0  1.000  9.0  2.000  1.000  3.000  1.000  4.0   \n",
              "act_val_0     2.43  0.0  0.2  3.386  0.0  3.023  4.089  3.967  3.289  0.0   \n",
              "\n",
              "                 10     11     12     13     14  \n",
              "actual_class  3.000  5.000  3.000  6.000  1.000  \n",
              "act_val_0     4.082  3.171  5.574  0.788  3.582  "
            ],
            "text/html": [
              "\n",
              "  <div id=\"df-f8ba3611-ce40-4bcf-8a28-54c54ec442d1\">\n",
              "    <div class=\"colab-df-container\">\n",
              "      <div>\n",
              "<style scoped>\n",
              "    .dataframe tbody tr th:only-of-type {\n",
              "        vertical-align: middle;\n",
              "    }\n",
              "\n",
              "    .dataframe tbody tr th {\n",
              "        vertical-align: top;\n",
              "    }\n",
              "\n",
              "    .dataframe thead th {\n",
              "        text-align: right;\n",
              "    }\n",
              "</style>\n",
              "<table border=\"1\" class=\"dataframe\">\n",
              "  <thead>\n",
              "    <tr style=\"text-align: right;\">\n",
              "      <th></th>\n",
              "      <th>0</th>\n",
              "      <th>1</th>\n",
              "      <th>2</th>\n",
              "      <th>3</th>\n",
              "      <th>4</th>\n",
              "      <th>5</th>\n",
              "      <th>6</th>\n",
              "      <th>7</th>\n",
              "      <th>8</th>\n",
              "      <th>9</th>\n",
              "      <th>10</th>\n",
              "      <th>11</th>\n",
              "      <th>12</th>\n",
              "      <th>13</th>\n",
              "      <th>14</th>\n",
              "    </tr>\n",
              "  </thead>\n",
              "  <tbody>\n",
              "    <tr>\n",
              "      <th>actual_class</th>\n",
              "      <td>5.00</td>\n",
              "      <td>0.0</td>\n",
              "      <td>4.0</td>\n",
              "      <td>1.000</td>\n",
              "      <td>9.0</td>\n",
              "      <td>2.000</td>\n",
              "      <td>1.000</td>\n",
              "      <td>3.000</td>\n",
              "      <td>1.000</td>\n",
              "      <td>4.0</td>\n",
              "      <td>3.000</td>\n",
              "      <td>5.000</td>\n",
              "      <td>3.000</td>\n",
              "      <td>6.000</td>\n",
              "      <td>1.000</td>\n",
              "    </tr>\n",
              "    <tr>\n",
              "      <th>act_val_0</th>\n",
              "      <td>2.43</td>\n",
              "      <td>0.0</td>\n",
              "      <td>0.2</td>\n",
              "      <td>3.386</td>\n",
              "      <td>0.0</td>\n",
              "      <td>3.023</td>\n",
              "      <td>4.089</td>\n",
              "      <td>3.967</td>\n",
              "      <td>3.289</td>\n",
              "      <td>0.0</td>\n",
              "      <td>4.082</td>\n",
              "      <td>3.171</td>\n",
              "      <td>5.574</td>\n",
              "      <td>0.788</td>\n",
              "      <td>3.582</td>\n",
              "    </tr>\n",
              "  </tbody>\n",
              "</table>\n",
              "</div>\n",
              "      <button class=\"colab-df-convert\" onclick=\"convertToInteractive('df-f8ba3611-ce40-4bcf-8a28-54c54ec442d1')\"\n",
              "              title=\"Convert this dataframe to an interactive table.\"\n",
              "              style=\"display:none;\">\n",
              "        \n",
              "  <svg xmlns=\"http://www.w3.org/2000/svg\" height=\"24px\"viewBox=\"0 0 24 24\"\n",
              "       width=\"24px\">\n",
              "    <path d=\"M0 0h24v24H0V0z\" fill=\"none\"/>\n",
              "    <path d=\"M18.56 5.44l.94 2.06.94-2.06 2.06-.94-2.06-.94-.94-2.06-.94 2.06-2.06.94zm-11 1L8.5 8.5l.94-2.06 2.06-.94-2.06-.94L8.5 2.5l-.94 2.06-2.06.94zm10 10l.94 2.06.94-2.06 2.06-.94-2.06-.94-.94-2.06-.94 2.06-2.06.94z\"/><path d=\"M17.41 7.96l-1.37-1.37c-.4-.4-.92-.59-1.43-.59-.52 0-1.04.2-1.43.59L10.3 9.45l-7.72 7.72c-.78.78-.78 2.05 0 2.83L4 21.41c.39.39.9.59 1.41.59.51 0 1.02-.2 1.41-.59l7.78-7.78 2.81-2.81c.8-.78.8-2.07 0-2.86zM5.41 20L4 18.59l7.72-7.72 1.47 1.35L5.41 20z\"/>\n",
              "  </svg>\n",
              "      </button>\n",
              "      \n",
              "  <style>\n",
              "    .colab-df-container {\n",
              "      display:flex;\n",
              "      flex-wrap:wrap;\n",
              "      gap: 12px;\n",
              "    }\n",
              "\n",
              "    .colab-df-convert {\n",
              "      background-color: #E8F0FE;\n",
              "      border: none;\n",
              "      border-radius: 50%;\n",
              "      cursor: pointer;\n",
              "      display: none;\n",
              "      fill: #1967D2;\n",
              "      height: 32px;\n",
              "      padding: 0 0 0 0;\n",
              "      width: 32px;\n",
              "    }\n",
              "\n",
              "    .colab-df-convert:hover {\n",
              "      background-color: #E2EBFA;\n",
              "      box-shadow: 0px 1px 2px rgba(60, 64, 67, 0.3), 0px 1px 3px 1px rgba(60, 64, 67, 0.15);\n",
              "      fill: #174EA6;\n",
              "    }\n",
              "\n",
              "    [theme=dark] .colab-df-convert {\n",
              "      background-color: #3B4455;\n",
              "      fill: #D2E3FC;\n",
              "    }\n",
              "\n",
              "    [theme=dark] .colab-df-convert:hover {\n",
              "      background-color: #434B5C;\n",
              "      box-shadow: 0px 1px 3px 1px rgba(0, 0, 0, 0.15);\n",
              "      filter: drop-shadow(0px 1px 2px rgba(0, 0, 0, 0.3));\n",
              "      fill: #FFFFFF;\n",
              "    }\n",
              "  </style>\n",
              "\n",
              "      <script>\n",
              "        const buttonEl =\n",
              "          document.querySelector('#df-f8ba3611-ce40-4bcf-8a28-54c54ec442d1 button.colab-df-convert');\n",
              "        buttonEl.style.display =\n",
              "          google.colab.kernel.accessAllowed ? 'block' : 'none';\n",
              "\n",
              "        async function convertToInteractive(key) {\n",
              "          const element = document.querySelector('#df-f8ba3611-ce40-4bcf-8a28-54c54ec442d1');\n",
              "          const dataTable =\n",
              "            await google.colab.kernel.invokeFunction('convertToInteractive',\n",
              "                                                     [key], {});\n",
              "          if (!dataTable) return;\n",
              "\n",
              "          const docLinkHtml = 'Like what you see? Visit the ' +\n",
              "            '<a target=\"_blank\" href=https://colab.research.google.com/notebooks/data_table.ipynb>data table notebook</a>'\n",
              "            + ' to learn more about interactive tables.';\n",
              "          element.innerHTML = '';\n",
              "          dataTable['output_type'] = 'display_data';\n",
              "          await google.colab.output.renderOutput(dataTable, element);\n",
              "          const docLink = document.createElement('div');\n",
              "          docLink.innerHTML = docLinkHtml;\n",
              "          element.appendChild(docLink);\n",
              "        }\n",
              "      </script>\n",
              "    </div>\n",
              "  </div>\n",
              "  "
            ]
          },
          "metadata": {},
          "execution_count": 40
        }
      ]
    },
    {
      "cell_type": "markdown",
      "source": [
        "### Visualization"
      ],
      "metadata": {
        "id": "PPjthk5onQde"
      }
    },
    {
      "cell_type": "markdown",
      "source": [
        "#### Boxplot"
      ],
      "metadata": {
        "id": "q_nGbacWm9fi"
      }
    },
    {
      "cell_type": "code",
      "source": [
        "# To see how closely the hidden node activation values correlate with the class labels\n",
        "# Let us use seaborn for the boxplots this time.\n",
        "bplot_1 = sns.boxplot(y='act_val_0', x='actual_class', \n",
        "                 data=activation_df_1[['act_val_0','actual_class']], \n",
        "                 width=0.5,\n",
        "                 palette=\"colorblind\")"
      ],
      "metadata": {
        "colab": {
          "base_uri": "https://localhost:8080/",
          "height": 280
        },
        "id": "o2sYNhnkEf7w",
        "outputId": "44790312-1d52-4480-9aad-7ca06625ebcb"
      },
      "execution_count": 41,
      "outputs": [
        {
          "output_type": "display_data",
          "data": {
            "text/plain": [
              "<Figure size 432x288 with 1 Axes>"
            ],
            "image/png": "[encoded data removed]"
          },
          "metadata": {
            "needs_background": "light"
          }
        }
      ]
    },
    {
      "cell_type": "markdown",
      "source": [
        "#### Confusion Matrix"
      ],
      "metadata": {
        "id": "rwqdc7sbm0HI"
      }
    },
    {
      "cell_type": "code",
      "source": [
        "# Get the predicted classes:\n",
        "pred_classes = np.argmax(model_1.predict(x_test_norm), axis=-1)\n",
        "pred_classes;"
      ],
      "metadata": {
        "id": "TWtfzqJRjrjL"
      },
      "execution_count": 42,
      "outputs": []
    },
    {
      "cell_type": "code",
      "source": [
        "conf_mx = tf.math.confusion_matrix(y_test, pred_classes)\n",
        "conf_mx;"
      ],
      "metadata": {
        "id": "2utEawpijrjN"
      },
      "execution_count": 43,
      "outputs": []
    },
    {
      "cell_type": "code",
      "source": [
        "plot_confusion_matrix(y_test,pred_classes)"
      ],
      "metadata": {
        "colab": {
          "base_uri": "https://localhost:8080/",
          "height": 497
        },
        "id": "rxTkng0EdlvX",
        "outputId": "a7cf72a2-58ea-498c-97eb-16dac9bf7554"
      },
      "execution_count": 44,
      "outputs": [
        {
          "output_type": "display_data",
          "data": {
            "text/plain": [
              "<Figure size 576x576 with 1 Axes>"
            ],
            "image/png": "[encoded data removed]"
          },
          "metadata": {
            "needs_background": "light"
          }
        }
      ]
    },
    {
      "cell_type": "markdown",
      "source": [
        "# Experiment 2\n",
        "This time our dense neural network will have 784 input nodes, a hidden layer with 2 nodes and 10 output nodes (corresponding to the 10 digits). \n",
        "\n",
        "For each of the 60,000 images, the output of the two hidden nodes are plotted using a scatterplot. \n",
        "\n",
        "We color code the points according to which of the 10 classes the the output of the two nodes predicts. Ideally, just like in EXPERIMENT 1, the color clusters should have very little overlap. \n",
        "\n",
        "Also compare the accuracy % & confusion matrix of Experiments 1 & 2. Again, the goal is to get more insights."
      ],
      "metadata": {
        "id": "gR2Sy8WoJFnB"
      }
    },
    {
      "cell_type": "markdown",
      "source": [
        "####Build, Compile, Train, Evaluate"
      ],
      "metadata": {
        "id": "is5tHONUmoiJ"
      }
    },
    {
      "cell_type": "code",
      "source": [
        "## Experiment 2 - 2 unit, 10 output units\n",
        "## Build model\n",
        "\n",
        "model_2 = Sequential([\n",
        "    Dense(input_shape=[784], units=2, activation = tf.nn.relu,kernel_regularizer=tf.keras.regularizers.L2(0.001)),\n",
        "    Dense(name = \"output_layer\", units = 10, activation = tf.nn.softmax)\n",
        "])\n",
        "\n",
        "print(model_2.summary())"
      ],
      "metadata": {
        "colab": {
          "base_uri": "https://localhost:8080/"
        },
        "outputId": "f22a1f4a-5032-4fa6-f04c-6cd491ea64aa",
        "id": "uZQqgZqQJFnB"
      },
      "execution_count": 45,
      "outputs": [
        {
          "output_type": "stream",
          "name": "stdout",
          "text": [
            "Model: \"sequential_2\"\n",
            "_________________________________________________________________\n",
            " Layer (type)                Output Shape              Param #   \n",
            "=================================================================\n",
            " dense_2 (Dense)             (None, 2)                 1570      \n",
            "                                                                 \n",
            " output_layer (Dense)        (None, 10)                30        \n",
            "                                                                 \n",
            "=================================================================\n",
            "Total params: 1,600\n",
            "Trainable params: 1,600\n",
            "Non-trainable params: 0\n",
            "_________________________________________________________________\n",
            "None\n"
          ]
        }
      ]
    },
    {
      "cell_type": "code",
      "source": [
        "## Compile\n",
        "\n",
        "model_2.compile(optimizer='rmsprop',           \n",
        "               loss = 'categorical_crossentropy',\n",
        "               metrics=['accuracy'])"
      ],
      "metadata": {
        "id": "Lq0rv6OHJFnC"
      },
      "execution_count": 46,
      "outputs": []
    },
    {
      "cell_type": "code",
      "source": [
        "## Train \n",
        "\n",
        "history_2 = model_2.fit(\n",
        "    x_train_norm\n",
        "    ,y_train_encoded\n",
        "    ,epochs = 200\n",
        "    ,validation_split=0.083 # 5,000 (of 60,000) for validation\n",
        "    ,callbacks=[tf.keras.callbacks.ModelCheckpoint(\"DNN_model.h5\",save_best_only=True,save_weights_only=False)\n",
        "                ,tf.keras.callbacks.EarlyStopping(monitor='val_accuracy', patience=2)] \n",
        "    )"
      ],
      "metadata": {
        "colab": {
          "base_uri": "https://localhost:8080/"
        },
        "outputId": "514567d8-c1bd-43b3-e2cf-c90a13b01d2a",
        "id": "1fuA3-E9JFnC"
      },
      "execution_count": 47,
      "outputs": [
        {
          "output_type": "stream",
          "name": "stdout",
          "text": [
            "Epoch 1/200\n",
            "1720/1720 [==============================] - 6s 3ms/step - loss: 1.5802 - accuracy: 0.4477 - val_loss: 1.2945 - val_accuracy: 0.5653\n",
            "Epoch 2/200\n",
            "1720/1720 [==============================] - 6s 3ms/step - loss: 1.2847 - accuracy: 0.5650 - val_loss: 1.1783 - val_accuracy: 0.6054\n",
            "Epoch 3/200\n",
            "1720/1720 [==============================] - 6s 3ms/step - loss: 1.2113 - accuracy: 0.6037 - val_loss: 1.1037 - val_accuracy: 0.6490\n",
            "Epoch 4/200\n",
            "1720/1720 [==============================] - 6s 3ms/step - loss: 1.1639 - accuracy: 0.6264 - val_loss: 1.0608 - val_accuracy: 0.6701\n",
            "Epoch 5/200\n",
            "1720/1720 [==============================] - 6s 3ms/step - loss: 1.1308 - accuracy: 0.6391 - val_loss: 1.0334 - val_accuracy: 0.6767\n",
            "Epoch 6/200\n",
            "1720/1720 [==============================] - 6s 3ms/step - loss: 1.1065 - accuracy: 0.6469 - val_loss: 1.0200 - val_accuracy: 0.6773\n",
            "Epoch 7/200\n",
            "1720/1720 [==============================] - 6s 3ms/step - loss: 1.0885 - accuracy: 0.6511 - val_loss: 0.9850 - val_accuracy: 0.6884\n",
            "Epoch 8/200\n",
            "1720/1720 [==============================] - 6s 3ms/step - loss: 1.0740 - accuracy: 0.6541 - val_loss: 0.9832 - val_accuracy: 0.6855\n",
            "Epoch 9/200\n",
            "1720/1720 [==============================] - 6s 3ms/step - loss: 1.0623 - accuracy: 0.6489 - val_loss: 0.9612 - val_accuracy: 0.6629\n"
          ]
        }
      ]
    },
    {
      "cell_type": "code",
      "source": [
        "## Evaluate\n",
        "\n",
        "model_2 = tf.keras.models.load_model(\"DNN_model.h5\")\n",
        "print(f\"Test acc: {model_2.evaluate(x_test_norm, y_test_encoded)[1]:.3f}\")"
      ],
      "metadata": {
        "colab": {
          "base_uri": "https://localhost:8080/"
        },
        "outputId": "91f29364-81bb-41ec-f3bf-fde8870add25",
        "id": "7wkXlie1JFnC"
      },
      "execution_count": 48,
      "outputs": [
        {
          "output_type": "stream",
          "name": "stdout",
          "text": [
            "313/313 [==============================] - 1s 3ms/step - loss: 1.0419 - accuracy: 0.6409\n",
            "Test acc: 0.641\n"
          ]
        }
      ]
    },
    {
      "cell_type": "markdown",
      "source": [
        "####Activation Layer"
      ],
      "metadata": {
        "id": "pCpksAjSNMFZ"
      }
    },
    {
      "cell_type": "code",
      "execution_count": 49,
      "metadata": {
        "colab": {
          "base_uri": "https://localhost:8080/"
        },
        "outputId": "5382c12c-265c-4f4e-97a1-c88af5c87d4a",
        "id": "qcle8Lf8JFnC"
      },
      "outputs": [
        {
          "output_type": "stream",
          "name": "stdout",
          "text": [
            "There are 2 layers\n"
          ]
        }
      ],
      "source": [
        "# Extracts the outputs of the 2 layers:\n",
        "layer_outputs_2 = [layer.output for layer in model_2.layers]\n",
        "\n",
        "# Creates a model that will return these outputs, given the model input:\n",
        "activation_model_2 = models.Model(inputs=model_2.input, outputs=layer_outputs_2)\n",
        "\n",
        "print(f\"There are {len(layer_outputs_2)} layers\")\n",
        "layer_outputs_2; # description of the layers"
      ]
    },
    {
      "cell_type": "code",
      "execution_count": 50,
      "metadata": {
        "colab": {
          "base_uri": "https://localhost:8080/"
        },
        "outputId": "f3c0e3c8-dfa1-4a8b-a4d8-ae489aff00fe",
        "id": "C-OumSxZJFnC"
      },
      "outputs": [
        {
          "output_type": "execute_result",
          "data": {
            "text/plain": [
              "(60000, 2)"
            ]
          },
          "metadata": {},
          "execution_count": 50
        }
      ],
      "source": [
        "# Get the outputs of all the hidden nodes for each of the 60000 training images\n",
        "activations_2 = activation_model_2.predict(x_train_norm)\n",
        "hidden_layer_activation_2 = activations_2[0]\n",
        "output_layer_activations_2 = activations_2[1]\n",
        "hidden_layer_activation_2.shape   #  each of the 128 hidden nodes has one activation value per training image"
      ]
    },
    {
      "cell_type": "code",
      "execution_count": 51,
      "metadata": {
        "colab": {
          "base_uri": "https://localhost:8080/"
        },
        "outputId": "c251e62c-b30d-4fe7-a02c-98f075d10390",
        "id": "XD7nTLDKJFnC"
      },
      "outputs": [
        {
          "output_type": "execute_result",
          "data": {
            "text/plain": [
              "(60000, 10)"
            ]
          },
          "metadata": {},
          "execution_count": 51
        }
      ],
      "source": [
        "output_layer_activations_2.shape"
      ]
    },
    {
      "cell_type": "code",
      "execution_count": 52,
      "metadata": {
        "colab": {
          "base_uri": "https://localhost:8080/"
        },
        "outputId": "fb30daa0-ee1b-468b-a88c-8cc47f741e07",
        "id": "yCUBkEojJFnC"
      },
      "outputs": [
        {
          "output_type": "stream",
          "name": "stdout",
          "text": [
            "The maximum activation value of the hidden nodes in the hidden layer is 17.787452697753906\n"
          ]
        }
      ],
      "source": [
        "print(f\"The maximum activation value of the hidden nodes in the hidden layer is \\\n",
        "{hidden_layer_activation_2.max()}\")"
      ]
    },
    {
      "cell_type": "code",
      "execution_count": 53,
      "metadata": {
        "colab": {
          "base_uri": "https://localhost:8080/"
        },
        "outputId": "da4fcd9b-5c29-4c1d-d34e-337a2b0dc6aa",
        "id": "AfSu2YmJJFnC"
      },
      "outputs": [
        {
          "output_type": "stream",
          "name": "stdout",
          "text": [
            "The output node has shape (60000, 10)\n",
            "The output for the first image are [0.584 0.    0.011 0.275 0.    0.107 0.    0.013 0.009 0.001]\n",
            "The sum of the probabilities is (approximately) 1.0\n"
          ]
        }
      ],
      "source": [
        "# Some stats about the output layer as an aside...\n",
        "np.set_printoptions(suppress = True)  # display probabilities as decimals and NOT in scientific notation\n",
        "ouput_layer_activation_2 = activations_2[1]\n",
        "print(f\"The output node has shape {ouput_layer_activation_2.shape}\")\n",
        "print(f\"The output for the first image are {ouput_layer_activation_2[0].round(4)}\")\n",
        "print(f\"The sum of the probabilities is (approximately) {ouput_layer_activation_2[0].sum()}\")"
      ]
    },
    {
      "cell_type": "code",
      "source": [
        "#Get the dataframe of all the node values\n",
        "activation_data_2 = {'actual_class':y_train}\n",
        "for k in range(0,2): \n",
        "    activation_data_2[f\"act_val_{k}\"] = hidden_layer_activation_2[:,k]\n",
        "\n",
        "activation_df_2 = pd.DataFrame(activation_data_2)\n",
        "activation_df_2.head(15).round(3).T"
      ],
      "metadata": {
        "colab": {
          "base_uri": "https://localhost:8080/",
          "height": 143
        },
        "outputId": "04b3f087-3e2e-4767-fdac-918e8e6b2f58",
        "id": "B0O34f1JJFnC"
      },
      "execution_count": 54,
      "outputs": [
        {
          "output_type": "execute_result",
          "data": {
            "text/plain": [
              "                0      1      2      3      4      5      6      7      8   \\\n",
              "actual_class  5.00  0.000  4.000  1.000  9.000  2.000  1.000  3.000  1.000   \n",
              "act_val_0     0.00  0.205  4.094  2.713  7.504  0.000  3.032  1.092  3.004   \n",
              "act_val_1     3.96  6.797  2.676  0.000  6.451  1.733  0.000  3.382  0.000   \n",
              "\n",
              "                 9      10     11     12     13    14  \n",
              "actual_class  4.000  3.000  5.000  3.000  6.000  1.00  \n",
              "act_val_0     4.963  1.188  0.638  0.000  1.232  2.94  \n",
              "act_val_1     2.367  4.318  1.047  2.318  0.000  0.00  "
            ],
            "text/html": [
              "\n",
              "  <div id=\"df-0e6da9bd-03ed-4a44-9236-c88d4c884ba9\">\n",
              "    <div class=\"colab-df-container\">\n",
              "      <div>\n",
              "<style scoped>\n",
              "    .dataframe tbody tr th:only-of-type {\n",
              "        vertical-align: middle;\n",
              "    }\n",
              "\n",
              "    .dataframe tbody tr th {\n",
              "        vertical-align: top;\n",
              "    }\n",
              "\n",
              "    .dataframe thead th {\n",
              "        text-align: right;\n",
              "    }\n",
              "</style>\n",
              "<table border=\"1\" class=\"dataframe\">\n",
              "  <thead>\n",
              "    <tr style=\"text-align: right;\">\n",
              "      <th></th>\n",
              "      <th>0</th>\n",
              "      <th>1</th>\n",
              "      <th>2</th>\n",
              "      <th>3</th>\n",
              "      <th>4</th>\n",
              "      <th>5</th>\n",
              "      <th>6</th>\n",
              "      <th>7</th>\n",
              "      <th>8</th>\n",
              "      <th>9</th>\n",
              "      <th>10</th>\n",
              "      <th>11</th>\n",
              "      <th>12</th>\n",
              "      <th>13</th>\n",
              "      <th>14</th>\n",
              "    </tr>\n",
              "  </thead>\n",
              "  <tbody>\n",
              "    <tr>\n",
              "      <th>actual_class</th>\n",
              "      <td>5.00</td>\n",
              "      <td>0.000</td>\n",
              "      <td>4.000</td>\n",
              "      <td>1.000</td>\n",
              "      <td>9.000</td>\n",
              "      <td>2.000</td>\n",
              "      <td>1.000</td>\n",
              "      <td>3.000</td>\n",
              "      <td>1.000</td>\n",
              "      <td>4.000</td>\n",
              "      <td>3.000</td>\n",
              "      <td>5.000</td>\n",
              "      <td>3.000</td>\n",
              "      <td>6.000</td>\n",
              "      <td>1.00</td>\n",
              "    </tr>\n",
              "    <tr>\n",
              "      <th>act_val_0</th>\n",
              "      <td>0.00</td>\n",
              "      <td>0.205</td>\n",
              "      <td>4.094</td>\n",
              "      <td>2.713</td>\n",
              "      <td>7.504</td>\n",
              "      <td>0.000</td>\n",
              "      <td>3.032</td>\n",
              "      <td>1.092</td>\n",
              "      <td>3.004</td>\n",
              "      <td>4.963</td>\n",
              "      <td>1.188</td>\n",
              "      <td>0.638</td>\n",
              "      <td>0.000</td>\n",
              "      <td>1.232</td>\n",
              "      <td>2.94</td>\n",
              "    </tr>\n",
              "    <tr>\n",
              "      <th>act_val_1</th>\n",
              "      <td>3.96</td>\n",
              "      <td>6.797</td>\n",
              "      <td>2.676</td>\n",
              "      <td>0.000</td>\n",
              "      <td>6.451</td>\n",
              "      <td>1.733</td>\n",
              "      <td>0.000</td>\n",
              "      <td>3.382</td>\n",
              "      <td>0.000</td>\n",
              "      <td>2.367</td>\n",
              "      <td>4.318</td>\n",
              "      <td>1.047</td>\n",
              "      <td>2.318</td>\n",
              "      <td>0.000</td>\n",
              "      <td>0.00</td>\n",
              "    </tr>\n",
              "  </tbody>\n",
              "</table>\n",
              "</div>\n",
              "      <button class=\"colab-df-convert\" onclick=\"convertToInteractive('df-0e6da9bd-03ed-4a44-9236-c88d4c884ba9')\"\n",
              "              title=\"Convert this dataframe to an interactive table.\"\n",
              "              style=\"display:none;\">\n",
              "        \n",
              "  <svg xmlns=\"http://www.w3.org/2000/svg\" height=\"24px\"viewBox=\"0 0 24 24\"\n",
              "       width=\"24px\">\n",
              "    <path d=\"M0 0h24v24H0V0z\" fill=\"none\"/>\n",
              "    <path d=\"M18.56 5.44l.94 2.06.94-2.06 2.06-.94-2.06-.94-.94-2.06-.94 2.06-2.06.94zm-11 1L8.5 8.5l.94-2.06 2.06-.94-2.06-.94L8.5 2.5l-.94 2.06-2.06.94zm10 10l.94 2.06.94-2.06 2.06-.94-2.06-.94-.94-2.06-.94 2.06-2.06.94z\"/><path d=\"M17.41 7.96l-1.37-1.37c-.4-.4-.92-.59-1.43-.59-.52 0-1.04.2-1.43.59L10.3 9.45l-7.72 7.72c-.78.78-.78 2.05 0 2.83L4 21.41c.39.39.9.59 1.41.59.51 0 1.02-.2 1.41-.59l7.78-7.78 2.81-2.81c.8-.78.8-2.07 0-2.86zM5.41 20L4 18.59l7.72-7.72 1.47 1.35L5.41 20z\"/>\n",
              "  </svg>\n",
              "      </button>\n",
              "      \n",
              "  <style>\n",
              "    .colab-df-container {\n",
              "      display:flex;\n",
              "      flex-wrap:wrap;\n",
              "      gap: 12px;\n",
              "    }\n",
              "\n",
              "    .colab-df-convert {\n",
              "      background-color: #E8F0FE;\n",
              "      border: none;\n",
              "      border-radius: 50%;\n",
              "      cursor: pointer;\n",
              "      display: none;\n",
              "      fill: #1967D2;\n",
              "      height: 32px;\n",
              "      padding: 0 0 0 0;\n",
              "      width: 32px;\n",
              "    }\n",
              "\n",
              "    .colab-df-convert:hover {\n",
              "      background-color: #E2EBFA;\n",
              "      box-shadow: 0px 1px 2px rgba(60, 64, 67, 0.3), 0px 1px 3px 1px rgba(60, 64, 67, 0.15);\n",
              "      fill: #174EA6;\n",
              "    }\n",
              "\n",
              "    [theme=dark] .colab-df-convert {\n",
              "      background-color: #3B4455;\n",
              "      fill: #D2E3FC;\n",
              "    }\n",
              "\n",
              "    [theme=dark] .colab-df-convert:hover {\n",
              "      background-color: #434B5C;\n",
              "      box-shadow: 0px 1px 3px 1px rgba(0, 0, 0, 0.15);\n",
              "      filter: drop-shadow(0px 1px 2px rgba(0, 0, 0, 0.3));\n",
              "      fill: #FFFFFF;\n",
              "    }\n",
              "  </style>\n",
              "\n",
              "      <script>\n",
              "        const buttonEl =\n",
              "          document.querySelector('#df-0e6da9bd-03ed-4a44-9236-c88d4c884ba9 button.colab-df-convert');\n",
              "        buttonEl.style.display =\n",
              "          google.colab.kernel.accessAllowed ? 'block' : 'none';\n",
              "\n",
              "        async function convertToInteractive(key) {\n",
              "          const element = document.querySelector('#df-0e6da9bd-03ed-4a44-9236-c88d4c884ba9');\n",
              "          const dataTable =\n",
              "            await google.colab.kernel.invokeFunction('convertToInteractive',\n",
              "                                                     [key], {});\n",
              "          if (!dataTable) return;\n",
              "\n",
              "          const docLinkHtml = 'Like what you see? Visit the ' +\n",
              "            '<a target=\"_blank\" href=https://colab.research.google.com/notebooks/data_table.ipynb>data table notebook</a>'\n",
              "            + ' to learn more about interactive tables.';\n",
              "          element.innerHTML = '';\n",
              "          dataTable['output_type'] = 'display_data';\n",
              "          await google.colab.output.renderOutput(dataTable, element);\n",
              "          const docLink = document.createElement('div');\n",
              "          docLink.innerHTML = docLinkHtml;\n",
              "          element.appendChild(docLink);\n",
              "        }\n",
              "      </script>\n",
              "    </div>\n",
              "  </div>\n",
              "  "
            ]
          },
          "metadata": {},
          "execution_count": 54
        }
      ]
    },
    {
      "cell_type": "markdown",
      "source": [
        "### Visualization\n"
      ],
      "metadata": {
        "id": "KjXZeX3Lozn5"
      }
    },
    {
      "cell_type": "markdown",
      "source": [
        "#### Boxplot"
      ],
      "metadata": {
        "id": "V9A_OdBkojtq"
      }
    },
    {
      "cell_type": "code",
      "source": [
        "# To see how closely the hidden node activation values correlate with the class labels\n",
        "# Let us use seaborn for the boxplots this time.\n",
        "bplot_2 = sns.boxplot(y='act_val_0', x='actual_class', \n",
        "                 data=activation_df_2[['act_val_0','actual_class']], \n",
        "                 width=0.5,\n",
        "                 palette=\"colorblind\")"
      ],
      "metadata": {
        "colab": {
          "base_uri": "https://localhost:8080/",
          "height": 282
        },
        "outputId": "fb2d58a5-7eaa-4575-dd1a-52ff4bd3d291",
        "id": "p8XDgS5Pojtr"
      },
      "execution_count": 55,
      "outputs": [
        {
          "output_type": "display_data",
          "data": {
            "text/plain": [
              "<Figure size 432x288 with 1 Axes>"
            ],
            "image/png": "[encoded data removed]"
          },
          "metadata": {
            "needs_background": "light"
          }
        }
      ]
    },
    {
      "cell_type": "code",
      "source": [
        "# To see how closely the hidden node activation values correlate with the class labels\n",
        "# Let us use seaborn for the boxplots this time.\n",
        "bplot_2 = sns.boxplot(y='act_val_1', x='actual_class', \n",
        "                 data=activation_df_2[['act_val_1','actual_class']], \n",
        "                 width=0.5,\n",
        "                 palette=\"colorblind\")"
      ],
      "metadata": {
        "colab": {
          "base_uri": "https://localhost:8080/",
          "height": 280
        },
        "id": "mTPziUo1orXR",
        "outputId": "dfbd9aba-b6d7-4f9a-c12a-87abb10879ba"
      },
      "execution_count": 56,
      "outputs": [
        {
          "output_type": "display_data",
          "data": {
            "text/plain": [
              "<Figure size 432x288 with 1 Axes>"
            ],
            "image/png": "[encoded data removed]"
          },
          "metadata": {
            "needs_background": "light"
          }
        }
      ]
    },
    {
      "cell_type": "markdown",
      "source": [
        "####Scatter Plot"
      ],
      "metadata": {
        "id": "13AtQCtkNXiU"
      }
    },
    {
      "cell_type": "code",
      "source": [
        "plt.figure(figsize=(6, 5))\n",
        "color = sns.color_palette(\"hls\", 10)\n",
        "\n",
        "sns.scatterplot(y='act_val_1', x='act_val_0', \n",
        "                 data=activation_df_2, hue = 'actual_class',\n",
        "                 palette=sns.color_palette(\"hls\", 10),)"
      ],
      "metadata": {
        "colab": {
          "base_uri": "https://localhost:8080/",
          "height": 353
        },
        "id": "8-5se45vSxMC",
        "outputId": "d8ccc27f-292c-4b19-936b-5c938f6a4375"
      },
      "execution_count": 57,
      "outputs": [
        {
          "output_type": "execute_result",
          "data": {
            "text/plain": [
              "<matplotlib.axes._subplots.AxesSubplot at 0x7f2ac10e2d90>"
            ]
          },
          "metadata": {},
          "execution_count": 57
        },
        {
          "output_type": "display_data",
          "data": {
            "text/plain": [
              "<Figure size 432x360 with 1 Axes>"
            ],
            "image/png": "[encoded data removed]"
          },
          "metadata": {
            "needs_background": "light"
          }
        }
      ]
    },
    {
      "cell_type": "code",
      "source": [],
      "metadata": {
        "id": "J556GLgzoiDa"
      },
      "execution_count": 57,
      "outputs": []
    },
    {
      "cell_type": "markdown",
      "source": [
        "####Confusion Matrix"
      ],
      "metadata": {
        "id": "28k_6U8HmRMZ"
      }
    },
    {
      "cell_type": "code",
      "source": [
        "# Get the predicted classes:\n",
        "pred_classes = np.argmax(model_2.predict(x_test_norm), axis=-1)\n",
        "pred_classes;"
      ],
      "metadata": {
        "id": "O1tWiJMdjf6H"
      },
      "execution_count": 58,
      "outputs": []
    },
    {
      "cell_type": "code",
      "source": [
        "conf_mx = tf.math.confusion_matrix(y_test, pred_classes)\n",
        "conf_mx;"
      ],
      "metadata": {
        "id": "WwJ4oLIDjjc3"
      },
      "execution_count": 59,
      "outputs": []
    },
    {
      "cell_type": "code",
      "execution_count": 60,
      "metadata": {
        "colab": {
          "base_uri": "https://localhost:8080/",
          "height": 497
        },
        "outputId": "604e8448-9bc1-41be-ca32-21914bd8ab2a",
        "id": "EbMJmlZpMlE8"
      },
      "outputs": [
        {
          "output_type": "display_data",
          "data": {
            "text/plain": [
              "<Figure size 576x576 with 1 Axes>"
            ],
            "image/png": "[encoded data removed]"
          },
          "metadata": {
            "needs_background": "light"
          }
        }
      ],
      "source": [
        "plot_confusion_matrix(y_test,pred_classes)"
      ]
    },
    {
      "cell_type": "markdown",
      "source": [
        "# Experiment 3\n",
        "You can explore with more hidden nodes. At least 5 more variations of this architecture NEEDS to be tried. \n",
        "\n",
        "Then you end up with 1 ‘final’ model. Say the ‘best’ model.\n",
        "\n",
        "### Best/final model: Variation 4.3"
      ],
      "metadata": {
        "id": "SvWonrLOo-Yc"
      }
    },
    {
      "cell_type": "markdown",
      "source": [
        "## Variation 1"
      ],
      "metadata": {
        "id": "c-qJLeY2pKsN"
      }
    },
    {
      "cell_type": "markdown",
      "source": [
        "####Build, Compile, Train, Evaluate"
      ],
      "metadata": {
        "id": "6p9s_XbVo-Yd"
      }
    },
    {
      "cell_type": "code",
      "source": [
        "## Experiment 3, Variation 1 - 5 units, 10 output units\n",
        "## Build model\n",
        "\n",
        "model_3_1 = Sequential([\n",
        "    Dense(input_shape=[784], units=5, activation = tf.nn.relu,kernel_regularizer=tf.keras.regularizers.L2(0.001)),\n",
        "    Dense(name = \"output_layer\", units = 10, activation = tf.nn.softmax)\n",
        "])\n",
        "\n",
        "print(model_3_1.summary())"
      ],
      "metadata": {
        "colab": {
          "base_uri": "https://localhost:8080/"
        },
        "outputId": "5bcbd710-c7fe-4de4-e7e4-797cfba3da1c",
        "id": "0joif6Q1o-Yd"
      },
      "execution_count": 61,
      "outputs": [
        {
          "output_type": "stream",
          "name": "stdout",
          "text": [
            "Model: \"sequential_3\"\n",
            "_________________________________________________________________\n",
            " Layer (type)                Output Shape              Param #   \n",
            "=================================================================\n",
            " dense_3 (Dense)             (None, 5)                 3925      \n",
            "                                                                 \n",
            " output_layer (Dense)        (None, 10)                60        \n",
            "                                                                 \n",
            "=================================================================\n",
            "Total params: 3,985\n",
            "Trainable params: 3,985\n",
            "Non-trainable params: 0\n",
            "_________________________________________________________________\n",
            "None\n"
          ]
        }
      ]
    },
    {
      "cell_type": "code",
      "source": [
        "## Compile\n",
        "\n",
        "model_3_1.compile(optimizer='rmsprop',           \n",
        "               loss = 'categorical_crossentropy',\n",
        "               metrics=['accuracy'])"
      ],
      "metadata": {
        "id": "pZaHBkUMo-Yg"
      },
      "execution_count": 62,
      "outputs": []
    },
    {
      "cell_type": "code",
      "source": [
        "## Train \n",
        "\n",
        "history_3_1 = model_3_1.fit(\n",
        "    x_train_norm\n",
        "    ,y_train_encoded\n",
        "    ,epochs = 200\n",
        "    ,validation_split=0.083 # 5,000 (of 60,000) for validation\n",
        "    ,callbacks=[tf.keras.callbacks.ModelCheckpoint(\"DNN_model.h5\",save_best_only=True,save_weights_only=False)\n",
        "                ,tf.keras.callbacks.EarlyStopping(monitor='val_accuracy', patience=2)] \n",
        "    )"
      ],
      "metadata": {
        "colab": {
          "base_uri": "https://localhost:8080/"
        },
        "outputId": "6a647f88-e541-4ed2-f2fe-4bd3656fa994",
        "id": "XX3sbWU6o-Yh"
      },
      "execution_count": 63,
      "outputs": [
        {
          "output_type": "stream",
          "name": "stdout",
          "text": [
            "Epoch 1/200\n",
            "1720/1720 [==============================] - 6s 3ms/step - loss: 0.9609 - accuracy: 0.7242 - val_loss: 0.5641 - val_accuracy: 0.8677\n",
            "Epoch 2/200\n",
            "1720/1720 [==============================] - 6s 3ms/step - loss: 0.5630 - accuracy: 0.8529 - val_loss: 0.4428 - val_accuracy: 0.8934\n",
            "Epoch 3/200\n",
            "1720/1720 [==============================] - 6s 3ms/step - loss: 0.4976 - accuracy: 0.8672 - val_loss: 0.4052 - val_accuracy: 0.8970\n",
            "Epoch 4/200\n",
            "1720/1720 [==============================] - 6s 3ms/step - loss: 0.4716 - accuracy: 0.8734 - val_loss: 0.3918 - val_accuracy: 0.9030\n",
            "Epoch 5/200\n",
            "1720/1720 [==============================] - 6s 3ms/step - loss: 0.4576 - accuracy: 0.8770 - val_loss: 0.3840 - val_accuracy: 0.9036\n",
            "Epoch 6/200\n",
            "1720/1720 [==============================] - 6s 3ms/step - loss: 0.4485 - accuracy: 0.8807 - val_loss: 0.3742 - val_accuracy: 0.9084\n",
            "Epoch 7/200\n",
            "1720/1720 [==============================] - 6s 3ms/step - loss: 0.4407 - accuracy: 0.8817 - val_loss: 0.3635 - val_accuracy: 0.9088\n",
            "Epoch 8/200\n",
            "1720/1720 [==============================] - 6s 3ms/step - loss: 0.4351 - accuracy: 0.8818 - val_loss: 0.3714 - val_accuracy: 0.9022\n",
            "Epoch 9/200\n",
            "1720/1720 [==============================] - 6s 3ms/step - loss: 0.4309 - accuracy: 0.8829 - val_loss: 0.3602 - val_accuracy: 0.9048\n"
          ]
        }
      ]
    },
    {
      "cell_type": "code",
      "source": [
        "## Evaluate\n",
        "\n",
        "model_3_1 = tf.keras.models.load_model(\"DNN_model.h5\")\n",
        "print(f\"Test acc: {model_3_1.evaluate(x_test_norm, y_test_encoded)[1]:.3f}\")"
      ],
      "metadata": {
        "colab": {
          "base_uri": "https://localhost:8080/"
        },
        "outputId": "f5189824-5554-40a9-bc0d-39e4beee9f98",
        "id": "nm3cyc5Mo-Yi"
      },
      "execution_count": 64,
      "outputs": [
        {
          "output_type": "stream",
          "name": "stdout",
          "text": [
            "313/313 [==============================] - 1s 3ms/step - loss: 0.4192 - accuracy: 0.8830\n",
            "Test acc: 0.883\n"
          ]
        }
      ]
    },
    {
      "cell_type": "markdown",
      "source": [
        "## Variation 2"
      ],
      "metadata": {
        "id": "ZsS9p8i5sezV"
      }
    },
    {
      "cell_type": "markdown",
      "source": [
        "####Build, Compile, Train, Evaluate"
      ],
      "metadata": {
        "id": "KMKwNp09sezY"
      }
    },
    {
      "cell_type": "code",
      "source": [
        "## Experiment 3, Variation 2 - 10 units, 10 output units\n",
        "## Build model\n",
        "\n",
        "model_3_2 = Sequential([\n",
        "    Dense(input_shape=[784], units=10, activation = tf.nn.relu,kernel_regularizer=tf.keras.regularizers.L2(0.001)),\n",
        "    Dense(name = \"output_layer\", units = 10, activation = tf.nn.softmax)\n",
        "])\n",
        "\n",
        "print(model_3_2.summary())"
      ],
      "metadata": {
        "colab": {
          "base_uri": "https://localhost:8080/"
        },
        "outputId": "8ef68ab3-190e-49ef-e3fe-a417d43ce0c7",
        "id": "UM0RrApTsezY"
      },
      "execution_count": 65,
      "outputs": [
        {
          "output_type": "stream",
          "name": "stdout",
          "text": [
            "Model: \"sequential_4\"\n",
            "_________________________________________________________________\n",
            " Layer (type)                Output Shape              Param #   \n",
            "=================================================================\n",
            " dense_4 (Dense)             (None, 10)                7850      \n",
            "                                                                 \n",
            " output_layer (Dense)        (None, 10)                110       \n",
            "                                                                 \n",
            "=================================================================\n",
            "Total params: 7,960\n",
            "Trainable params: 7,960\n",
            "Non-trainable params: 0\n",
            "_________________________________________________________________\n",
            "None\n"
          ]
        }
      ]
    },
    {
      "cell_type": "code",
      "source": [
        "## Compile\n",
        "\n",
        "model_3_2.compile(optimizer='rmsprop',           \n",
        "               loss = 'categorical_crossentropy',\n",
        "               metrics=['accuracy'])"
      ],
      "metadata": {
        "id": "x8Q9NQbNsezb"
      },
      "execution_count": 66,
      "outputs": []
    },
    {
      "cell_type": "code",
      "source": [
        "## Train \n",
        "\n",
        "history_3_2 = model_3_2.fit(\n",
        "    x_train_norm\n",
        "    ,y_train_encoded\n",
        "    ,epochs = 200\n",
        "    ,validation_split=0.083 # 5,000 (of 60,000) for validation\n",
        "    ,callbacks=[tf.keras.callbacks.ModelCheckpoint(\"DNN_model.h5\",save_best_only=True,save_weights_only=False)\n",
        "                ,tf.keras.callbacks.EarlyStopping(monitor='val_accuracy', patience=2)] \n",
        "    )"
      ],
      "metadata": {
        "colab": {
          "base_uri": "https://localhost:8080/"
        },
        "outputId": "c0aa893f-560e-4387-aad8-77546f02795c",
        "id": "sHZTLtUOsezb"
      },
      "execution_count": 67,
      "outputs": [
        {
          "output_type": "stream",
          "name": "stdout",
          "text": [
            "Epoch 1/200\n",
            "1720/1720 [==============================] - 6s 3ms/step - loss: 0.5983 - accuracy: 0.8472 - val_loss: 0.3083 - val_accuracy: 0.9291\n",
            "Epoch 2/200\n",
            "1720/1720 [==============================] - 6s 3ms/step - loss: 0.3612 - accuracy: 0.9135 - val_loss: 0.2727 - val_accuracy: 0.9361\n",
            "Epoch 3/200\n",
            "1720/1720 [==============================] - 6s 3ms/step - loss: 0.3343 - accuracy: 0.9203 - val_loss: 0.2598 - val_accuracy: 0.9412\n",
            "Epoch 4/200\n",
            "1720/1720 [==============================] - 6s 3ms/step - loss: 0.3189 - accuracy: 0.9235 - val_loss: 0.2577 - val_accuracy: 0.9426\n",
            "Epoch 5/200\n",
            "1720/1720 [==============================] - 6s 3ms/step - loss: 0.3076 - accuracy: 0.9255 - val_loss: 0.2401 - val_accuracy: 0.9452\n",
            "Epoch 6/200\n",
            "1720/1720 [==============================] - 6s 3ms/step - loss: 0.2981 - accuracy: 0.9275 - val_loss: 0.2424 - val_accuracy: 0.9456\n",
            "Epoch 7/200\n",
            "1720/1720 [==============================] - 6s 3ms/step - loss: 0.2916 - accuracy: 0.9292 - val_loss: 0.2411 - val_accuracy: 0.9438\n",
            "Epoch 8/200\n",
            "1720/1720 [==============================] - 6s 3ms/step - loss: 0.2867 - accuracy: 0.9298 - val_loss: 0.2251 - val_accuracy: 0.9498\n",
            "Epoch 9/200\n",
            "1720/1720 [==============================] - 6s 3ms/step - loss: 0.2811 - accuracy: 0.9307 - val_loss: 0.2306 - val_accuracy: 0.9448\n",
            "Epoch 10/200\n",
            "1720/1720 [==============================] - 6s 3ms/step - loss: 0.2771 - accuracy: 0.9317 - val_loss: 0.2225 - val_accuracy: 0.9472\n"
          ]
        }
      ]
    },
    {
      "cell_type": "code",
      "source": [
        "## Evaluate\n",
        "\n",
        "model_3_2 = tf.keras.models.load_model(\"DNN_model.h5\")\n",
        "print(f\"Test acc: {model_3_2.evaluate(x_test_norm, y_test_encoded)[1]:.3f}\")"
      ],
      "metadata": {
        "colab": {
          "base_uri": "https://localhost:8080/"
        },
        "outputId": "fc1add8f-666e-4f9d-d545-cd367234d316",
        "id": "Mc2JVh3_sezc"
      },
      "execution_count": 68,
      "outputs": [
        {
          "output_type": "stream",
          "name": "stdout",
          "text": [
            "313/313 [==============================] - 1s 3ms/step - loss: 0.2734 - accuracy: 0.9327\n",
            "Test acc: 0.933\n"
          ]
        }
      ]
    },
    {
      "cell_type": "markdown",
      "source": [
        "## Variation 3"
      ],
      "metadata": {
        "id": "Pj_z0k7dsfa-"
      }
    },
    {
      "cell_type": "markdown",
      "source": [
        "####Build, Compile, Train, Evaluate"
      ],
      "metadata": {
        "id": "wzi1HRJfsfa_"
      }
    },
    {
      "cell_type": "code",
      "source": [
        "## Experiment 3, Variation 3 - 20 units, 10 output units\n",
        "## Build model\n",
        "\n",
        "model_3_3 = Sequential([\n",
        "    Dense(input_shape=[784], units=20, activation = tf.nn.relu,kernel_regularizer=tf.keras.regularizers.L2(0.001)),\n",
        "    Dense(name = \"output_layer\", units = 10, activation = tf.nn.softmax)\n",
        "])\n",
        "\n",
        "print(model_3_3.summary())"
      ],
      "metadata": {
        "colab": {
          "base_uri": "https://localhost:8080/"
        },
        "outputId": "be0a41d7-2dce-4811-ac36-53c249731f06",
        "id": "gfeh0UUisfbA"
      },
      "execution_count": 69,
      "outputs": [
        {
          "output_type": "stream",
          "name": "stdout",
          "text": [
            "Model: \"sequential_5\"\n",
            "_________________________________________________________________\n",
            " Layer (type)                Output Shape              Param #   \n",
            "=================================================================\n",
            " dense_5 (Dense)             (None, 20)                15700     \n",
            "                                                                 \n",
            " output_layer (Dense)        (None, 10)                210       \n",
            "                                                                 \n",
            "=================================================================\n",
            "Total params: 15,910\n",
            "Trainable params: 15,910\n",
            "Non-trainable params: 0\n",
            "_________________________________________________________________\n",
            "None\n"
          ]
        }
      ]
    },
    {
      "cell_type": "code",
      "source": [
        "## Compile\n",
        "\n",
        "model_3_3.compile(optimizer='rmsprop',           \n",
        "               loss = 'categorical_crossentropy',\n",
        "               metrics=['accuracy'])"
      ],
      "metadata": {
        "id": "3KwoSNQxsfbA"
      },
      "execution_count": 70,
      "outputs": []
    },
    {
      "cell_type": "code",
      "source": [
        "## Train \n",
        "\n",
        "history_3_3 = model_3_3.fit(\n",
        "    x_train_norm\n",
        "    ,y_train_encoded\n",
        "    ,epochs = 200\n",
        "    ,validation_split=0.083 # 5,000 (of 60,000) for validation\n",
        "    ,callbacks=[tf.keras.callbacks.ModelCheckpoint(\"DNN_model.h5\",save_best_only=True,save_weights_only=False)\n",
        "                ,tf.keras.callbacks.EarlyStopping(monitor='val_accuracy', patience=2)] \n",
        "    )"
      ],
      "metadata": {
        "colab": {
          "base_uri": "https://localhost:8080/"
        },
        "outputId": "e0d34ce5-4761-4141-c647-2f254e0f5306",
        "id": "vx9eseNVsfbB"
      },
      "execution_count": 71,
      "outputs": [
        {
          "output_type": "stream",
          "name": "stdout",
          "text": [
            "Epoch 1/200\n",
            "1720/1720 [==============================] - 6s 3ms/step - loss: 0.4691 - accuracy: 0.8828 - val_loss: 0.2738 - val_accuracy: 0.9390\n",
            "Epoch 2/200\n",
            "1720/1720 [==============================] - 6s 3ms/step - loss: 0.3084 - accuracy: 0.9256 - val_loss: 0.2316 - val_accuracy: 0.9510\n",
            "Epoch 3/200\n",
            "1720/1720 [==============================] - 6s 3ms/step - loss: 0.2754 - accuracy: 0.9343 - val_loss: 0.2177 - val_accuracy: 0.9536\n",
            "Epoch 4/200\n",
            "1720/1720 [==============================] - 6s 3ms/step - loss: 0.2558 - accuracy: 0.9402 - val_loss: 0.2098 - val_accuracy: 0.9570\n",
            "Epoch 5/200\n",
            "1720/1720 [==============================] - 6s 3ms/step - loss: 0.2421 - accuracy: 0.9432 - val_loss: 0.2129 - val_accuracy: 0.9530\n",
            "Epoch 6/200\n",
            "1720/1720 [==============================] - 6s 3ms/step - loss: 0.2308 - accuracy: 0.9462 - val_loss: 0.1981 - val_accuracy: 0.9588\n",
            "Epoch 7/200\n",
            "1720/1720 [==============================] - 5s 3ms/step - loss: 0.2219 - accuracy: 0.9482 - val_loss: 0.1990 - val_accuracy: 0.9576\n",
            "Epoch 8/200\n",
            "1720/1720 [==============================] - 6s 3ms/step - loss: 0.2166 - accuracy: 0.9494 - val_loss: 0.1850 - val_accuracy: 0.9647\n",
            "Epoch 9/200\n",
            "1720/1720 [==============================] - 5s 3ms/step - loss: 0.2100 - accuracy: 0.9518 - val_loss: 0.1855 - val_accuracy: 0.9633\n",
            "Epoch 10/200\n",
            "1720/1720 [==============================] - 6s 3ms/step - loss: 0.2056 - accuracy: 0.9520 - val_loss: 0.1803 - val_accuracy: 0.9639\n"
          ]
        }
      ]
    },
    {
      "cell_type": "code",
      "source": [
        "## Evaluate\n",
        "\n",
        "model_3_3 = tf.keras.models.load_model(\"DNN_model.h5\")\n",
        "print(f\"Test acc: {model_3_3.evaluate(x_test_norm, y_test_encoded)[1]:.3f}\")"
      ],
      "metadata": {
        "colab": {
          "base_uri": "https://localhost:8080/"
        },
        "outputId": "943a1bfd-f7ec-4290-d21b-66a08496e974",
        "id": "dS4JjWaksfbB"
      },
      "execution_count": 72,
      "outputs": [
        {
          "output_type": "stream",
          "name": "stdout",
          "text": [
            "313/313 [==============================] - 1s 3ms/step - loss: 0.1997 - accuracy: 0.9545\n",
            "Test acc: 0.955\n"
          ]
        }
      ]
    },
    {
      "cell_type": "markdown",
      "source": [
        "## Variation 4"
      ],
      "metadata": {
        "id": "Dz481Nl5CH2I"
      }
    },
    {
      "cell_type": "markdown",
      "source": [
        "####Build, Compile, Train, Evaluate"
      ],
      "metadata": {
        "id": "gv2ChxV1CH2J"
      }
    },
    {
      "cell_type": "code",
      "source": [
        "## Experiment 3, Variation 4 - 100 units, 10 output units\n",
        "## Build model\n",
        "\n",
        "model_3_4 = Sequential([\n",
        "    Dense(input_shape=[784], units=100, activation = tf.nn.relu,kernel_regularizer=tf.keras.regularizers.L2(0.001)),\n",
        "    Dense(name = \"output_layer\", units = 10, activation = tf.nn.softmax)\n",
        "])\n",
        "\n",
        "print(model_3_4.summary())"
      ],
      "metadata": {
        "colab": {
          "base_uri": "https://localhost:8080/"
        },
        "outputId": "d9072914-0d27-49bc-8bae-6558eaacbd46",
        "id": "AvzhOTy5CH2L"
      },
      "execution_count": 73,
      "outputs": [
        {
          "output_type": "stream",
          "name": "stdout",
          "text": [
            "Model: \"sequential_6\"\n",
            "_________________________________________________________________\n",
            " Layer (type)                Output Shape              Param #   \n",
            "=================================================================\n",
            " dense_6 (Dense)             (None, 100)               78500     \n",
            "                                                                 \n",
            " output_layer (Dense)        (None, 10)                1010      \n",
            "                                                                 \n",
            "=================================================================\n",
            "Total params: 79,510\n",
            "Trainable params: 79,510\n",
            "Non-trainable params: 0\n",
            "_________________________________________________________________\n",
            "None\n"
          ]
        }
      ]
    },
    {
      "cell_type": "code",
      "source": [
        "## Compile\n",
        "\n",
        "model_3_4.compile(optimizer='rmsprop',           \n",
        "               loss = 'categorical_crossentropy',\n",
        "               metrics=['accuracy'])"
      ],
      "metadata": {
        "id": "zMmMNl-rCH2P"
      },
      "execution_count": 74,
      "outputs": []
    },
    {
      "cell_type": "code",
      "source": [
        "## Train \n",
        "\n",
        "history_3_4 = model_3_4.fit(\n",
        "    x_train_norm\n",
        "    ,y_train_encoded\n",
        "    ,epochs = 200\n",
        "    ,validation_split=0.083 # 5,000 (of 60,000) for validation\n",
        "    ,callbacks=[tf.keras.callbacks.ModelCheckpoint(\"DNN_model.h5\",save_best_only=True,save_weights_only=False)\n",
        "                ,tf.keras.callbacks.EarlyStopping(monitor='val_accuracy', patience=2)] \n",
        "    )"
      ],
      "metadata": {
        "colab": {
          "base_uri": "https://localhost:8080/"
        },
        "outputId": "07b4e438-35e7-4004-f3aa-bb2ebc4ccce9",
        "id": "U69SU18SCH2R"
      },
      "execution_count": 75,
      "outputs": [
        {
          "output_type": "stream",
          "name": "stdout",
          "text": [
            "Epoch 1/200\n",
            "1720/1720 [==============================] - 6s 3ms/step - loss: 0.3826 - accuracy: 0.9168 - val_loss: 0.2219 - val_accuracy: 0.9596\n",
            "Epoch 2/200\n",
            "1720/1720 [==============================] - 6s 3ms/step - loss: 0.2314 - accuracy: 0.9518 - val_loss: 0.1858 - val_accuracy: 0.9653\n",
            "Epoch 3/200\n",
            "1720/1720 [==============================] - 6s 3ms/step - loss: 0.1967 - accuracy: 0.9603 - val_loss: 0.1654 - val_accuracy: 0.9711\n",
            "Epoch 4/200\n",
            "1720/1720 [==============================] - 6s 3ms/step - loss: 0.1780 - accuracy: 0.9636 - val_loss: 0.1505 - val_accuracy: 0.9727\n",
            "Epoch 5/200\n",
            "1720/1720 [==============================] - 5s 3ms/step - loss: 0.1679 - accuracy: 0.9671 - val_loss: 0.1733 - val_accuracy: 0.9661\n",
            "Epoch 6/200\n",
            "1720/1720 [==============================] - 5s 3ms/step - loss: 0.1609 - accuracy: 0.9676 - val_loss: 0.1478 - val_accuracy: 0.9741\n",
            "Epoch 7/200\n",
            "1720/1720 [==============================] - 6s 3ms/step - loss: 0.1553 - accuracy: 0.9683 - val_loss: 0.1619 - val_accuracy: 0.9673\n",
            "Epoch 8/200\n",
            "1720/1720 [==============================] - 6s 3ms/step - loss: 0.1502 - accuracy: 0.9696 - val_loss: 0.1415 - val_accuracy: 0.9757\n",
            "Epoch 9/200\n",
            "1720/1720 [==============================] - 6s 4ms/step - loss: 0.1472 - accuracy: 0.9706 - val_loss: 0.1606 - val_accuracy: 0.9669\n",
            "Epoch 10/200\n",
            "1720/1720 [==============================] - 6s 3ms/step - loss: 0.1451 - accuracy: 0.9713 - val_loss: 0.1329 - val_accuracy: 0.9763\n",
            "Epoch 11/200\n",
            "1720/1720 [==============================] - 6s 3ms/step - loss: 0.1431 - accuracy: 0.9705 - val_loss: 0.1636 - val_accuracy: 0.9679\n",
            "Epoch 12/200\n",
            "1720/1720 [==============================] - 5s 3ms/step - loss: 0.1414 - accuracy: 0.9714 - val_loss: 0.1398 - val_accuracy: 0.9745\n"
          ]
        }
      ]
    },
    {
      "cell_type": "code",
      "source": [
        "## Evaluate\n",
        "\n",
        "model_3_4 = tf.keras.models.load_model(\"DNN_model.h5\")\n",
        "print(f\"Test acc: {model_3_4.evaluate(x_test_norm, y_test_encoded)[1]:.3f}\")"
      ],
      "metadata": {
        "colab": {
          "base_uri": "https://localhost:8080/"
        },
        "outputId": "dab076b7-c7ce-4082-faf0-072b7445ab62",
        "id": "6QCdlbOjCH2T"
      },
      "execution_count": 76,
      "outputs": [
        {
          "output_type": "stream",
          "name": "stdout",
          "text": [
            "313/313 [==============================] - 1s 2ms/step - loss: 0.1465 - accuracy: 0.9695\n",
            "Test acc: 0.970\n"
          ]
        }
      ]
    },
    {
      "cell_type": "markdown",
      "source": [
        "### Variation 4.1"
      ],
      "metadata": {
        "id": "DWswl8KeFZin"
      }
    },
    {
      "cell_type": "markdown",
      "source": [
        "####Build, Compile, Train, Evaluate"
      ],
      "metadata": {
        "id": "MOkupcPeFZio"
      }
    },
    {
      "cell_type": "code",
      "source": [
        "## Experiment 3, Variation 4.1 - 100 units, 10 output units, Adam optimizer \n",
        "## Build model\n",
        "\n",
        "model_3_4 = Sequential([\n",
        "    Dense(input_shape=[784], units=100, activation = tf.nn.relu,kernel_regularizer=tf.keras.regularizers.L2(0.001)),\n",
        "    Dense(name = \"output_layer\", units = 10, activation = tf.nn.softmax)\n",
        "])\n",
        "\n",
        "print(model_3_4.summary())"
      ],
      "metadata": {
        "colab": {
          "base_uri": "https://localhost:8080/"
        },
        "outputId": "0c61e6dc-c135-4141-cb35-f437383db889",
        "id": "baNc0aI7FZip"
      },
      "execution_count": 77,
      "outputs": [
        {
          "output_type": "stream",
          "name": "stdout",
          "text": [
            "Model: \"sequential_7\"\n",
            "_________________________________________________________________\n",
            " Layer (type)                Output Shape              Param #   \n",
            "=================================================================\n",
            " dense_7 (Dense)             (None, 100)               78500     \n",
            "                                                                 \n",
            " output_layer (Dense)        (None, 10)                1010      \n",
            "                                                                 \n",
            "=================================================================\n",
            "Total params: 79,510\n",
            "Trainable params: 79,510\n",
            "Non-trainable params: 0\n",
            "_________________________________________________________________\n",
            "None\n"
          ]
        }
      ]
    },
    {
      "cell_type": "code",
      "source": [
        "## Compile\n",
        "\n",
        "model_3_4.compile(optimizer='adam',           \n",
        "               loss = 'categorical_crossentropy',\n",
        "               metrics=['accuracy'])"
      ],
      "metadata": {
        "id": "44j-Pj0wFZir"
      },
      "execution_count": 78,
      "outputs": []
    },
    {
      "cell_type": "code",
      "source": [
        "## Train \n",
        "\n",
        "history_3_4 = model_3_4.fit(\n",
        "    x_train_norm\n",
        "    ,y_train_encoded\n",
        "    ,epochs = 200\n",
        "    ,validation_split=0.083 # 5,000 (of 60,000) for validation\n",
        "    ,callbacks=[tf.keras.callbacks.ModelCheckpoint(\"DNN_model.h5\",save_best_only=True,save_weights_only=False)\n",
        "                ,tf.keras.callbacks.EarlyStopping(monitor='val_accuracy', patience=2)] \n",
        "    )"
      ],
      "metadata": {
        "colab": {
          "base_uri": "https://localhost:8080/"
        },
        "outputId": "47374ea6-4beb-46cd-9849-6b4ddd000c0c",
        "id": "fue5ahCRFZis"
      },
      "execution_count": 79,
      "outputs": [
        {
          "output_type": "stream",
          "name": "stdout",
          "text": [
            "Epoch 1/200\n",
            "1720/1720 [==============================] - 6s 3ms/step - loss: 0.3982 - accuracy: 0.9165 - val_loss: 0.2343 - val_accuracy: 0.9616\n",
            "Epoch 2/200\n",
            "1720/1720 [==============================] - 5s 3ms/step - loss: 0.2428 - accuracy: 0.9538 - val_loss: 0.1915 - val_accuracy: 0.9691\n",
            "Epoch 3/200\n",
            "1720/1720 [==============================] - 5s 3ms/step - loss: 0.2077 - accuracy: 0.9622 - val_loss: 0.1874 - val_accuracy: 0.9711\n",
            "Epoch 4/200\n",
            "1720/1720 [==============================] - 5s 3ms/step - loss: 0.1894 - accuracy: 0.9670 - val_loss: 0.1793 - val_accuracy: 0.9695\n",
            "Epoch 5/200\n",
            "1720/1720 [==============================] - 5s 3ms/step - loss: 0.1783 - accuracy: 0.9677 - val_loss: 0.1775 - val_accuracy: 0.9693\n"
          ]
        }
      ]
    },
    {
      "cell_type": "code",
      "source": [
        "## Evaluate\n",
        "\n",
        "model_3_4 = tf.keras.models.load_model(\"DNN_model.h5\")\n",
        "print(f\"Test acc: {model_3_4.evaluate(x_test_norm, y_test_encoded)[1]:.3f}\")"
      ],
      "metadata": {
        "colab": {
          "base_uri": "https://localhost:8080/"
        },
        "outputId": "f3a110ab-0d77-4ce3-804c-585c211f2d93",
        "id": "D7BtCPerFZit"
      },
      "execution_count": 80,
      "outputs": [
        {
          "output_type": "stream",
          "name": "stdout",
          "text": [
            "313/313 [==============================] - 1s 2ms/step - loss: 0.1837 - accuracy: 0.9676\n",
            "Test acc: 0.968\n"
          ]
        }
      ]
    },
    {
      "cell_type": "code",
      "source": [],
      "metadata": {
        "id": "GdYbYZ09IS09"
      },
      "execution_count": 80,
      "outputs": []
    },
    {
      "cell_type": "markdown",
      "source": [
        "### Variation 4.2"
      ],
      "metadata": {
        "id": "FAQE4M3oI3Fx"
      }
    },
    {
      "cell_type": "markdown",
      "source": [
        "####Build, Compile, Train, Evaluate"
      ],
      "metadata": {
        "id": "JFI4pYdWI3F0"
      }
    },
    {
      "cell_type": "code",
      "source": [
        "## Experiment 3, Variation 4.2 - 100 units, 10 output units, Adagrad optimizer \n",
        "## Build model\n",
        "\n",
        "model_3_4 = Sequential([\n",
        "    Dense(input_shape=[784], units=100, activation = tf.nn.relu,kernel_regularizer=tf.keras.regularizers.L2(0.001)),\n",
        "    Dense(name = \"output_layer\", units = 10, activation = tf.nn.softmax)\n",
        "])\n",
        "\n",
        "print(model_3_4.summary())"
      ],
      "metadata": {
        "colab": {
          "base_uri": "https://localhost:8080/"
        },
        "outputId": "7795fe2b-90ef-4d77-f679-0971e292ff55",
        "id": "xvW1c7JdI3F1"
      },
      "execution_count": 81,
      "outputs": [
        {
          "output_type": "stream",
          "name": "stdout",
          "text": [
            "Model: \"sequential_8\"\n",
            "_________________________________________________________________\n",
            " Layer (type)                Output Shape              Param #   \n",
            "=================================================================\n",
            " dense_8 (Dense)             (None, 100)               78500     \n",
            "                                                                 \n",
            " output_layer (Dense)        (None, 10)                1010      \n",
            "                                                                 \n",
            "=================================================================\n",
            "Total params: 79,510\n",
            "Trainable params: 79,510\n",
            "Non-trainable params: 0\n",
            "_________________________________________________________________\n",
            "None\n"
          ]
        }
      ]
    },
    {
      "cell_type": "code",
      "source": [
        "## Compile\n",
        "\n",
        "model_3_4.compile(optimizer='Adagrad',           \n",
        "               loss = 'categorical_crossentropy',\n",
        "               metrics=['accuracy'])"
      ],
      "metadata": {
        "id": "Udc3c1TiI3F4"
      },
      "execution_count": 82,
      "outputs": []
    },
    {
      "cell_type": "code",
      "source": [
        "## Train \n",
        "\n",
        "history_3_4 = model_3_4.fit(\n",
        "    x_train_norm\n",
        "    ,y_train_encoded\n",
        "    ,epochs = 200\n",
        "    ,validation_split=0.083 # 5,000 (of 60,000) for validation\n",
        "    ,callbacks=[tf.keras.callbacks.ModelCheckpoint(\"DNN_model.h5\",save_best_only=True,save_weights_only=False)\n",
        "                ,tf.keras.callbacks.EarlyStopping(monitor='val_accuracy', patience=2)] \n",
        "    )"
      ],
      "metadata": {
        "colab": {
          "base_uri": "https://localhost:8080/"
        },
        "outputId": "3b38837f-6d7d-4616-9642-893e3a0c465d",
        "id": "0AwNOq55I3F5"
      },
      "execution_count": 83,
      "outputs": [
        {
          "output_type": "stream",
          "name": "stdout",
          "text": [
            "Epoch 1/200\n",
            "1720/1720 [==============================] - 6s 3ms/step - loss: 1.5034 - accuracy: 0.6867 - val_loss: 0.9291 - val_accuracy: 0.8717\n",
            "Epoch 2/200\n",
            "1720/1720 [==============================] - 5s 3ms/step - loss: 0.8825 - accuracy: 0.8389 - val_loss: 0.6970 - val_accuracy: 0.8956\n",
            "Epoch 3/200\n",
            "1720/1720 [==============================] - 5s 3ms/step - loss: 0.7402 - accuracy: 0.8628 - val_loss: 0.6096 - val_accuracy: 0.9070\n",
            "Epoch 4/200\n",
            "1720/1720 [==============================] - 5s 3ms/step - loss: 0.6724 - accuracy: 0.8755 - val_loss: 0.5611 - val_accuracy: 0.9159\n",
            "Epoch 5/200\n",
            "1720/1720 [==============================] - 5s 3ms/step - loss: 0.6301 - accuracy: 0.8841 - val_loss: 0.5290 - val_accuracy: 0.9213\n",
            "Epoch 6/200\n",
            "1720/1720 [==============================] - 5s 3ms/step - loss: 0.6003 - accuracy: 0.8893 - val_loss: 0.5060 - val_accuracy: 0.9225\n",
            "Epoch 7/200\n",
            "1720/1720 [==============================] - 5s 3ms/step - loss: 0.5777 - accuracy: 0.8937 - val_loss: 0.4883 - val_accuracy: 0.9243\n",
            "Epoch 8/200\n",
            "1720/1720 [==============================] - 5s 3ms/step - loss: 0.5597 - accuracy: 0.8970 - val_loss: 0.4738 - val_accuracy: 0.9251\n",
            "Epoch 9/200\n",
            "1720/1720 [==============================] - 5s 3ms/step - loss: 0.5446 - accuracy: 0.9001 - val_loss: 0.4619 - val_accuracy: 0.9255\n",
            "Epoch 10/200\n",
            "1720/1720 [==============================] - 5s 3ms/step - loss: 0.5318 - accuracy: 0.9032 - val_loss: 0.4516 - val_accuracy: 0.9283\n",
            "Epoch 11/200\n",
            "1720/1720 [==============================] - 5s 3ms/step - loss: 0.5206 - accuracy: 0.9054 - val_loss: 0.4424 - val_accuracy: 0.9287\n",
            "Epoch 12/200\n",
            "1720/1720 [==============================] - 5s 3ms/step - loss: 0.5106 - accuracy: 0.9079 - val_loss: 0.4345 - val_accuracy: 0.9317\n",
            "Epoch 13/200\n",
            "1720/1720 [==============================] - 5s 3ms/step - loss: 0.5017 - accuracy: 0.9095 - val_loss: 0.4271 - val_accuracy: 0.9321\n",
            "Epoch 14/200\n",
            "1720/1720 [==============================] - 5s 3ms/step - loss: 0.4936 - accuracy: 0.9109 - val_loss: 0.4204 - val_accuracy: 0.9333\n",
            "Epoch 15/200\n",
            "1720/1720 [==============================] - 5s 3ms/step - loss: 0.4861 - accuracy: 0.9124 - val_loss: 0.4145 - val_accuracy: 0.9345\n",
            "Epoch 16/200\n",
            "1720/1720 [==============================] - 5s 3ms/step - loss: 0.4793 - accuracy: 0.9134 - val_loss: 0.4088 - val_accuracy: 0.9347\n",
            "Epoch 17/200\n",
            "1720/1720 [==============================] - 5s 3ms/step - loss: 0.4729 - accuracy: 0.9146 - val_loss: 0.4035 - val_accuracy: 0.9369\n",
            "Epoch 18/200\n",
            "1720/1720 [==============================] - 5s 3ms/step - loss: 0.4669 - accuracy: 0.9159 - val_loss: 0.3986 - val_accuracy: 0.9369\n",
            "Epoch 19/200\n",
            "1720/1720 [==============================] - 5s 3ms/step - loss: 0.4613 - accuracy: 0.9167 - val_loss: 0.3940 - val_accuracy: 0.9376\n",
            "Epoch 20/200\n",
            "1720/1720 [==============================] - 5s 3ms/step - loss: 0.4560 - accuracy: 0.9179 - val_loss: 0.3895 - val_accuracy: 0.9380\n",
            "Epoch 21/200\n",
            "1720/1720 [==============================] - 5s 3ms/step - loss: 0.4510 - accuracy: 0.9182 - val_loss: 0.3853 - val_accuracy: 0.9398\n",
            "Epoch 22/200\n",
            "1720/1720 [==============================] - 5s 3ms/step - loss: 0.4462 - accuracy: 0.9195 - val_loss: 0.3815 - val_accuracy: 0.9400\n",
            "Epoch 23/200\n",
            "1720/1720 [==============================] - 5s 3ms/step - loss: 0.4417 - accuracy: 0.9200 - val_loss: 0.3777 - val_accuracy: 0.9404\n",
            "Epoch 24/200\n",
            "1720/1720 [==============================] - 5s 3ms/step - loss: 0.4373 - accuracy: 0.9211 - val_loss: 0.3740 - val_accuracy: 0.9408\n",
            "Epoch 25/200\n",
            "1720/1720 [==============================] - 5s 3ms/step - loss: 0.4332 - accuracy: 0.9219 - val_loss: 0.3705 - val_accuracy: 0.9414\n",
            "Epoch 26/200\n",
            "1720/1720 [==============================] - 5s 3ms/step - loss: 0.4292 - accuracy: 0.9226 - val_loss: 0.3674 - val_accuracy: 0.9414\n",
            "Epoch 27/200\n",
            "1720/1720 [==============================] - 5s 3ms/step - loss: 0.4254 - accuracy: 0.9232 - val_loss: 0.3641 - val_accuracy: 0.9428\n",
            "Epoch 28/200\n",
            "1720/1720 [==============================] - 5s 3ms/step - loss: 0.4216 - accuracy: 0.9239 - val_loss: 0.3611 - val_accuracy: 0.9430\n",
            "Epoch 29/200\n",
            "1720/1720 [==============================] - 5s 3ms/step - loss: 0.4181 - accuracy: 0.9244 - val_loss: 0.3580 - val_accuracy: 0.9434\n",
            "Epoch 30/200\n",
            "1720/1720 [==============================] - 5s 3ms/step - loss: 0.4147 - accuracy: 0.9251 - val_loss: 0.3551 - val_accuracy: 0.9438\n",
            "Epoch 31/200\n",
            "1720/1720 [==============================] - 5s 3ms/step - loss: 0.4113 - accuracy: 0.9256 - val_loss: 0.3523 - val_accuracy: 0.9440\n",
            "Epoch 32/200\n",
            "1720/1720 [==============================] - 5s 3ms/step - loss: 0.4081 - accuracy: 0.9264 - val_loss: 0.3496 - val_accuracy: 0.9444\n",
            "Epoch 33/200\n",
            "1720/1720 [==============================] - 5s 3ms/step - loss: 0.4050 - accuracy: 0.9270 - val_loss: 0.3470 - val_accuracy: 0.9454\n",
            "Epoch 34/200\n",
            "1720/1720 [==============================] - 5s 3ms/step - loss: 0.4020 - accuracy: 0.9275 - val_loss: 0.3444 - val_accuracy: 0.9458\n",
            "Epoch 35/200\n",
            "1720/1720 [==============================] - 5s 3ms/step - loss: 0.3991 - accuracy: 0.9281 - val_loss: 0.3419 - val_accuracy: 0.9466\n",
            "Epoch 36/200\n",
            "1720/1720 [==============================] - 5s 3ms/step - loss: 0.3963 - accuracy: 0.9284 - val_loss: 0.3397 - val_accuracy: 0.9474\n",
            "Epoch 37/200\n",
            "1720/1720 [==============================] - 5s 3ms/step - loss: 0.3935 - accuracy: 0.9293 - val_loss: 0.3375 - val_accuracy: 0.9468\n",
            "Epoch 38/200\n",
            "1720/1720 [==============================] - 5s 3ms/step - loss: 0.3908 - accuracy: 0.9298 - val_loss: 0.3351 - val_accuracy: 0.9470\n"
          ]
        }
      ]
    },
    {
      "cell_type": "code",
      "source": [
        "## Evaluate\n",
        "\n",
        "model_3_4 = tf.keras.models.load_model(\"DNN_model.h5\")\n",
        "print(f\"Test acc: {model_3_4.evaluate(x_test_norm, y_test_encoded)[1]:.3f}\")"
      ],
      "metadata": {
        "colab": {
          "base_uri": "https://localhost:8080/"
        },
        "outputId": "339cebf7-fbb1-4b3c-ccb4-5774f5542219",
        "id": "staqE8uWI3F6"
      },
      "execution_count": 84,
      "outputs": [
        {
          "output_type": "stream",
          "name": "stdout",
          "text": [
            "313/313 [==============================] - 1s 2ms/step - loss: 0.3780 - accuracy: 0.9317\n",
            "Test acc: 0.932\n"
          ]
        }
      ]
    },
    {
      "cell_type": "code",
      "source": [],
      "metadata": {
        "id": "n_uFhuwnI3F7"
      },
      "execution_count": 84,
      "outputs": []
    },
    {
      "cell_type": "markdown",
      "source": [
        "### Variation 4.3"
      ],
      "metadata": {
        "id": "vVWq1Or9LObz"
      }
    },
    {
      "cell_type": "markdown",
      "source": [
        "####Build, Compile, Train, Evaluate"
      ],
      "metadata": {
        "id": "-aJfBwwjLOb3"
      }
    },
    {
      "cell_type": "code",
      "source": [
        "## Experiment 3, Variation 4.3 - 100 units, 10 output units, RMSprop optimizer \n",
        "## Build model\n",
        "\n",
        "model_3_4 = Sequential([\n",
        "    Dense(input_shape=[784], units=100, activation = tf.nn.relu,kernel_regularizer=tf.keras.regularizers.L2(0.001)),\n",
        "    Dense(name = \"output_layer\", units = 10, activation = tf.nn.softmax)\n",
        "])\n",
        "\n",
        "print(model_3_4.summary())"
      ],
      "metadata": {
        "colab": {
          "base_uri": "https://localhost:8080/"
        },
        "outputId": "62befa68-5ce4-4381-f9f7-2c7849b335de",
        "id": "vrjXQW81LOb4"
      },
      "execution_count": 85,
      "outputs": [
        {
          "output_type": "stream",
          "name": "stdout",
          "text": [
            "Model: \"sequential_9\"\n",
            "_________________________________________________________________\n",
            " Layer (type)                Output Shape              Param #   \n",
            "=================================================================\n",
            " dense_9 (Dense)             (None, 100)               78500     \n",
            "                                                                 \n",
            " output_layer (Dense)        (None, 10)                1010      \n",
            "                                                                 \n",
            "=================================================================\n",
            "Total params: 79,510\n",
            "Trainable params: 79,510\n",
            "Non-trainable params: 0\n",
            "_________________________________________________________________\n",
            "None\n"
          ]
        }
      ]
    },
    {
      "cell_type": "code",
      "source": [
        "## Compile\n",
        "\n",
        "model_3_4.compile(optimizer='rmsprop',           \n",
        "               loss = 'categorical_crossentropy',\n",
        "               metrics=['accuracy'])"
      ],
      "metadata": {
        "id": "vSW7r11NLOb5"
      },
      "execution_count": 86,
      "outputs": []
    },
    {
      "cell_type": "code",
      "source": [
        "## Train \n",
        "\n",
        "history_3_4 = model_3_4.fit(\n",
        "    x_train_norm\n",
        "    ,y_train_encoded\n",
        "    ,epochs = 200\n",
        "    ,validation_split=0.083 # 5,000 (of 60,000) for validation\n",
        "    ,callbacks=[tf.keras.callbacks.ModelCheckpoint(\"DNN_model.h5\",save_best_only=True,save_weights_only=False)\n",
        "                ,tf.keras.callbacks.EarlyStopping(monitor='val_accuracy', patience=2)] \n",
        "    )"
      ],
      "metadata": {
        "colab": {
          "base_uri": "https://localhost:8080/"
        },
        "outputId": "a2d4f156-7ba1-411e-b9f8-9c910ed7f5f0",
        "id": "hjPiKutSLOb6"
      },
      "execution_count": 87,
      "outputs": [
        {
          "output_type": "stream",
          "name": "stdout",
          "text": [
            "Epoch 1/200\n",
            "1720/1720 [==============================] - 6s 3ms/step - loss: 0.3898 - accuracy: 0.9152 - val_loss: 0.2199 - val_accuracy: 0.9596\n",
            "Epoch 2/200\n",
            "1720/1720 [==============================] - 5s 3ms/step - loss: 0.2378 - accuracy: 0.9511 - val_loss: 0.1975 - val_accuracy: 0.9629\n",
            "Epoch 3/200\n",
            "1720/1720 [==============================] - 6s 3ms/step - loss: 0.2001 - accuracy: 0.9597 - val_loss: 0.1682 - val_accuracy: 0.9707\n",
            "Epoch 4/200\n",
            "1720/1720 [==============================] - 5s 3ms/step - loss: 0.1815 - accuracy: 0.9636 - val_loss: 0.1562 - val_accuracy: 0.9735\n",
            "Epoch 5/200\n",
            "1720/1720 [==============================] - 5s 3ms/step - loss: 0.1708 - accuracy: 0.9656 - val_loss: 0.1536 - val_accuracy: 0.9761\n",
            "Epoch 6/200\n",
            "1720/1720 [==============================] - 6s 3ms/step - loss: 0.1625 - accuracy: 0.9670 - val_loss: 0.1451 - val_accuracy: 0.9743\n",
            "Epoch 7/200\n",
            "1720/1720 [==============================] - 6s 3ms/step - loss: 0.1561 - accuracy: 0.9681 - val_loss: 0.1534 - val_accuracy: 0.9707\n"
          ]
        }
      ]
    },
    {
      "cell_type": "code",
      "source": [
        "## Evaluate\n",
        "\n",
        "model_3_4 = tf.keras.models.load_model(\"DNN_model.h5\")\n",
        "print(f\"Test acc: {model_3_4.evaluate(x_test_norm, y_test_encoded)[1]:.3f}\")"
      ],
      "metadata": {
        "colab": {
          "base_uri": "https://localhost:8080/"
        },
        "outputId": "f3a03678-ae46-4598-afc7-3ddafa121289",
        "id": "ZLw9D6dhLOb6"
      },
      "execution_count": 88,
      "outputs": [
        {
          "output_type": "stream",
          "name": "stdout",
          "text": [
            "313/313 [==============================] - 1s 3ms/step - loss: 0.1624 - accuracy: 0.9669\n",
            "Test acc: 0.967\n"
          ]
        }
      ]
    },
    {
      "cell_type": "markdown",
      "source": [
        "#### Variation 4.3.1"
      ],
      "metadata": {
        "id": "I7IrkQSnOAs0"
      }
    },
    {
      "cell_type": "code",
      "source": [
        "## Experiment 3, Variation 4.3.1 - 100 units, 10 output units, RMSprop optimizer,  Sigmoid output activation\n",
        "## Build model\n",
        "\n",
        "model_3_4 = Sequential([\n",
        "    Dense(input_shape=[784], units=100, activation = tf.nn.relu,kernel_regularizer=tf.keras.regularizers.L2(0.001)),\n",
        "    Dense(name = \"output_layer\", units = 10, activation = tf.nn.sigmoid)\n",
        "])\n",
        "\n",
        "print(model_3_4.summary())"
      ],
      "metadata": {
        "colab": {
          "base_uri": "https://localhost:8080/"
        },
        "outputId": "67c8d94c-b375-453d-e0b5-403ee31f313f",
        "id": "7EGUTwB2OAs0"
      },
      "execution_count": 89,
      "outputs": [
        {
          "output_type": "stream",
          "name": "stdout",
          "text": [
            "Model: \"sequential_10\"\n",
            "_________________________________________________________________\n",
            " Layer (type)                Output Shape              Param #   \n",
            "=================================================================\n",
            " dense_10 (Dense)            (None, 100)               78500     \n",
            "                                                                 \n",
            " output_layer (Dense)        (None, 10)                1010      \n",
            "                                                                 \n",
            "=================================================================\n",
            "Total params: 79,510\n",
            "Trainable params: 79,510\n",
            "Non-trainable params: 0\n",
            "_________________________________________________________________\n",
            "None\n"
          ]
        }
      ]
    },
    {
      "cell_type": "code",
      "source": [
        "## Compile\n",
        "\n",
        "model_3_4.compile(optimizer='rmsprop',           \n",
        "               loss = 'categorical_crossentropy',\n",
        "               metrics=['accuracy'])"
      ],
      "metadata": {
        "id": "YXmE_lNsOAs7"
      },
      "execution_count": 90,
      "outputs": []
    },
    {
      "cell_type": "code",
      "source": [
        "## Train \n",
        "\n",
        "history_3_4 = model_3_4.fit(\n",
        "    x_train_norm\n",
        "    ,y_train_encoded\n",
        "    ,epochs = 200\n",
        "    ,validation_split=0.083 # 5,000 (of 60,000) for validation\n",
        "    ,callbacks=[tf.keras.callbacks.ModelCheckpoint(\"DNN_model.h5\",save_best_only=True,save_weights_only=False)\n",
        "                ,tf.keras.callbacks.EarlyStopping(monitor='val_accuracy', patience=2)] \n",
        "    )"
      ],
      "metadata": {
        "colab": {
          "base_uri": "https://localhost:8080/"
        },
        "outputId": "276da7ec-41c4-475f-8f8e-b2c8d3e93947",
        "id": "tEMyP49NOAs7"
      },
      "execution_count": 91,
      "outputs": [
        {
          "output_type": "stream",
          "name": "stdout",
          "text": [
            "Epoch 1/200\n",
            "1720/1720 [==============================] - 8s 4ms/step - loss: 0.4228 - accuracy: 0.9082 - val_loss: 0.2474 - val_accuracy: 0.9546\n",
            "Epoch 2/200\n",
            "1720/1720 [==============================] - 6s 4ms/step - loss: 0.2563 - accuracy: 0.9471 - val_loss: 0.2160 - val_accuracy: 0.9618\n",
            "Epoch 3/200\n",
            "1720/1720 [==============================] - 6s 4ms/step - loss: 0.2150 - accuracy: 0.9553 - val_loss: 0.1739 - val_accuracy: 0.9699\n",
            "Epoch 4/200\n",
            "1720/1720 [==============================] - 6s 4ms/step - loss: 0.1922 - accuracy: 0.9607 - val_loss: 0.1861 - val_accuracy: 0.9637\n",
            "Epoch 5/200\n",
            "1720/1720 [==============================] - 6s 4ms/step - loss: 0.1763 - accuracy: 0.9641 - val_loss: 0.1967 - val_accuracy: 0.9564\n"
          ]
        }
      ]
    },
    {
      "cell_type": "code",
      "source": [
        "## Evaluate\n",
        "\n",
        "model_3_4 = tf.keras.models.load_model(\"DNN_model.h5\")\n",
        "print(f\"Test acc: {model_3_4.evaluate(x_test_norm, y_test_encoded)[1]:.3f}\")"
      ],
      "metadata": {
        "colab": {
          "base_uri": "https://localhost:8080/"
        },
        "outputId": "2ecc604e-767f-461c-f875-7ed9a2e7a495",
        "id": "xYFoY360OAs8"
      },
      "execution_count": 92,
      "outputs": [
        {
          "output_type": "stream",
          "name": "stdout",
          "text": [
            "313/313 [==============================] - 1s 2ms/step - loss: 0.1909 - accuracy: 0.9641\n",
            "Test acc: 0.964\n"
          ]
        }
      ]
    },
    {
      "cell_type": "markdown",
      "source": [
        "#### Variation 4.3.2"
      ],
      "metadata": {
        "id": "MJ2_1iuSOyEX"
      }
    },
    {
      "cell_type": "code",
      "source": [
        "## Experiment 3, Variation 4.3.2 - 100 units, 10 output units, RMSprop optimizer,  ReLU output activation\n",
        "## Build model\n",
        "\n",
        "model_3_4 = Sequential([\n",
        "    Dense(input_shape=[784], units=100, activation = tf.nn.relu,kernel_regularizer=tf.keras.regularizers.L2(0.001)),\n",
        "    Dense(name = \"output_layer\", units = 10, activation = tf.nn.relu)\n",
        "])\n",
        "\n",
        "print(model_3_4.summary())"
      ],
      "metadata": {
        "colab": {
          "base_uri": "https://localhost:8080/"
        },
        "outputId": "5ad7ed05-d425-4617-de3c-d783799ef97c",
        "id": "UangCf7rOyEY"
      },
      "execution_count": 93,
      "outputs": [
        {
          "output_type": "stream",
          "name": "stdout",
          "text": [
            "Model: \"sequential_11\"\n",
            "_________________________________________________________________\n",
            " Layer (type)                Output Shape              Param #   \n",
            "=================================================================\n",
            " dense_11 (Dense)            (None, 100)               78500     \n",
            "                                                                 \n",
            " output_layer (Dense)        (None, 10)                1010      \n",
            "                                                                 \n",
            "=================================================================\n",
            "Total params: 79,510\n",
            "Trainable params: 79,510\n",
            "Non-trainable params: 0\n",
            "_________________________________________________________________\n",
            "None\n"
          ]
        }
      ]
    },
    {
      "cell_type": "code",
      "source": [
        "## Compile\n",
        "\n",
        "model_3_4.compile(optimizer='rmsprop',           \n",
        "               loss = 'categorical_crossentropy',\n",
        "               metrics=['accuracy'])"
      ],
      "metadata": {
        "id": "udwOc3FkOyEZ"
      },
      "execution_count": 94,
      "outputs": []
    },
    {
      "cell_type": "code",
      "source": [
        "## Train \n",
        "\n",
        "history_3_4 = model_3_4.fit(\n",
        "    x_train_norm\n",
        "    ,y_train_encoded\n",
        "    ,epochs = 200\n",
        "    ,validation_split=0.083 # 5,000 (of 60,000) for validation\n",
        "    ,callbacks=[tf.keras.callbacks.ModelCheckpoint(\"DNN_model.h5\",save_best_only=True,save_weights_only=False)\n",
        "                ,tf.keras.callbacks.EarlyStopping(monitor='val_accuracy', patience=2)] \n",
        "    )"
      ],
      "metadata": {
        "colab": {
          "base_uri": "https://localhost:8080/"
        },
        "outputId": "8a1e680e-8b06-45fd-aa9a-1a61a826953f",
        "id": "dph50JOvOyEZ"
      },
      "execution_count": 95,
      "outputs": [
        {
          "output_type": "stream",
          "name": "stdout",
          "text": [
            "Epoch 1/200\n",
            "1720/1720 [==============================] - 7s 4ms/step - loss: nan - accuracy: 0.6986 - val_loss: nan - val_accuracy: 0.7530\n",
            "Epoch 2/200\n",
            "1720/1720 [==============================] - 6s 3ms/step - loss: nan - accuracy: 0.4701 - val_loss: nan - val_accuracy: 0.2462\n",
            "Epoch 3/200\n",
            "1720/1720 [==============================] - 6s 3ms/step - loss: nan - accuracy: 0.2460 - val_loss: 14.6390 - val_accuracy: 0.0918\n"
          ]
        }
      ]
    },
    {
      "cell_type": "code",
      "source": [
        "## Evaluate\n",
        "\n",
        "model_3_4 = tf.keras.models.load_model(\"DNN_model.h5\")\n",
        "print(f\"Test acc: {model_3_4.evaluate(x_test_norm, y_test_encoded)[1]:.3f}\")"
      ],
      "metadata": {
        "colab": {
          "base_uri": "https://localhost:8080/"
        },
        "outputId": "7939bb73-2904-480f-e900-c494b4be687c",
        "id": "pKWt4vEbOyEa"
      },
      "execution_count": 96,
      "outputs": [
        {
          "output_type": "stream",
          "name": "stdout",
          "text": [
            "313/313 [==============================] - 1s 2ms/step - loss: 14.6804 - accuracy: 0.0892\n",
            "Test acc: 0.089\n"
          ]
        }
      ]
    },
    {
      "cell_type": "markdown",
      "source": [
        "#### Variation 4.3.3"
      ],
      "metadata": {
        "id": "P_hgjUKqPRI1"
      }
    },
    {
      "cell_type": "code",
      "source": [
        "## Experiment 3, Variation 4.3.3 - 100 units, 10 output units, RMSprop optimizer, tanh output activation\n",
        "## Build model\n",
        "\n",
        "model_3_4 = Sequential([\n",
        "    Dense(input_shape=[784], units=100, activation = tf.nn.relu,kernel_regularizer=tf.keras.regularizers.L2(0.001)),\n",
        "    Dense(name = \"output_layer\", units = 10, activation = tf.nn.tanh)\n",
        "])\n",
        "\n",
        "print(model_3_4.summary())"
      ],
      "metadata": {
        "colab": {
          "base_uri": "https://localhost:8080/"
        },
        "outputId": "ea3266c4-0e3a-45b7-8798-20e8843d087c",
        "id": "QDeNKipFPRI2"
      },
      "execution_count": 97,
      "outputs": [
        {
          "output_type": "stream",
          "name": "stdout",
          "text": [
            "Model: \"sequential_12\"\n",
            "_________________________________________________________________\n",
            " Layer (type)                Output Shape              Param #   \n",
            "=================================================================\n",
            " dense_12 (Dense)            (None, 100)               78500     \n",
            "                                                                 \n",
            " output_layer (Dense)        (None, 10)                1010      \n",
            "                                                                 \n",
            "=================================================================\n",
            "Total params: 79,510\n",
            "Trainable params: 79,510\n",
            "Non-trainable params: 0\n",
            "_________________________________________________________________\n",
            "None\n"
          ]
        }
      ]
    },
    {
      "cell_type": "code",
      "source": [
        "## Compile\n",
        "\n",
        "model_3_4.compile(optimizer='rmsprop',           \n",
        "               loss = 'categorical_crossentropy',\n",
        "               metrics=['accuracy'])"
      ],
      "metadata": {
        "id": "f8MAKey8PRI2"
      },
      "execution_count": 98,
      "outputs": []
    },
    {
      "cell_type": "code",
      "source": [
        "## Train \n",
        "\n",
        "history_3_4 = model_3_4.fit(\n",
        "    x_train_norm\n",
        "    ,y_train_encoded\n",
        "    ,epochs = 200\n",
        "    ,validation_split=0.083 # 5,000 (of 60,000) for validation\n",
        "    ,callbacks=[tf.keras.callbacks.ModelCheckpoint(\"DNN_model.h5\",save_best_only=True,save_weights_only=False)\n",
        "                ,tf.keras.callbacks.EarlyStopping(monitor='val_accuracy', patience=2)] \n",
        "    )"
      ],
      "metadata": {
        "colab": {
          "base_uri": "https://localhost:8080/"
        },
        "outputId": "367a0d2e-e990-4464-9ca8-073abbfb943b",
        "id": "Oye3CNVPPRI2"
      },
      "execution_count": 99,
      "outputs": [
        {
          "output_type": "stream",
          "name": "stdout",
          "text": [
            "Epoch 1/200\n",
            "1720/1720 [==============================] - 7s 4ms/step - loss: 8.3141 - accuracy: 0.1074 - val_loss: 7.9134 - val_accuracy: 0.0962\n",
            "Epoch 2/200\n",
            "1720/1720 [==============================] - 6s 3ms/step - loss: 7.9855 - accuracy: 0.0993 - val_loss: 7.9134 - val_accuracy: 0.0962\n",
            "Epoch 3/200\n",
            "1720/1720 [==============================] - 6s 3ms/step - loss: 7.9884 - accuracy: 0.0994 - val_loss: 7.9134 - val_accuracy: 0.0962\n"
          ]
        }
      ]
    },
    {
      "cell_type": "code",
      "source": [
        "## Evaluate\n",
        "\n",
        "model_3_4 = tf.keras.models.load_model(\"DNN_model.h5\")\n",
        "print(f\"Test acc: {model_3_4.evaluate(x_test_norm, y_test_encoded)[1]:.3f}\")"
      ],
      "metadata": {
        "colab": {
          "base_uri": "https://localhost:8080/"
        },
        "outputId": "d5583c03-c678-4533-91a5-5ffa42d5955e",
        "id": "cYvTRm34PRI3"
      },
      "execution_count": 100,
      "outputs": [
        {
          "output_type": "stream",
          "name": "stdout",
          "text": [
            "313/313 [==============================] - 1s 2ms/step - loss: 8.0413 - accuracy: 0.1009\n",
            "Test acc: 0.101\n"
          ]
        }
      ]
    },
    {
      "cell_type": "code",
      "source": [],
      "metadata": {
        "id": "D4fE1n09PRI3"
      },
      "execution_count": 100,
      "outputs": []
    },
    {
      "cell_type": "markdown",
      "source": [
        "### Variation 4.4"
      ],
      "metadata": {
        "id": "GkPPzsUKL9XW"
      }
    },
    {
      "cell_type": "markdown",
      "source": [
        "####Build, Compile, Train, Evaluate"
      ],
      "metadata": {
        "id": "-g3hv2AbL9XX"
      }
    },
    {
      "cell_type": "code",
      "source": [
        "## Experiment 3, Variation 4.3 - 100 units, 10 output units, Adadelta optimizer \n",
        "## Build model\n",
        "\n",
        "model_3_4 = Sequential([\n",
        "    Dense(input_shape=[784], units=100, activation = tf.nn.relu,kernel_regularizer=tf.keras.regularizers.L2(0.001)),\n",
        "    Dense(name = \"output_layer\", units = 10, activation = tf.nn.softmax)\n",
        "])\n",
        "\n",
        "print(model_3_4.summary())"
      ],
      "metadata": {
        "colab": {
          "base_uri": "https://localhost:8080/"
        },
        "outputId": "c5958a97-d9f0-4252-adc5-0447657b6b1c",
        "id": "tGBTu_6VL9XX"
      },
      "execution_count": 101,
      "outputs": [
        {
          "output_type": "stream",
          "name": "stdout",
          "text": [
            "Model: \"sequential_13\"\n",
            "_________________________________________________________________\n",
            " Layer (type)                Output Shape              Param #   \n",
            "=================================================================\n",
            " dense_13 (Dense)            (None, 100)               78500     \n",
            "                                                                 \n",
            " output_layer (Dense)        (None, 10)                1010      \n",
            "                                                                 \n",
            "=================================================================\n",
            "Total params: 79,510\n",
            "Trainable params: 79,510\n",
            "Non-trainable params: 0\n",
            "_________________________________________________________________\n",
            "None\n"
          ]
        }
      ]
    },
    {
      "cell_type": "code",
      "source": [
        "## Compile\n",
        "\n",
        "model_3_4.compile(optimizer='adadelta',           \n",
        "               loss = 'categorical_crossentropy',\n",
        "               metrics=['accuracy'])"
      ],
      "metadata": {
        "id": "c1A4J_llL9XY"
      },
      "execution_count": 102,
      "outputs": []
    },
    {
      "cell_type": "code",
      "source": [
        "## Train \n",
        "\n",
        "history_3_4 = model_3_4.fit(\n",
        "    x_train_norm\n",
        "    ,y_train_encoded\n",
        "    ,epochs = 200\n",
        "    ,validation_split=0.083 # 5,000 (of 60,000) for validation\n",
        "    ,callbacks=[tf.keras.callbacks.ModelCheckpoint(\"DNN_model.h5\",save_best_only=True,save_weights_only=False)\n",
        "                ,tf.keras.callbacks.EarlyStopping(monitor='val_accuracy', patience=2)] \n",
        "    )"
      ],
      "metadata": {
        "colab": {
          "base_uri": "https://localhost:8080/"
        },
        "outputId": "19599487-2c94-422f-eaf1-4ef0174784cd",
        "id": "yrL7g38kL9XY"
      },
      "execution_count": 103,
      "outputs": [
        {
          "output_type": "stream",
          "name": "stdout",
          "text": [
            "Epoch 1/200\n",
            "1720/1720 [==============================] - 6s 3ms/step - loss: 2.4685 - accuracy: 0.1368 - val_loss: 2.3915 - val_accuracy: 0.1904\n",
            "Epoch 2/200\n",
            "1720/1720 [==============================] - 5s 3ms/step - loss: 2.3343 - accuracy: 0.2536 - val_loss: 2.2582 - val_accuracy: 0.3598\n",
            "Epoch 3/200\n",
            "1720/1720 [==============================] - 5s 3ms/step - loss: 2.2141 - accuracy: 0.4008 - val_loss: 2.1363 - val_accuracy: 0.5086\n",
            "Epoch 4/200\n",
            "1720/1720 [==============================] - 5s 3ms/step - loss: 2.1019 - accuracy: 0.5136 - val_loss: 2.0206 - val_accuracy: 0.6066\n",
            "Epoch 5/200\n",
            "1720/1720 [==============================] - 5s 3ms/step - loss: 1.9950 - accuracy: 0.5899 - val_loss: 1.9093 - val_accuracy: 0.6629\n",
            "Epoch 6/200\n",
            "1720/1720 [==============================] - 5s 3ms/step - loss: 1.8918 - accuracy: 0.6385 - val_loss: 1.8021 - val_accuracy: 0.7038\n",
            "Epoch 7/200\n",
            "1720/1720 [==============================] - 5s 3ms/step - loss: 1.7921 - accuracy: 0.6730 - val_loss: 1.6986 - val_accuracy: 0.7303\n",
            "Epoch 8/200\n",
            "1720/1720 [==============================] - 5s 3ms/step - loss: 1.6966 - accuracy: 0.6991 - val_loss: 1.6006 - val_accuracy: 0.7524\n",
            "Epoch 9/200\n",
            "1720/1720 [==============================] - 5s 3ms/step - loss: 1.6065 - accuracy: 0.7205 - val_loss: 1.5086 - val_accuracy: 0.7701\n",
            "Epoch 10/200\n",
            "1720/1720 [==============================] - 5s 3ms/step - loss: 1.5222 - accuracy: 0.7372 - val_loss: 1.4233 - val_accuracy: 0.7867\n",
            "Epoch 11/200\n",
            "1720/1720 [==============================] - 5s 3ms/step - loss: 1.4441 - accuracy: 0.7518 - val_loss: 1.3443 - val_accuracy: 0.7982\n",
            "Epoch 12/200\n",
            "1720/1720 [==============================] - 5s 3ms/step - loss: 1.3724 - accuracy: 0.7633 - val_loss: 1.2726 - val_accuracy: 0.8078\n",
            "Epoch 13/200\n",
            "1720/1720 [==============================] - 5s 3ms/step - loss: 1.3072 - accuracy: 0.7738 - val_loss: 1.2077 - val_accuracy: 0.8169\n",
            "Epoch 14/200\n",
            "1720/1720 [==============================] - 5s 3ms/step - loss: 1.2482 - accuracy: 0.7827 - val_loss: 1.1490 - val_accuracy: 0.8237\n",
            "Epoch 15/200\n",
            "1720/1720 [==============================] - 5s 3ms/step - loss: 1.1948 - accuracy: 0.7905 - val_loss: 1.0957 - val_accuracy: 0.8325\n",
            "Epoch 16/200\n",
            "1720/1720 [==============================] - 5s 3ms/step - loss: 1.1463 - accuracy: 0.7985 - val_loss: 1.0478 - val_accuracy: 0.8406\n",
            "Epoch 17/200\n",
            "1720/1720 [==============================] - 5s 3ms/step - loss: 1.1028 - accuracy: 0.8048 - val_loss: 1.0048 - val_accuracy: 0.8464\n",
            "Epoch 18/200\n",
            "1720/1720 [==============================] - 5s 3ms/step - loss: 1.0635 - accuracy: 0.8111 - val_loss: 0.9660 - val_accuracy: 0.8522\n",
            "Epoch 19/200\n",
            "1720/1720 [==============================] - 5s 3ms/step - loss: 1.0280 - accuracy: 0.8160 - val_loss: 0.9309 - val_accuracy: 0.8580\n",
            "Epoch 20/200\n",
            "1720/1720 [==============================] - 5s 3ms/step - loss: 0.9959 - accuracy: 0.8212 - val_loss: 0.8994 - val_accuracy: 0.8612\n",
            "Epoch 21/200\n",
            "1720/1720 [==============================] - 5s 3ms/step - loss: 0.9668 - accuracy: 0.8258 - val_loss: 0.8706 - val_accuracy: 0.8641\n",
            "Epoch 22/200\n",
            "1720/1720 [==============================] - 5s 3ms/step - loss: 0.9403 - accuracy: 0.8297 - val_loss: 0.8446 - val_accuracy: 0.8679\n",
            "Epoch 23/200\n",
            "1720/1720 [==============================] - 5s 3ms/step - loss: 0.9162 - accuracy: 0.8330 - val_loss: 0.8210 - val_accuracy: 0.8699\n",
            "Epoch 24/200\n",
            "1720/1720 [==============================] - 5s 3ms/step - loss: 0.8942 - accuracy: 0.8364 - val_loss: 0.7993 - val_accuracy: 0.8739\n",
            "Epoch 25/200\n",
            "1720/1720 [==============================] - 5s 3ms/step - loss: 0.8739 - accuracy: 0.8388 - val_loss: 0.7794 - val_accuracy: 0.8771\n",
            "Epoch 26/200\n",
            "1720/1720 [==============================] - 5s 3ms/step - loss: 0.8552 - accuracy: 0.8419 - val_loss: 0.7612 - val_accuracy: 0.8817\n",
            "Epoch 27/200\n",
            "1720/1720 [==============================] - 5s 3ms/step - loss: 0.8379 - accuracy: 0.8449 - val_loss: 0.7443 - val_accuracy: 0.8843\n",
            "Epoch 28/200\n",
            "1720/1720 [==============================] - 5s 3ms/step - loss: 0.8220 - accuracy: 0.8476 - val_loss: 0.7288 - val_accuracy: 0.8865\n",
            "Epoch 29/200\n",
            "1720/1720 [==============================] - 5s 3ms/step - loss: 0.8072 - accuracy: 0.8498 - val_loss: 0.7145 - val_accuracy: 0.8886\n",
            "Epoch 30/200\n",
            "1720/1720 [==============================] - 5s 3ms/step - loss: 0.7934 - accuracy: 0.8527 - val_loss: 0.7010 - val_accuracy: 0.8896\n",
            "Epoch 31/200\n",
            "1720/1720 [==============================] - 5s 3ms/step - loss: 0.7806 - accuracy: 0.8549 - val_loss: 0.6886 - val_accuracy: 0.8906\n",
            "Epoch 32/200\n",
            "1720/1720 [==============================] - 5s 3ms/step - loss: 0.7687 - accuracy: 0.8569 - val_loss: 0.6771 - val_accuracy: 0.8920\n",
            "Epoch 33/200\n",
            "1720/1720 [==============================] - 5s 3ms/step - loss: 0.7575 - accuracy: 0.8589 - val_loss: 0.6664 - val_accuracy: 0.8944\n",
            "Epoch 34/200\n",
            "1720/1720 [==============================] - 5s 3ms/step - loss: 0.7471 - accuracy: 0.8606 - val_loss: 0.6562 - val_accuracy: 0.8962\n",
            "Epoch 35/200\n",
            "1720/1720 [==============================] - 5s 3ms/step - loss: 0.7372 - accuracy: 0.8624 - val_loss: 0.6466 - val_accuracy: 0.8970\n",
            "Epoch 36/200\n",
            "1720/1720 [==============================] - 5s 3ms/step - loss: 0.7279 - accuracy: 0.8642 - val_loss: 0.6377 - val_accuracy: 0.8988\n",
            "Epoch 37/200\n",
            "1720/1720 [==============================] - 5s 3ms/step - loss: 0.7191 - accuracy: 0.8657 - val_loss: 0.6292 - val_accuracy: 0.8994\n",
            "Epoch 38/200\n",
            "1720/1720 [==============================] - 5s 3ms/step - loss: 0.7107 - accuracy: 0.8671 - val_loss: 0.6213 - val_accuracy: 0.9008\n",
            "Epoch 39/200\n",
            "1720/1720 [==============================] - 5s 3ms/step - loss: 0.7028 - accuracy: 0.8689 - val_loss: 0.6137 - val_accuracy: 0.9016\n",
            "Epoch 40/200\n",
            "1720/1720 [==============================] - 5s 3ms/step - loss: 0.6953 - accuracy: 0.8702 - val_loss: 0.6066 - val_accuracy: 0.9018\n",
            "Epoch 41/200\n",
            "1720/1720 [==============================] - 5s 3ms/step - loss: 0.6882 - accuracy: 0.8717 - val_loss: 0.5998 - val_accuracy: 0.9026\n",
            "Epoch 42/200\n",
            "1720/1720 [==============================] - 5s 3ms/step - loss: 0.6814 - accuracy: 0.8730 - val_loss: 0.5933 - val_accuracy: 0.9042\n",
            "Epoch 43/200\n",
            "1720/1720 [==============================] - 5s 3ms/step - loss: 0.6749 - accuracy: 0.8739 - val_loss: 0.5871 - val_accuracy: 0.9066\n",
            "Epoch 44/200\n",
            "1720/1720 [==============================] - 5s 3ms/step - loss: 0.6686 - accuracy: 0.8746 - val_loss: 0.5812 - val_accuracy: 0.9086\n",
            "Epoch 45/200\n",
            "1720/1720 [==============================] - 5s 3ms/step - loss: 0.6627 - accuracy: 0.8759 - val_loss: 0.5756 - val_accuracy: 0.9094\n",
            "Epoch 46/200\n",
            "1720/1720 [==============================] - 5s 3ms/step - loss: 0.6570 - accuracy: 0.8766 - val_loss: 0.5703 - val_accuracy: 0.9094\n",
            "Epoch 47/200\n",
            "1720/1720 [==============================] - 5s 3ms/step - loss: 0.6516 - accuracy: 0.8773 - val_loss: 0.5652 - val_accuracy: 0.9108\n",
            "Epoch 48/200\n",
            "1720/1720 [==============================] - 5s 3ms/step - loss: 0.6464 - accuracy: 0.8780 - val_loss: 0.5603 - val_accuracy: 0.9114\n",
            "Epoch 49/200\n",
            "1720/1720 [==============================] - 5s 3ms/step - loss: 0.6414 - accuracy: 0.8788 - val_loss: 0.5556 - val_accuracy: 0.9120\n",
            "Epoch 50/200\n",
            "1720/1720 [==============================] - 5s 3ms/step - loss: 0.6366 - accuracy: 0.8795 - val_loss: 0.5511 - val_accuracy: 0.9129\n",
            "Epoch 51/200\n",
            "1720/1720 [==============================] - 5s 3ms/step - loss: 0.6320 - accuracy: 0.8803 - val_loss: 0.5468 - val_accuracy: 0.9135\n",
            "Epoch 52/200\n",
            "1720/1720 [==============================] - 5s 3ms/step - loss: 0.6276 - accuracy: 0.8815 - val_loss: 0.5426 - val_accuracy: 0.9151\n",
            "Epoch 53/200\n",
            "1720/1720 [==============================] - 5s 3ms/step - loss: 0.6233 - accuracy: 0.8822 - val_loss: 0.5386 - val_accuracy: 0.9157\n",
            "Epoch 54/200\n",
            "1720/1720 [==============================] - 5s 3ms/step - loss: 0.6191 - accuracy: 0.8829 - val_loss: 0.5348 - val_accuracy: 0.9159\n",
            "Epoch 55/200\n",
            "1720/1720 [==============================] - 5s 3ms/step - loss: 0.6151 - accuracy: 0.8839 - val_loss: 0.5311 - val_accuracy: 0.9159\n",
            "Epoch 56/200\n",
            "1720/1720 [==============================] - 5s 3ms/step - loss: 0.6112 - accuracy: 0.8843 - val_loss: 0.5275 - val_accuracy: 0.9169\n",
            "Epoch 57/200\n",
            "1720/1720 [==============================] - 5s 3ms/step - loss: 0.6075 - accuracy: 0.8849 - val_loss: 0.5240 - val_accuracy: 0.9173\n",
            "Epoch 58/200\n",
            "1720/1720 [==============================] - 5s 3ms/step - loss: 0.6039 - accuracy: 0.8857 - val_loss: 0.5206 - val_accuracy: 0.9173\n",
            "Epoch 59/200\n",
            "1720/1720 [==============================] - 5s 3ms/step - loss: 0.6003 - accuracy: 0.8863 - val_loss: 0.5174 - val_accuracy: 0.9179\n",
            "Epoch 60/200\n",
            "1720/1720 [==============================] - 5s 3ms/step - loss: 0.5969 - accuracy: 0.8870 - val_loss: 0.5143 - val_accuracy: 0.9179\n",
            "Epoch 61/200\n",
            "1720/1720 [==============================] - 5s 3ms/step - loss: 0.5936 - accuracy: 0.8875 - val_loss: 0.5113 - val_accuracy: 0.9181\n",
            "Epoch 62/200\n",
            "1720/1720 [==============================] - 5s 3ms/step - loss: 0.5904 - accuracy: 0.8883 - val_loss: 0.5083 - val_accuracy: 0.9189\n",
            "Epoch 63/200\n",
            "1720/1720 [==============================] - 5s 3ms/step - loss: 0.5873 - accuracy: 0.8890 - val_loss: 0.5054 - val_accuracy: 0.9193\n",
            "Epoch 64/200\n",
            "1720/1720 [==============================] - 5s 3ms/step - loss: 0.5843 - accuracy: 0.8894 - val_loss: 0.5026 - val_accuracy: 0.9197\n",
            "Epoch 65/200\n",
            "1720/1720 [==============================] - 5s 3ms/step - loss: 0.5813 - accuracy: 0.8899 - val_loss: 0.4999 - val_accuracy: 0.9203\n",
            "Epoch 66/200\n",
            "1720/1720 [==============================] - 5s 3ms/step - loss: 0.5784 - accuracy: 0.8904 - val_loss: 0.4973 - val_accuracy: 0.9211\n",
            "Epoch 67/200\n",
            "1720/1720 [==============================] - 5s 3ms/step - loss: 0.5756 - accuracy: 0.8909 - val_loss: 0.4947 - val_accuracy: 0.9213\n",
            "Epoch 68/200\n",
            "1720/1720 [==============================] - 5s 3ms/step - loss: 0.5729 - accuracy: 0.8913 - val_loss: 0.4922 - val_accuracy: 0.9215\n",
            "Epoch 69/200\n",
            "1720/1720 [==============================] - 5s 3ms/step - loss: 0.5702 - accuracy: 0.8918 - val_loss: 0.4898 - val_accuracy: 0.9215\n",
            "Epoch 70/200\n",
            "1720/1720 [==============================] - 5s 3ms/step - loss: 0.5676 - accuracy: 0.8920 - val_loss: 0.4875 - val_accuracy: 0.9215\n"
          ]
        }
      ]
    },
    {
      "cell_type": "code",
      "source": [
        "## Evaluate\n",
        "\n",
        "model_3_4 = tf.keras.models.load_model(\"DNN_model.h5\")\n",
        "print(f\"Test acc: {model_3_4.evaluate(x_test_norm, y_test_encoded)[1]:.3f}\")"
      ],
      "metadata": {
        "colab": {
          "base_uri": "https://localhost:8080/"
        },
        "outputId": "d059e7b4-5b47-4c4b-c24a-e08524acea29",
        "id": "WObv2CO3L9XZ"
      },
      "execution_count": 104,
      "outputs": [
        {
          "output_type": "stream",
          "name": "stdout",
          "text": [
            "313/313 [==============================] - 1s 2ms/step - loss: 0.5411 - accuracy: 0.8990\n",
            "Test acc: 0.899\n"
          ]
        }
      ]
    },
    {
      "cell_type": "code",
      "source": [
        "## Experiment 3, Variation 6 - 550 units, 10 output units\n",
        "## Build model\n",
        "\n",
        "model_3_6 = Sequential([\n",
        "    Dense(input_shape=[784], units=550, activation = tf.nn.relu,kernel_regularizer=tf.keras.regularizers.L2(0.001)),\n",
        "    Dense(name = \"output_layer\", units = 10, activation = tf.nn.softmax)\n",
        "])\n",
        "\n",
        "print(model_3_6.summary())"
      ],
      "metadata": {
        "colab": {
          "base_uri": "https://localhost:8080/"
        },
        "outputId": "a87248c1-a6e5-48ca-fd69-b3c97fe66fc5",
        "id": "IPFETEssCtnD"
      },
      "execution_count": 105,
      "outputs": [
        {
          "output_type": "stream",
          "name": "stdout",
          "text": [
            "Model: \"sequential_14\"\n",
            "_________________________________________________________________\n",
            " Layer (type)                Output Shape              Param #   \n",
            "=================================================================\n",
            " dense_14 (Dense)            (None, 550)               431750    \n",
            "                                                                 \n",
            " output_layer (Dense)        (None, 10)                5510      \n",
            "                                                                 \n",
            "=================================================================\n",
            "Total params: 437,260\n",
            "Trainable params: 437,260\n",
            "Non-trainable params: 0\n",
            "_________________________________________________________________\n",
            "None\n"
          ]
        }
      ]
    },
    {
      "cell_type": "code",
      "source": [
        "## Compile\n",
        "\n",
        "model_3_6.compile(optimizer='rmsprop',           \n",
        "               loss = 'categorical_crossentropy',\n",
        "               metrics=['accuracy'])"
      ],
      "metadata": {
        "id": "ToK0KHoaCtnE"
      },
      "execution_count": 106,
      "outputs": []
    },
    {
      "cell_type": "code",
      "source": [
        "## Train \n",
        "\n",
        "history_3_6 = model_3_6.fit(\n",
        "    x_train_norm\n",
        "    ,y_train_encoded\n",
        "    ,epochs = 200\n",
        "    ,validation_split=0.083 # 5,000 (of 60,000) for validation\n",
        "    ,callbacks=[tf.keras.callbacks.ModelCheckpoint(\"DNN_model.h5\",save_best_only=True,save_weights_only=False)\n",
        "                ,tf.keras.callbacks.EarlyStopping(monitor='val_accuracy', patience=2)] \n",
        "    )"
      ],
      "metadata": {
        "colab": {
          "base_uri": "https://localhost:8080/"
        },
        "outputId": "6e4b6ece-2ca7-4830-f3e4-fddac7c9a90a",
        "id": "P7EgczA9CtnE"
      },
      "execution_count": 107,
      "outputs": [
        {
          "output_type": "stream",
          "name": "stdout",
          "text": [
            "Epoch 1/200\n",
            "1720/1720 [==============================] - 6s 3ms/step - loss: 0.3976 - accuracy: 0.9269 - val_loss: 0.2335 - val_accuracy: 0.9572\n",
            "Epoch 2/200\n",
            "1720/1720 [==============================] - 6s 3ms/step - loss: 0.2351 - accuracy: 0.9548 - val_loss: 0.1851 - val_accuracy: 0.9681\n",
            "Epoch 3/200\n",
            "1720/1720 [==============================] - 6s 3ms/step - loss: 0.2129 - accuracy: 0.9585 - val_loss: 0.1784 - val_accuracy: 0.9701\n",
            "Epoch 4/200\n",
            "1720/1720 [==============================] - 6s 3ms/step - loss: 0.2004 - accuracy: 0.9613 - val_loss: 0.1684 - val_accuracy: 0.9711\n",
            "Epoch 5/200\n",
            "1720/1720 [==============================] - 6s 3ms/step - loss: 0.1912 - accuracy: 0.9634 - val_loss: 0.1662 - val_accuracy: 0.9733\n",
            "Epoch 6/200\n",
            "1720/1720 [==============================] - 6s 3ms/step - loss: 0.1846 - accuracy: 0.9642 - val_loss: 0.1607 - val_accuracy: 0.9725\n",
            "Epoch 7/200\n",
            "1720/1720 [==============================] - 6s 3ms/step - loss: 0.1788 - accuracy: 0.9653 - val_loss: 0.1728 - val_accuracy: 0.9703\n"
          ]
        }
      ]
    },
    {
      "cell_type": "code",
      "source": [
        "## Evaluate\n",
        "\n",
        "model_3_6 = tf.keras.models.load_model(\"DNN_model.h5\")\n",
        "print(f\"Test acc: {model_3_6.evaluate(x_test_norm, y_test_encoded)[1]:.3f}\")"
      ],
      "metadata": {
        "colab": {
          "base_uri": "https://localhost:8080/"
        },
        "outputId": "d32b4653-a56f-4c72-f756-1f794b527b02",
        "id": "DSlKJRoFCtnF"
      },
      "execution_count": 108,
      "outputs": [
        {
          "output_type": "stream",
          "name": "stdout",
          "text": [
            "313/313 [==============================] - 1s 2ms/step - loss: 0.1815 - accuracy: 0.9638\n",
            "Test acc: 0.964\n"
          ]
        }
      ]
    },
    {
      "cell_type": "code",
      "source": [],
      "metadata": {
        "id": "YaalrWTICtnF"
      },
      "execution_count": 108,
      "outputs": []
    },
    {
      "cell_type": "markdown",
      "source": [
        "## Variation 5"
      ],
      "metadata": {
        "id": "gX0OYI0SCu7F"
      }
    },
    {
      "cell_type": "markdown",
      "source": [
        "####Build, Compile, Train, Evaluate"
      ],
      "metadata": {
        "id": "eaVlSakMCu7H"
      }
    },
    {
      "cell_type": "code",
      "source": [
        "## Experiment 3, Variation 5 - 200 units, 10 output units\n",
        "## Build model\n",
        "\n",
        "model_3_5 = Sequential([\n",
        "    Dense(input_shape=[784], units=200, activation = tf.nn.relu,kernel_regularizer=tf.keras.regularizers.L2(0.001)),\n",
        "    Dense(name = \"output_layer\", units = 10, activation = tf.nn.softmax)\n",
        "])\n",
        "\n",
        "print(model_3_5.summary())"
      ],
      "metadata": {
        "colab": {
          "base_uri": "https://localhost:8080/"
        },
        "outputId": "18c1b6cb-4667-4679-8980-26166e81c2d9",
        "id": "9ORTZQ3qCu7I"
      },
      "execution_count": 109,
      "outputs": [
        {
          "output_type": "stream",
          "name": "stdout",
          "text": [
            "Model: \"sequential_15\"\n",
            "_________________________________________________________________\n",
            " Layer (type)                Output Shape              Param #   \n",
            "=================================================================\n",
            " dense_15 (Dense)            (None, 200)               157000    \n",
            "                                                                 \n",
            " output_layer (Dense)        (None, 10)                2010      \n",
            "                                                                 \n",
            "=================================================================\n",
            "Total params: 159,010\n",
            "Trainable params: 159,010\n",
            "Non-trainable params: 0\n",
            "_________________________________________________________________\n",
            "None\n"
          ]
        }
      ]
    },
    {
      "cell_type": "code",
      "source": [
        "## Compile\n",
        "\n",
        "model_3_5.compile(optimizer='rmsprop',           \n",
        "               loss = 'categorical_crossentropy',\n",
        "               metrics=['accuracy'])"
      ],
      "metadata": {
        "id": "eVxqZTVsCu7J"
      },
      "execution_count": 110,
      "outputs": []
    },
    {
      "cell_type": "code",
      "source": [
        "## Train \n",
        "\n",
        "history_3_5 = model_3_5.fit(\n",
        "    x_train_norm\n",
        "    ,y_train_encoded\n",
        "    ,epochs = 200\n",
        "    ,validation_split=0.083 # 5,000 (of 60,000) for validation\n",
        "    ,callbacks=[tf.keras.callbacks.ModelCheckpoint(\"DNN_model.h5\",save_best_only=True,save_weights_only=False)\n",
        "                ,tf.keras.callbacks.EarlyStopping(monitor='val_accuracy', patience=2)] \n",
        "    )"
      ],
      "metadata": {
        "colab": {
          "base_uri": "https://localhost:8080/"
        },
        "outputId": "fb36e220-5483-46b9-d575-2a43968f881b",
        "id": "-LcbVSguCu7K"
      },
      "execution_count": 111,
      "outputs": [
        {
          "output_type": "stream",
          "name": "stdout",
          "text": [
            "Epoch 1/200\n",
            "1720/1720 [==============================] - 6s 3ms/step - loss: 0.3859 - accuracy: 0.9220 - val_loss: 0.2256 - val_accuracy: 0.9600\n",
            "Epoch 2/200\n",
            "1720/1720 [==============================] - 6s 3ms/step - loss: 0.2249 - accuracy: 0.9559 - val_loss: 0.1774 - val_accuracy: 0.9685\n",
            "Epoch 3/200\n",
            "1720/1720 [==============================] - 6s 3ms/step - loss: 0.1920 - accuracy: 0.9616 - val_loss: 0.1632 - val_accuracy: 0.9703\n",
            "Epoch 4/200\n",
            "1720/1720 [==============================] - 6s 3ms/step - loss: 0.1776 - accuracy: 0.9650 - val_loss: 0.1711 - val_accuracy: 0.9689\n",
            "Epoch 5/200\n",
            "1720/1720 [==============================] - 6s 3ms/step - loss: 0.1701 - accuracy: 0.9665 - val_loss: 0.1437 - val_accuracy: 0.9769\n",
            "Epoch 6/200\n",
            "1720/1720 [==============================] - 6s 3ms/step - loss: 0.1626 - accuracy: 0.9686 - val_loss: 0.1395 - val_accuracy: 0.9749\n",
            "Epoch 7/200\n",
            "1720/1720 [==============================] - 5s 3ms/step - loss: 0.1589 - accuracy: 0.9680 - val_loss: 0.1757 - val_accuracy: 0.9635\n"
          ]
        }
      ]
    },
    {
      "cell_type": "code",
      "source": [
        "## Evaluate\n",
        "\n",
        "model_3_5 = tf.keras.models.load_model(\"DNN_model.h5\")\n",
        "print(f\"Test acc: {model_3_5.evaluate(x_test_norm, y_test_encoded)[1]:.3f}\")"
      ],
      "metadata": {
        "colab": {
          "base_uri": "https://localhost:8080/"
        },
        "outputId": "c5db1ef4-43fe-4672-8b5b-83811cde5941",
        "id": "Lw-wuOidCu7K"
      },
      "execution_count": 112,
      "outputs": [
        {
          "output_type": "stream",
          "name": "stdout",
          "text": [
            "313/313 [==============================] - 1s 2ms/step - loss: 0.1568 - accuracy: 0.9695\n",
            "Test acc: 0.970\n"
          ]
        }
      ]
    },
    {
      "cell_type": "code",
      "source": [],
      "metadata": {
        "id": "sIK_A5gyCu7L"
      },
      "execution_count": 112,
      "outputs": []
    },
    {
      "cell_type": "code",
      "source": [],
      "metadata": {
        "id": "xVdigtqtRFCi"
      },
      "execution_count": 112,
      "outputs": []
    },
    {
      "cell_type": "markdown",
      "source": [
        "# Experiment 4\n",
        "Use PCA decomposition to reduce the number of dimensions of our training set of 28x28 dimensional MNIST images from 784 to 154 (with 95% of training images variance lying along these components). \n",
        "\n",
        "We also reduce the number of dimensions of 'best' model from Experiment 3 to 154 inputs nodes and train it on the new lower dimensional data. \n",
        "\n",
        "We then compare the performance of Experiments 3 and 4."
      ],
      "metadata": {
        "id": "0YQg310JRF8y"
      }
    },
    {
      "cell_type": "markdown",
      "source": [
        "#### Build, Compile, Train, Evaluate"
      ],
      "metadata": {
        "id": "b7vTx8mDRF8y"
      }
    },
    {
      "cell_type": "code",
      "source": [
        "## Experiment 1 - 1 unit, 10 output units\n",
        "## Build model\n",
        "\n",
        "model_4 = Sequential([\n",
        "    Dense(input_shape=[784], units=1, activation = tf.nn.relu,kernel_regularizer=tf.keras.regularizers.L2(0.001)),\n",
        "    Dense(name = \"output_layer\", units = 10, activation = tf.nn.softmax)\n",
        "])\n",
        "\n",
        "print(model_1.summary())"
      ],
      "metadata": {
        "colab": {
          "base_uri": "https://localhost:8080/"
        },
        "outputId": "341cc7e9-e474-4fa5-9360-caddaaf31b52",
        "id": "pnMrVK3eRF8y"
      },
      "execution_count": 113,
      "outputs": [
        {
          "output_type": "stream",
          "name": "stdout",
          "text": [
            "Model: \"sequential_16\"\n",
            "_________________________________________________________________\n",
            " Layer (type)                Output Shape              Param #   \n",
            "=================================================================\n",
            " dense_16 (Dense)            (None, 1)                 785       \n",
            "                                                                 \n",
            " output_layer (Dense)        (None, 10)                20        \n",
            "                                                                 \n",
            "=================================================================\n",
            "Total params: 805\n",
            "Trainable params: 805\n",
            "Non-trainable params: 0\n",
            "_________________________________________________________________\n",
            "None\n"
          ]
        }
      ]
    },
    {
      "cell_type": "code",
      "source": [
        "## Compile\n",
        "\n",
        "model_1.compile(optimizer='rmsprop',           \n",
        "               loss = 'categorical_crossentropy',\n",
        "               metrics=['accuracy'])"
      ],
      "metadata": {
        "id": "GtgCetIoRF85"
      },
      "execution_count": 114,
      "outputs": []
    },
    {
      "cell_type": "code",
      "source": [
        "## Train \n",
        "\n",
        "history_1 = model_1.fit(\n",
        "    x_train_norm\n",
        "    ,y_train_encoded\n",
        "    ,epochs = 200\n",
        "    ,validation_split=0.083 # 5,000 (of 60,000) for validation\n",
        "    ,callbacks=[tf.keras.callbacks.ModelCheckpoint(\"DNN_model.h5\",save_best_only=True,save_weights_only=False)\n",
        "                ,tf.keras.callbacks.EarlyStopping(monitor='val_accuracy', patience=2)] \n",
        "    )"
      ],
      "metadata": {
        "colab": {
          "base_uri": "https://localhost:8080/"
        },
        "outputId": "ec5e85a1-bd2e-4742-c462-1d9f7f1fed5e",
        "id": "ShF_1aw1RF86"
      },
      "execution_count": 115,
      "outputs": [
        {
          "output_type": "stream",
          "name": "stdout",
          "text": [
            "Epoch 1/200\n",
            "1720/1720 [==============================] - 6s 3ms/step - loss: 1.9718 - accuracy: 0.2090 - val_loss: 1.8421 - val_accuracy: 0.2655\n",
            "Epoch 2/200\n",
            "1720/1720 [==============================] - 5s 3ms/step - loss: 1.8255 - accuracy: 0.2831 - val_loss: 1.7756 - val_accuracy: 0.2869\n",
            "Epoch 3/200\n",
            "1720/1720 [==============================] - 5s 3ms/step - loss: 1.7821 - accuracy: 0.3077 - val_loss: 1.7425 - val_accuracy: 0.3257\n",
            "Epoch 4/200\n",
            "1720/1720 [==============================] - 5s 3ms/step - loss: 1.7579 - accuracy: 0.3240 - val_loss: 1.7212 - val_accuracy: 0.3530\n",
            "Epoch 5/200\n",
            "1720/1720 [==============================] - 6s 3ms/step - loss: 1.7418 - accuracy: 0.3358 - val_loss: 1.7094 - val_accuracy: 0.3404\n",
            "Epoch 6/200\n",
            "1720/1720 [==============================] - 6s 3ms/step - loss: 1.7298 - accuracy: 0.3472 - val_loss: 1.6944 - val_accuracy: 0.3596\n",
            "Epoch 7/200\n",
            "1720/1720 [==============================] - 5s 3ms/step - loss: 1.7204 - accuracy: 0.3568 - val_loss: 1.6878 - val_accuracy: 0.3450\n",
            "Epoch 8/200\n",
            "1720/1720 [==============================] - 6s 3ms/step - loss: 1.7120 - accuracy: 0.3582 - val_loss: 1.6766 - val_accuracy: 0.3510\n"
          ]
        }
      ]
    },
    {
      "cell_type": "code",
      "source": [
        "## Evaluate\n",
        "\n",
        "model_1 = tf.keras.models.load_model(\"DNN_model.h5\")\n",
        "print(f\"Test acc: {model_1.evaluate(x_test_norm, y_test_encoded)[1]:.3f}\")"
      ],
      "metadata": {
        "colab": {
          "base_uri": "https://localhost:8080/"
        },
        "outputId": "f7944dde-b9f0-4476-acf1-a05623b1c917",
        "id": "04kmugjjRF86"
      },
      "execution_count": 116,
      "outputs": [
        {
          "output_type": "stream",
          "name": "stdout",
          "text": [
            "313/313 [==============================] - 1s 2ms/step - loss: 1.7015 - accuracy: 0.3484\n",
            "Test acc: 0.348\n"
          ]
        }
      ]
    },
    {
      "cell_type": "markdown",
      "source": [
        "#### Activation Layer"
      ],
      "metadata": {
        "id": "ftjXFHK_RF87"
      }
    },
    {
      "cell_type": "code",
      "execution_count": 117,
      "metadata": {
        "colab": {
          "base_uri": "https://localhost:8080/"
        },
        "outputId": "80fc8b68-5996-4964-ea0f-0d4f9f8954ec",
        "id": "qRrmYkp7RF87"
      },
      "outputs": [
        {
          "output_type": "stream",
          "name": "stdout",
          "text": [
            "There are 2 layers\n"
          ]
        }
      ],
      "source": [
        "# Extracts the outputs of the 2 layers:\n",
        "layer_outputs_1 = [layer.output for layer in model_1.layers]\n",
        "\n",
        "# Creates a model that will return these outputs, given the model input:\n",
        "activation_model_1 = models.Model(inputs=model_1.input, outputs=layer_outputs_1)\n",
        "\n",
        "print(f\"There are {len(layer_outputs_1)} layers\")\n",
        "layer_outputs_1; # description of the layers"
      ]
    },
    {
      "cell_type": "code",
      "execution_count": 118,
      "metadata": {
        "colab": {
          "base_uri": "https://localhost:8080/"
        },
        "outputId": "eb5ae89c-9eec-4eaa-94ca-bb10cf43df44",
        "id": "m3lLduxPRF87"
      },
      "outputs": [
        {
          "output_type": "execute_result",
          "data": {
            "text/plain": [
              "(60000, 1)"
            ]
          },
          "metadata": {},
          "execution_count": 118
        }
      ],
      "source": [
        "# Get the outputs of all the hidden nodes for each of the 60000 training images\n",
        "activations_1 = activation_model_1.predict(x_train_norm)\n",
        "hidden_layer_activation_1 = activations_1[0]\n",
        "output_layer_activations_1 = activations_1[1]\n",
        "hidden_layer_activation_1.shape   #  each of the 128 hidden nodes has one activation value per training image"
      ]
    },
    {
      "cell_type": "code",
      "execution_count": 119,
      "metadata": {
        "colab": {
          "base_uri": "https://localhost:8080/"
        },
        "outputId": "0a8eab0e-33fc-4a85-cec8-68d29237be94",
        "id": "DSMnQxQPRF87"
      },
      "outputs": [
        {
          "output_type": "execute_result",
          "data": {
            "text/plain": [
              "(60000, 10)"
            ]
          },
          "metadata": {},
          "execution_count": 119
        }
      ],
      "source": [
        "output_layer_activations_1.shape"
      ]
    },
    {
      "cell_type": "code",
      "execution_count": 120,
      "metadata": {
        "colab": {
          "base_uri": "https://localhost:8080/"
        },
        "outputId": "cbd26825-dd24-4be5-d5dd-5ca0fd8bb2fb",
        "id": "OI1_6xFyRF88"
      },
      "outputs": [
        {
          "output_type": "stream",
          "name": "stdout",
          "text": [
            "The maximum activation value of the hidden nodes in the hidden layer is 10.795934677124023\n"
          ]
        }
      ],
      "source": [
        "print(f\"The maximum activation value of the hidden nodes in the hidden layer is \\\n",
        "{hidden_layer_activation_1.max()}\")"
      ]
    },
    {
      "cell_type": "code",
      "execution_count": 121,
      "metadata": {
        "colab": {
          "base_uri": "https://localhost:8080/"
        },
        "outputId": "3380d0db-c836-44fe-c2f6-7cfe71887dcc",
        "id": "pen458K8RF88"
      },
      "outputs": [
        {
          "output_type": "stream",
          "name": "stdout",
          "text": [
            "The output node has shape (60000, 10)\n",
            "The output for the first image are [0.234 0.024 0.12  0.224 0.002 0.133 0.    0.172 0.076 0.014]\n",
            "The sum of the probabilities is (approximately) 1.0\n"
          ]
        }
      ],
      "source": [
        "# Some stats about the output layer as an aside...\n",
        "np.set_printoptions(suppress = True)  # display probabilities as decimals and NOT in scientific notation\n",
        "ouput_layer_activation_1 = activations_1[1]\n",
        "print(f\"The output node has shape {ouput_layer_activation_1.shape}\")\n",
        "print(f\"The output for the first image are {ouput_layer_activation_1[0].round(4)}\")\n",
        "print(f\"The sum of the probabilities is (approximately) {ouput_layer_activation_1[0].sum()}\")"
      ]
    },
    {
      "cell_type": "code",
      "source": [
        "#Get the dataframe of all the node values\n",
        "activation_data_1 = {'actual_class':y_train}\n",
        "for k in range(0,1): \n",
        "    activation_data_1[f\"act_val_{k}\"] = hidden_layer_activation_1[:,k]\n",
        "\n",
        "activation_df_1 = pd.DataFrame(activation_data_1)\n",
        "activation_df_1.head(15).round(3).T"
      ],
      "metadata": {
        "colab": {
          "base_uri": "https://localhost:8080/",
          "height": 112
        },
        "outputId": "9df532f4-5bcb-4b51-e6cc-e1c61ec8a512",
        "id": "uHQ4NHxBRF88"
      },
      "execution_count": 122,
      "outputs": [
        {
          "output_type": "execute_result",
          "data": {
            "text/plain": [
              "               0    1      2      3      4    5      6    7      8      9   \\\n",
              "actual_class  5.0  0.0  4.000  1.000  9.000  2.0  1.000  3.0  1.000  4.000   \n",
              "act_val_0     0.0  0.0  1.907  2.343  3.109  0.0  2.234  0.0  2.314  3.776   \n",
              "\n",
              "               10   11   12     13     14  \n",
              "actual_class  3.0  5.0  3.0  6.000  1.000  \n",
              "act_val_0     0.0  0.0  0.0  6.447  2.449  "
            ],
            "text/html": [
              "\n",
              "  <div id=\"df-2424af38-4cbc-414e-a657-7cded07328d3\">\n",
              "    <div class=\"colab-df-container\">\n",
              "      <div>\n",
              "<style scoped>\n",
              "    .dataframe tbody tr th:only-of-type {\n",
              "        vertical-align: middle;\n",
              "    }\n",
              "\n",
              "    .dataframe tbody tr th {\n",
              "        vertical-align: top;\n",
              "    }\n",
              "\n",
              "    .dataframe thead th {\n",
              "        text-align: right;\n",
              "    }\n",
              "</style>\n",
              "<table border=\"1\" class=\"dataframe\">\n",
              "  <thead>\n",
              "    <tr style=\"text-align: right;\">\n",
              "      <th></th>\n",
              "      <th>0</th>\n",
              "      <th>1</th>\n",
              "      <th>2</th>\n",
              "      <th>3</th>\n",
              "      <th>4</th>\n",
              "      <th>5</th>\n",
              "      <th>6</th>\n",
              "      <th>7</th>\n",
              "      <th>8</th>\n",
              "      <th>9</th>\n",
              "      <th>10</th>\n",
              "      <th>11</th>\n",
              "      <th>12</th>\n",
              "      <th>13</th>\n",
              "      <th>14</th>\n",
              "    </tr>\n",
              "  </thead>\n",
              "  <tbody>\n",
              "    <tr>\n",
              "      <th>actual_class</th>\n",
              "      <td>5.0</td>\n",
              "      <td>0.0</td>\n",
              "      <td>4.000</td>\n",
              "      <td>1.000</td>\n",
              "      <td>9.000</td>\n",
              "      <td>2.0</td>\n",
              "      <td>1.000</td>\n",
              "      <td>3.0</td>\n",
              "      <td>1.000</td>\n",
              "      <td>4.000</td>\n",
              "      <td>3.0</td>\n",
              "      <td>5.0</td>\n",
              "      <td>3.0</td>\n",
              "      <td>6.000</td>\n",
              "      <td>1.000</td>\n",
              "    </tr>\n",
              "    <tr>\n",
              "      <th>act_val_0</th>\n",
              "      <td>0.0</td>\n",
              "      <td>0.0</td>\n",
              "      <td>1.907</td>\n",
              "      <td>2.343</td>\n",
              "      <td>3.109</td>\n",
              "      <td>0.0</td>\n",
              "      <td>2.234</td>\n",
              "      <td>0.0</td>\n",
              "      <td>2.314</td>\n",
              "      <td>3.776</td>\n",
              "      <td>0.0</td>\n",
              "      <td>0.0</td>\n",
              "      <td>0.0</td>\n",
              "      <td>6.447</td>\n",
              "      <td>2.449</td>\n",
              "    </tr>\n",
              "  </tbody>\n",
              "</table>\n",
              "</div>\n",
              "      <button class=\"colab-df-convert\" onclick=\"convertToInteractive('df-2424af38-4cbc-414e-a657-7cded07328d3')\"\n",
              "              title=\"Convert this dataframe to an interactive table.\"\n",
              "              style=\"display:none;\">\n",
              "        \n",
              "  <svg xmlns=\"http://www.w3.org/2000/svg\" height=\"24px\"viewBox=\"0 0 24 24\"\n",
              "       width=\"24px\">\n",
              "    <path d=\"M0 0h24v24H0V0z\" fill=\"none\"/>\n",
              "    <path d=\"M18.56 5.44l.94 2.06.94-2.06 2.06-.94-2.06-.94-.94-2.06-.94 2.06-2.06.94zm-11 1L8.5 8.5l.94-2.06 2.06-.94-2.06-.94L8.5 2.5l-.94 2.06-2.06.94zm10 10l.94 2.06.94-2.06 2.06-.94-2.06-.94-.94-2.06-.94 2.06-2.06.94z\"/><path d=\"M17.41 7.96l-1.37-1.37c-.4-.4-.92-.59-1.43-.59-.52 0-1.04.2-1.43.59L10.3 9.45l-7.72 7.72c-.78.78-.78 2.05 0 2.83L4 21.41c.39.39.9.59 1.41.59.51 0 1.02-.2 1.41-.59l7.78-7.78 2.81-2.81c.8-.78.8-2.07 0-2.86zM5.41 20L4 18.59l7.72-7.72 1.47 1.35L5.41 20z\"/>\n",
              "  </svg>\n",
              "      </button>\n",
              "      \n",
              "  <style>\n",
              "    .colab-df-container {\n",
              "      display:flex;\n",
              "      flex-wrap:wrap;\n",
              "      gap: 12px;\n",
              "    }\n",
              "\n",
              "    .colab-df-convert {\n",
              "      background-color: #E8F0FE;\n",
              "      border: none;\n",
              "      border-radius: 50%;\n",
              "      cursor: pointer;\n",
              "      display: none;\n",
              "      fill: #1967D2;\n",
              "      height: 32px;\n",
              "      padding: 0 0 0 0;\n",
              "      width: 32px;\n",
              "    }\n",
              "\n",
              "    .colab-df-convert:hover {\n",
              "      background-color: #E2EBFA;\n",
              "      box-shadow: 0px 1px 2px rgba(60, 64, 67, 0.3), 0px 1px 3px 1px rgba(60, 64, 67, 0.15);\n",
              "      fill: #174EA6;\n",
              "    }\n",
              "\n",
              "    [theme=dark] .colab-df-convert {\n",
              "      background-color: #3B4455;\n",
              "      fill: #D2E3FC;\n",
              "    }\n",
              "\n",
              "    [theme=dark] .colab-df-convert:hover {\n",
              "      background-color: #434B5C;\n",
              "      box-shadow: 0px 1px 3px 1px rgba(0, 0, 0, 0.15);\n",
              "      filter: drop-shadow(0px 1px 2px rgba(0, 0, 0, 0.3));\n",
              "      fill: #FFFFFF;\n",
              "    }\n",
              "  </style>\n",
              "\n",
              "      <script>\n",
              "        const buttonEl =\n",
              "          document.querySelector('#df-2424af38-4cbc-414e-a657-7cded07328d3 button.colab-df-convert');\n",
              "        buttonEl.style.display =\n",
              "          google.colab.kernel.accessAllowed ? 'block' : 'none';\n",
              "\n",
              "        async function convertToInteractive(key) {\n",
              "          const element = document.querySelector('#df-2424af38-4cbc-414e-a657-7cded07328d3');\n",
              "          const dataTable =\n",
              "            await google.colab.kernel.invokeFunction('convertToInteractive',\n",
              "                                                     [key], {});\n",
              "          if (!dataTable) return;\n",
              "\n",
              "          const docLinkHtml = 'Like what you see? Visit the ' +\n",
              "            '<a target=\"_blank\" href=https://colab.research.google.com/notebooks/data_table.ipynb>data table notebook</a>'\n",
              "            + ' to learn more about interactive tables.';\n",
              "          element.innerHTML = '';\n",
              "          dataTable['output_type'] = 'display_data';\n",
              "          await google.colab.output.renderOutput(dataTable, element);\n",
              "          const docLink = document.createElement('div');\n",
              "          docLink.innerHTML = docLinkHtml;\n",
              "          element.appendChild(docLink);\n",
              "        }\n",
              "      </script>\n",
              "    </div>\n",
              "  </div>\n",
              "  "
            ]
          },
          "metadata": {},
          "execution_count": 122
        }
      ]
    },
    {
      "cell_type": "code",
      "source": [
        "# Separating out the features\n",
        "features = [*pixel_data][1:] # ['pix_val_0', 'pix_val_1',...]\n",
        "x = pixel_df.loc[:, features].values \n",
        "\n",
        "pca = PCA(n_components=2)\n",
        "principalComponents = pca.fit_transform(x)\n",
        "principalDf = pd.DataFrame(data = principalComponents\n",
        "             , columns = ['principal component 1', 'principal component 2'])"
      ],
      "metadata": {
        "colab": {
          "base_uri": "https://localhost:8080/",
          "height": 389
        },
        "id": "riS4wmAUSnqx",
        "outputId": "dff3b7c3-fc6b-4512-99ba-6e93a636fba4"
      },
      "execution_count": 123,
      "outputs": [
        {
          "output_type": "error",
          "ename": "ValueError",
          "evalue": "ignored",
          "traceback": [
            "\u001b[0;31m---------------------------------------------------------------------------\u001b[0m",
            "\u001b[0;31mValueError\u001b[0m                                Traceback (most recent call last)",
            "\u001b[0;32m<ipython-input-123-98f8acdb0aeb>\u001b[0m in \u001b[0;36m<module>\u001b[0;34m\u001b[0m\n\u001b[1;32m      4\u001b[0m \u001b[0;34m\u001b[0m\u001b[0m\n\u001b[1;32m      5\u001b[0m \u001b[0mpca\u001b[0m \u001b[0;34m=\u001b[0m \u001b[0mPCA\u001b[0m\u001b[0;34m(\u001b[0m\u001b[0mn_components\u001b[0m\u001b[0;34m=\u001b[0m\u001b[0;36m2\u001b[0m\u001b[0;34m)\u001b[0m\u001b[0;34m\u001b[0m\u001b[0;34m\u001b[0m\u001b[0m\n\u001b[0;32m----> 6\u001b[0;31m \u001b[0mprincipalComponents\u001b[0m \u001b[0;34m=\u001b[0m \u001b[0mpca\u001b[0m\u001b[0;34m.\u001b[0m\u001b[0mfit_transform\u001b[0m\u001b[0;34m(\u001b[0m\u001b[0mx\u001b[0m\u001b[0;34m)\u001b[0m\u001b[0;34m\u001b[0m\u001b[0;34m\u001b[0m\u001b[0m\n\u001b[0m\u001b[1;32m      7\u001b[0m principalDf = pd.DataFrame(data = principalComponents\n\u001b[1;32m      8\u001b[0m              , columns = ['principal component 1', 'principal component 2'])\n",
            "\u001b[0;32m/usr/local/lib/python3.7/dist-packages/sklearn/decomposition/_pca.py\u001b[0m in \u001b[0;36mfit_transform\u001b[0;34m(self, X, y)\u001b[0m\n\u001b[1;32m    405\u001b[0m         \u001b[0mC\u001b[0m\u001b[0;34m-\u001b[0m\u001b[0mordered\u001b[0m \u001b[0marray\u001b[0m\u001b[0;34m,\u001b[0m \u001b[0muse\u001b[0m \u001b[0;34m'np.ascontiguousarray'\u001b[0m\u001b[0;34m.\u001b[0m\u001b[0;34m\u001b[0m\u001b[0;34m\u001b[0m\u001b[0m\n\u001b[1;32m    406\u001b[0m         \"\"\"\n\u001b[0;32m--> 407\u001b[0;31m         \u001b[0mU\u001b[0m\u001b[0;34m,\u001b[0m \u001b[0mS\u001b[0m\u001b[0;34m,\u001b[0m \u001b[0mVt\u001b[0m \u001b[0;34m=\u001b[0m \u001b[0mself\u001b[0m\u001b[0;34m.\u001b[0m\u001b[0m_fit\u001b[0m\u001b[0;34m(\u001b[0m\u001b[0mX\u001b[0m\u001b[0;34m)\u001b[0m\u001b[0;34m\u001b[0m\u001b[0;34m\u001b[0m\u001b[0m\n\u001b[0m\u001b[1;32m    408\u001b[0m         \u001b[0mU\u001b[0m \u001b[0;34m=\u001b[0m \u001b[0mU\u001b[0m\u001b[0;34m[\u001b[0m\u001b[0;34m:\u001b[0m\u001b[0;34m,\u001b[0m \u001b[0;34m:\u001b[0m \u001b[0mself\u001b[0m\u001b[0;34m.\u001b[0m\u001b[0mn_components_\u001b[0m\u001b[0;34m]\u001b[0m\u001b[0;34m\u001b[0m\u001b[0;34m\u001b[0m\u001b[0m\n\u001b[1;32m    409\u001b[0m \u001b[0;34m\u001b[0m\u001b[0m\n",
            "\u001b[0;32m/usr/local/lib/python3.7/dist-packages/sklearn/decomposition/_pca.py\u001b[0m in \u001b[0;36m_fit\u001b[0;34m(self, X)\u001b[0m\n\u001b[1;32m    455\u001b[0m         \u001b[0;31m# Call different fits for either full or truncated SVD\u001b[0m\u001b[0;34m\u001b[0m\u001b[0;34m\u001b[0m\u001b[0;34m\u001b[0m\u001b[0m\n\u001b[1;32m    456\u001b[0m         \u001b[0;32mif\u001b[0m \u001b[0mself\u001b[0m\u001b[0;34m.\u001b[0m\u001b[0m_fit_svd_solver\u001b[0m \u001b[0;34m==\u001b[0m \u001b[0;34m\"full\"\u001b[0m\u001b[0;34m:\u001b[0m\u001b[0;34m\u001b[0m\u001b[0;34m\u001b[0m\u001b[0m\n\u001b[0;32m--> 457\u001b[0;31m             \u001b[0;32mreturn\u001b[0m \u001b[0mself\u001b[0m\u001b[0;34m.\u001b[0m\u001b[0m_fit_full\u001b[0m\u001b[0;34m(\u001b[0m\u001b[0mX\u001b[0m\u001b[0;34m,\u001b[0m \u001b[0mn_components\u001b[0m\u001b[0;34m)\u001b[0m\u001b[0;34m\u001b[0m\u001b[0;34m\u001b[0m\u001b[0m\n\u001b[0m\u001b[1;32m    458\u001b[0m         \u001b[0;32melif\u001b[0m \u001b[0mself\u001b[0m\u001b[0;34m.\u001b[0m\u001b[0m_fit_svd_solver\u001b[0m \u001b[0;32min\u001b[0m \u001b[0;34m[\u001b[0m\u001b[0;34m\"arpack\"\u001b[0m\u001b[0;34m,\u001b[0m \u001b[0;34m\"randomized\"\u001b[0m\u001b[0;34m]\u001b[0m\u001b[0;34m:\u001b[0m\u001b[0;34m\u001b[0m\u001b[0;34m\u001b[0m\u001b[0m\n\u001b[1;32m    459\u001b[0m             \u001b[0;32mreturn\u001b[0m \u001b[0mself\u001b[0m\u001b[0;34m.\u001b[0m\u001b[0m_fit_truncated\u001b[0m\u001b[0;34m(\u001b[0m\u001b[0mX\u001b[0m\u001b[0;34m,\u001b[0m \u001b[0mn_components\u001b[0m\u001b[0;34m,\u001b[0m \u001b[0mself\u001b[0m\u001b[0;34m.\u001b[0m\u001b[0m_fit_svd_solver\u001b[0m\u001b[0;34m)\u001b[0m\u001b[0;34m\u001b[0m\u001b[0;34m\u001b[0m\u001b[0m\n",
            "\u001b[0;32m/usr/local/lib/python3.7/dist-packages/sklearn/decomposition/_pca.py\u001b[0m in \u001b[0;36m_fit_full\u001b[0;34m(self, X, n_components)\u001b[0m\n\u001b[1;32m    476\u001b[0m                 \u001b[0;34m\"n_components=%r must be between 0 and \"\u001b[0m\u001b[0;34m\u001b[0m\u001b[0;34m\u001b[0m\u001b[0m\n\u001b[1;32m    477\u001b[0m                 \u001b[0;34m\"min(n_samples, n_features)=%r with \"\u001b[0m\u001b[0;34m\u001b[0m\u001b[0;34m\u001b[0m\u001b[0m\n\u001b[0;32m--> 478\u001b[0;31m                 \u001b[0;34m\"svd_solver='full'\"\u001b[0m \u001b[0;34m%\u001b[0m \u001b[0;34m(\u001b[0m\u001b[0mn_components\u001b[0m\u001b[0;34m,\u001b[0m \u001b[0mmin\u001b[0m\u001b[0;34m(\u001b[0m\u001b[0mn_samples\u001b[0m\u001b[0;34m,\u001b[0m \u001b[0mn_features\u001b[0m\u001b[0;34m)\u001b[0m\u001b[0;34m)\u001b[0m\u001b[0;34m\u001b[0m\u001b[0;34m\u001b[0m\u001b[0m\n\u001b[0m\u001b[1;32m    479\u001b[0m             )\n\u001b[1;32m    480\u001b[0m         \u001b[0;32melif\u001b[0m \u001b[0mn_components\u001b[0m \u001b[0;34m>=\u001b[0m \u001b[0;36m1\u001b[0m\u001b[0;34m:\u001b[0m\u001b[0;34m\u001b[0m\u001b[0;34m\u001b[0m\u001b[0m\n",
            "\u001b[0;31mValueError\u001b[0m: n_components=2 must be between 0 and min(n_samples, n_features)=1 with svd_solver='full'"
          ]
        }
      ]
    },
    {
      "cell_type": "code",
      "source": [],
      "metadata": {
        "id": "zztXLCYpS0sg"
      },
      "execution_count": null,
      "outputs": []
    }
  ],
  "metadata": {
    "accelerator": "GPU",
    "colab": {
      "collapsed_sections": [
        "zy62HRWykn53",
        "4dTs_msbkn54",
        "3XwlONPLkn55",
        "DAWHh09ckn56",
        "uG2UuvWmkn57",
        "zHru4CqyEBTf",
        "aknb-WH8kn57",
        "qR5_IJZdkn58",
        "Le1sKFW9kn58",
        "GAue3Yt0xA4K",
        "gR2Sy8WoJFnB",
        "SvWonrLOo-Yc",
        "c-qJLeY2pKsN",
        "ZsS9p8i5sezV",
        "Pj_z0k7dsfa-",
        "Dz481Nl5CH2I",
        "gX0OYI0SCu7F"
      ],
      "machine_shape": "hm",
      "provenance": [],
      "include_colab_link": true
    },
    "kernelspec": {
      "display_name": "Python 3",
      "language": "python",
      "name": "python3"
    },
    "language_info": {
      "codemirror_mode": {
        "name": "ipython",
        "version": 3
      },
      "file_extension": ".py",
      "mimetype": "text/x-python",
      "name": "python",
      "nbconvert_exporter": "python",
      "pygments_lexer": "ipython3",
      "version": "3.8.10"
    },
    "toc": {
      "base_numbering": 1,
      "nav_menu": {},
      "number_sections": false,
      "sideBar": true,
      "skip_h1_title": false,
      "title_cell": "Table of Contents",
      "title_sidebar": "Contents",
      "toc_cell": false,
      "toc_position": {},
      "toc_section_display": true,
      "toc_window_display": false
    }
  },
  "nbformat": 4,
  "nbformat_minor": 0
}
