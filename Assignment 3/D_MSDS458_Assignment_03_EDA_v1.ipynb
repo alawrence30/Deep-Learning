{
  "cells": [
    {
      "cell_type": "markdown",
      "metadata": {
        "id": "view-in-github",
        "colab_type": "text"
      },
      "source": [
        "<a href=\"https://colab.research.google.com/github/alawrence30/Deep-Learning/blob/main/D_MSDS458_Assignment_03_EDA_v1.ipynb\" target=\"_parent\"><img src=\"https://colab.research.google.com/assets/colab-badge.svg\" alt=\"Open In Colab\"/></a>"
      ]
    },
    {
      "cell_type": "markdown",
      "metadata": {
        "id": "xHJ-2a8LRro5"
      },
      "source": [
        "<img src=\"https://github.com/djp840/MSDS_458_Public/blob/master/images/NorthwesternHeader.png?raw=1\">"
      ]
    },
    {
      "cell_type": "markdown",
      "metadata": {
        "id": "k6cApW345ukg"
      },
      "source": [
        "## Experiments D: 1D CNN"
      ]
    },
    {
      "cell_type": "markdown",
      "metadata": {
        "id": "Ydgzc1l15ukl"
      },
      "source": [
        "## Functions and Packages"
      ]
    },
    {
      "cell_type": "code",
      "execution_count": 1,
      "metadata": {
        "id": "9d9VZa_T5ukm"
      },
      "outputs": [],
      "source": [
        "import datetime\n",
        "from packaging import version\n",
        "from collections import Counter\n",
        "import numpy as np\n",
        "import pandas as pd\n",
        "import time\n",
        "import string\n",
        "import re\n",
        "\n",
        "import matplotlib.pyplot as plt\n",
        "import matplotlib as mpl\n",
        "import seaborn as sns\n",
        "\n",
        "from sklearn.metrics import confusion_matrix, classification_report\n",
        "from sklearn.preprocessing import StandardScaler\n",
        "from sklearn.decomposition import PCA\n",
        "from sklearn.manifold import TSNE\n",
        "from sklearn.ensemble import RandomForestClassifier\n",
        "from sklearn.metrics import mean_squared_error as MSE\n",
        "from sklearn.metrics import accuracy_score\n",
        "from sklearn.model_selection import train_test_split\n",
        "\n",
        "import tensorflow as tf\n",
        "from tensorflow import keras\n",
        "import tensorflow_datasets as tfds\n",
        "from tensorflow import keras\n",
        "from tensorflow.keras import layers\n",
        "from sklearn.manifold import TSNE\n",
        "from tensorflow.keras import models, layers\n",
        "from tensorflow.keras.models import Sequential\n",
        "from tensorflow.keras.layers import Conv2D, MaxPool2D, BatchNormalization, Dropout, Flatten, Input, Dense, Conv1D\n",
        "from tensorflow.keras.callbacks import ModelCheckpoint, EarlyStopping\n",
        "from tensorflow.keras.preprocessing import image\n",
        "from tensorflow.keras.utils import to_categorical\n",
        "\n",
        "import nltk\n",
        "from nltk.corpus import stopwords\n",
        "\n",
        "from tensorflow.keras.layers import Bidirectional\n",
        "from keras.layers import LSTM\n",
        "from keras.layers.core import Dense\n",
        "from keras.layers.core import Activation"
      ]
    },
    {
      "cell_type": "code",
      "execution_count": 2,
      "metadata": {
        "id": "8b7f8800"
      },
      "outputs": [],
      "source": [
        "def compile_train_model(model, x_train, y_train, x_valid, y_valid, epochs=200):\n",
        "  timestamp=int(time.time())\n",
        "  \n",
        "  # Compile\n",
        "  model.compile(optimizer='rmsprop',\n",
        "                loss = 'SparseCategoricalCrossentropy',\n",
        "                metrics=['accuracy'])\n",
        "\n",
        "  # Train\n",
        "  start_time = time.time()\n",
        "  history = model.fit(\n",
        "    x_train,\n",
        "    y_train,\n",
        "    epochs=epochs,\n",
        "    batch_size=512,\n",
        "    validation_data=(x_valid, y_valid),\n",
        "    #verbose=0,\n",
        "    callbacks=[    \n",
        "        tf.keras.callbacks.ModelCheckpoint(\"CNN_model.h5\",save_best_only=True,save_weights_only=False)\n",
        "        ,tf.keras.callbacks.EarlyStopping(monitor='val_accuracy', patience=3)\n",
        "        ]\n",
        "  )\n",
        "  end_time = time.time()\n",
        "  second_elapsed = round(end_time - start_time)\n",
        "\n",
        "  print(f'Finished model training in {second_elapsed}s')\n",
        "\n",
        "  print('Model performance with training set')\n",
        "  model.evaluate(x_train, y_train)\n",
        "\n",
        "  print('Evaluating model performance with validation set')\n",
        "  model.evaluate(x_valid, y_valid)\n",
        "\n",
        "  return history, model"
      ]
    },
    {
      "cell_type": "code",
      "execution_count": 3,
      "metadata": {
        "id": "23cbe57e"
      },
      "outputs": [],
      "source": [
        "def plot_history(history):\n",
        "  losses = history.history['loss']\n",
        "  accs = history.history['accuracy']\n",
        "  val_losses = history.history['val_loss']\n",
        "  val_accs = history.history['val_accuracy']\n",
        "  epochs = len(losses)\n",
        "\n",
        "  plt.figure(figsize=(16, 4))\n",
        "  for i, metrics in enumerate(zip([losses, accs], [val_losses, val_accs], ['Loss', 'Accuracy'])):\n",
        "    plt.subplot(1, 2, i + 1)\n",
        "    plt.plot(range(epochs), metrics[0], label='Training {}'.format(metrics[2]))\n",
        "    plt.plot(range(epochs), metrics[1], label='Validation {}'.format(metrics[2]))\n",
        "    plt.legend()\n",
        "  plt.show()"
      ]
    },
    {
      "cell_type": "code",
      "execution_count": 4,
      "metadata": {
        "id": "8ORQUqUuxcUq"
      },
      "outputs": [],
      "source": [
        "def print_validation_report(y_test, predictions):\n",
        "    print(\"Classification Report\")\n",
        "    print(classification_report(y_test, predictions))\n",
        "    print('Accuracy Score: {}'.format(accuracy_score(y_test, predictions)))\n",
        "    print('Root Mean Square Error: {}'.format(np.sqrt(MSE(y_test, predictions)))) "
      ]
    },
    {
      "cell_type": "code",
      "execution_count": 5,
      "metadata": {
        "id": "zAZahhJqxcee"
      },
      "outputs": [],
      "source": [
        "def plot_confusion_matrix(y_true, y_pred):\n",
        "    mtx = confusion_matrix(y_true, y_pred)\n",
        "    fig, ax = plt.subplots(figsize=(8,8))\n",
        "    sns.heatmap(mtx, annot=True, fmt='d', linewidths=.75,  cbar=False, ax=ax,cmap='Blues',linecolor='white')\n",
        "    #  square=True,\n",
        "    plt.ylabel('true label')\n",
        "    plt.xlabel('predicted label')"
      ]
    },
    {
      "cell_type": "markdown",
      "metadata": {
        "id": "SNt8VbLK5ukp"
      },
      "source": [
        "### Verify TensorFlow version and Keras version"
      ]
    },
    {
      "cell_type": "code",
      "execution_count": 6,
      "metadata": {
        "id": "kujC9adr5ukq",
        "colab": {
          "base_uri": "https://localhost:8080/"
        },
        "outputId": "b8142770-6e36-4d82-9f2a-9dd5f59b39aa"
      },
      "outputs": [
        {
          "output_type": "stream",
          "name": "stdout",
          "text": [
            "This notebook requires TensorFlow 2.0 or above\n",
            "TensorFlow version:  2.9.2\n"
          ]
        }
      ],
      "source": [
        "print(\"This notebook requires TensorFlow 2.0 or above\")\n",
        "print(\"TensorFlow version: \", tf.__version__)\n",
        "assert version.parse(tf.__version__).release[0] >=2"
      ]
    },
    {
      "cell_type": "code",
      "execution_count": 7,
      "metadata": {
        "id": "UHdPTZRp5ukr",
        "colab": {
          "base_uri": "https://localhost:8080/"
        },
        "outputId": "2fb7c241-364e-4463-a4b4-bcc22eba12ad"
      },
      "outputs": [
        {
          "output_type": "stream",
          "name": "stdout",
          "text": [
            "Keras version:  2.9.0\n"
          ]
        }
      ],
      "source": [
        "print(\"Keras version: \", keras.__version__)"
      ]
    },
    {
      "cell_type": "markdown",
      "metadata": {
        "id": "AHfRyGdPxref"
      },
      "source": [
        "### Stopword Function"
      ]
    },
    {
      "cell_type": "code",
      "execution_count": 8,
      "metadata": {
        "id": "syHVsHBfxref"
      },
      "outputs": [],
      "source": [
        "def custom_stopwords(input_text):\n",
        "    lowercase = tf.strings.lower(input_text)\n",
        "    stripped_punct = tf.strings.regex_replace(lowercase\n",
        "                                  ,'[%s]' % re.escape(string.punctuation)\n",
        "                                  ,'')\n",
        "    return tf.strings.regex_replace(stripped_punct, r'\\b(' + r'|'.join(STOPWORDS) + r')\\b\\s*',\"\")"
      ]
    },
    {
      "cell_type": "markdown",
      "metadata": {
        "id": "z1Gn6wYG5uks"
      },
      "source": [
        "## Mount Google Drive to Colab Environment"
      ]
    },
    {
      "cell_type": "code",
      "execution_count": 9,
      "metadata": {
        "id": "8jHzLMMB5ukt"
      },
      "outputs": [],
      "source": [
        "#from google.colab import drive\n",
        "#drive.mount('/content/gdrive')"
      ]
    },
    {
      "cell_type": "markdown",
      "source": [
        "## Load **Data**"
      ],
      "metadata": {
        "id": "jdo-2dHCWttQ"
      }
    },
    {
      "cell_type": "code",
      "source": [
        "# register  ag_news_subset so that tfds.load doesn't generate a checksum (mismatch) error\n",
        "!python -m tensorflow_datasets.scripts.download_and_prepare --register_checksums --datasets=ag_news_subset\n",
        "\n",
        "dataset,info=\\\n",
        "tfds.load('ag_news_subset', with_info=True,  split=['train[:95%]','train[95%:]', 'test'],batch_size = 32\n",
        "          , as_supervised=True)\n",
        "\n",
        "train_ds, val_ds, test_ds = dataset\n",
        "text_only_train_ds = train_ds.map(lambda x, y: x)"
      ],
      "metadata": {
        "colab": {
          "base_uri": "https://localhost:8080/"
        },
        "id": "31mQQCqiWqvD",
        "outputId": "ac403e07-32c2-41b4-e0a2-56e00f4326a0"
      },
      "execution_count": 10,
      "outputs": [
        {
          "output_type": "stream",
          "name": "stdout",
          "text": [
            "W1106 14:49:08.911803 140672917723008 download_and_prepare.py:43] ***`tfds build` should be used instead of `download_and_prepare`.***\n",
            "INFO[build.py]: Loading dataset ag_news_subset from imports: tensorflow_datasets.text.ag_news_subset\n",
            "2022-11-06 14:49:09.116653: W tensorflow/core/platform/cloud/google_auth_provider.cc:184] All attempts to get a Google authentication bearer token failed, returning an empty token. Retrieving token from files failed with \"NOT_FOUND: Could not locate the credentials file.\". Retrieving token from GCE failed with \"NOT_FOUND: Error executing an HTTP request: HTTP response code 404\".\n",
            "INFO[dataset_info.py]: Load pre-computed DatasetInfo (eg: splits, num examples,...) from GCS: ag_news_subset/1.0.0\n",
            "INFO[dataset_info.py]: Load dataset info from /tmp/tmp4en3warbtfds\n",
            "INFO[dataset_info.py]: Field info.splits from disk and from code do not match. Keeping the one from code.\n",
            "INFO[dataset_info.py]: Field info.supervised_keys from disk and from code do not match. Keeping the one from code.\n",
            "INFO[dataset_info.py]: Field info.module_name from disk and from code do not match. Keeping the one from code.\n",
            "INFO[build.py]: download_and_prepare for dataset ag_news_subset/1.0.0...\n",
            "INFO[dataset_builder.py]: Generating dataset ag_news_subset (/root/tensorflow_datasets/ag_news_subset/1.0.0)\n",
            "\u001b[1mDownloading and preparing dataset 11.24 MiB (download: 11.24 MiB, generated: 35.79 MiB, total: 47.03 MiB) to /root/tensorflow_datasets/ag_news_subset/1.0.0...\u001b[0m\n",
            "Dl Completed...: 0 url [00:00, ? url/s]\n",
            "Dl Size...: 0 MiB [00:00, ? MiB/s]\u001b[A\n",
            "\n",
            "                                       \n",
            "\u001b[A\n",
            "\n",
            "\u001b[A\u001b[AINFO[download_manager.py]: Downloading https://drive.google.com/uc?export=download&id=0Bz8a_Dbh9QhbUDNpeUdjb0wxRms into /root/tensorflow_datasets/downloads/ucexport_download_id_0Bz8a_Dbh9QhbUDNpeUdjb0wxj4g1umFAV8OV-uDwxSJR0LdxO_k1jxMuFWwAfNX9jos.tmp.b61d388662094fd9b5e9b9bc5ef12af5...\n",
            "Dl Completed...: 0 url [00:00, ? url/s]\n",
            "Dl Size...: 0 MiB [00:00, ? MiB/s]\u001b[A\n",
            "\n",
            "Dl Completed...:   0% 0/1 [00:00<?, ? url/s]\n",
            "Dl Size...: 0 MiB [00:00, ? MiB/s]\u001b[A\n",
            "\n",
            "Dl Completed...:   0% 0/1 [00:10<?, ? url/s]\n",
            "Dl Size...:   0% 0/11 [00:10<?, ? MiB/s]\u001b[A\n",
            "\n",
            "Extraction completed...: 0 file [00:10, ? file/s]\u001b[A\u001b[A\n",
            "Dl Completed...:   0% 0/1 [00:10<?, ? url/s]\n",
            "Dl Size...:   9% 1/11 [00:10<01:48, 10.89s/ MiB]\u001b[A\n",
            "\n",
            "Dl Completed...:   0% 0/1 [00:10<?, ? url/s]\n",
            "Dl Size...:  18% 2/11 [00:10<01:37, 10.89s/ MiB]\u001b[A\n",
            "\n",
            "Dl Completed...:   0% 0/1 [00:10<?, ? url/s]\n",
            "Dl Size...:  27% 3/11 [00:10<01:27, 10.89s/ MiB]\u001b[A\n",
            "\n",
            "Extraction completed...: 0 file [00:10, ? file/s]\u001b[A\u001b[A\n",
            "Dl Completed...:   0% 0/1 [00:10<?, ? url/s]\n",
            "Dl Size...:  36% 4/11 [00:10<00:14,  2.09s/ MiB]\u001b[A\n",
            "\n",
            "Dl Completed...:   0% 0/1 [00:11<?, ? url/s]\n",
            "Dl Size...:  45% 5/11 [00:11<00:12,  2.09s/ MiB]\u001b[A\n",
            "\n",
            "Dl Completed...:   0% 0/1 [00:11<?, ? url/s]\n",
            "Dl Size...:  55% 6/11 [00:11<00:10,  2.09s/ MiB]\u001b[A\n",
            "\n",
            "Dl Completed...:   0% 0/1 [00:11<?, ? url/s]\n",
            "Dl Size...:  64% 7/11 [00:11<00:08,  2.09s/ MiB]\u001b[A\n",
            "\n",
            "Dl Completed...:   0% 0/1 [00:11<?, ? url/s]\n",
            "Dl Size...:  73% 8/11 [00:11<00:06,  2.09s/ MiB]\u001b[A\n",
            "\n",
            "Dl Completed...:   0% 0/1 [00:11<?, ? url/s]\n",
            "Dl Size...:  82% 9/11 [00:11<00:04,  2.09s/ MiB]\u001b[A\n",
            "\n",
            "Extraction completed...: 0 file [00:11, ? file/s]\u001b[A\u001b[A\n",
            "Dl Completed...:   0% 0/1 [00:11<?, ? url/s]\n",
            "Dl Size...:  91% 10/11 [00:11<00:00,  1.56 MiB/s]\u001b[A\n",
            "\n",
            "Dl Completed...:   0% 0/1 [00:11<?, ? url/s]\n",
            "Dl Size...: 100% 11/11 [00:11<00:00,  1.56 MiB/s]\u001b[A\n",
            "\n",
            "Dl Completed...: 100% 1/1 [00:11<00:00, 11.11s/ url]\n",
            "Dl Size...: 100% 11/11 [00:11<00:00,  1.56 MiB/s]\u001b[A\n",
            "\n",
            "Dl Completed...: 100% 1/1 [00:11<00:00, 11.11s/ url]\n",
            "Dl Size...: 100% 11/11 [00:11<00:00,  1.56 MiB/s]\u001b[A\n",
            "\n",
            "Extraction completed...:   0% 0/1 [00:11<?, ? file/s]\u001b[A\u001b[A\n",
            "\n",
            "Dl Completed...: 100% 1/1 [00:11<00:00, 11.11s/ url]\n",
            "Dl Size...: 100% 11/11 [00:11<00:00,  1.56 MiB/s]\u001b[A\n",
            "\n",
            "Extraction completed...: 100% 1/1 [00:11<00:00, 11.44s/ file]\n",
            "Dl Size...: 100% 11/11 [00:11<00:00,  1.04s/ MiB]\n",
            "Dl Completed...: 100% 1/1 [00:11<00:00, 11.44s/ url]\n",
            "Generating splits...:   0% 0/2 [00:00<?, ? splits/s]\n",
            "Generating train examples...:   0% 0/120000 [00:00<?, ? examples/s]\u001b[A\n",
            "Generating train examples...:   1% 925/120000 [00:00<00:12, 9242.67 examples/s]\u001b[A\n",
            "Generating train examples...:   2% 1860/120000 [00:00<00:12, 9300.98 examples/s]\u001b[A\n",
            "Generating train examples...:   2% 2794/120000 [00:00<00:12, 9317.02 examples/s]\u001b[A\n",
            "Generating train examples...:   3% 3726/120000 [00:00<00:12, 9274.03 examples/s]\u001b[A\n",
            "Generating train examples...:   4% 4654/120000 [00:00<00:12, 9140.89 examples/s]\u001b[A\n",
            "Generating train examples...:   5% 5590/120000 [00:00<00:12, 9214.03 examples/s]\u001b[A\n",
            "Generating train examples...:   5% 6532/120000 [00:00<00:12, 9279.80 examples/s]\u001b[A\n",
            "Generating train examples...:   6% 7467/120000 [00:00<00:12, 9299.35 examples/s]\u001b[A\n",
            "Generating train examples...:   7% 8410/120000 [00:00<00:11, 9338.07 examples/s]\u001b[A\n",
            "Generating train examples...:   8% 9344/120000 [00:01<00:11, 9338.32 examples/s]\u001b[A\n",
            "Generating train examples...:   9% 10280/120000 [00:01<00:11, 9343.81 examples/s]\u001b[A\n",
            "Generating train examples...:   9% 11215/120000 [00:01<00:11, 9326.86 examples/s]\u001b[A\n",
            "Generating train examples...:  10% 12155/120000 [00:01<00:11, 9348.00 examples/s]\u001b[A\n",
            "Generating train examples...:  11% 13090/120000 [00:01<00:11, 9311.54 examples/s]\u001b[A\n",
            "Generating train examples...:  12% 14022/120000 [00:01<00:11, 8953.21 examples/s]\u001b[A\n",
            "Generating train examples...:  12% 14955/120000 [00:01<00:11, 9061.06 examples/s]\u001b[A\n",
            "Generating train examples...:  13% 15895/120000 [00:01<00:11, 9158.58 examples/s]\u001b[A\n",
            "Generating train examples...:  14% 16835/120000 [00:01<00:11, 9229.83 examples/s]\u001b[A\n",
            "Generating train examples...:  15% 17770/120000 [00:01<00:11, 9263.35 examples/s]\u001b[A\n",
            "Generating train examples...:  16% 18698/120000 [00:02<00:10, 9249.79 examples/s]\u001b[A\n",
            "Generating train examples...:  16% 19633/120000 [00:02<00:10, 9279.15 examples/s]\u001b[A\n",
            "Generating train examples...:  17% 20562/120000 [00:02<00:10, 9279.31 examples/s]\u001b[A\n",
            "Generating train examples...:  18% 21494/120000 [00:02<00:10, 9290.81 examples/s]\u001b[A\n",
            "Generating train examples...:  19% 22424/120000 [00:02<00:10, 9284.10 examples/s]\u001b[A\n",
            "Generating train examples...:  19% 23353/120000 [00:02<00:10, 9262.80 examples/s]\u001b[A\n",
            "Generating train examples...:  20% 24283/120000 [00:02<00:10, 9271.51 examples/s]\u001b[A\n",
            "Generating train examples...:  21% 25224/120000 [00:02<00:10, 9311.84 examples/s]\u001b[A\n",
            "Generating train examples...:  22% 26160/120000 [00:02<00:10, 9323.67 examples/s]\u001b[A\n",
            "Generating train examples...:  23% 27096/120000 [00:02<00:09, 9334.38 examples/s]\u001b[A\n",
            "Generating train examples...:  23% 28030/120000 [00:03<00:09, 9318.97 examples/s]\u001b[A\n",
            "Generating train examples...:  24% 28962/120000 [00:03<00:09, 9315.82 examples/s]\u001b[A\n",
            "Generating train examples...:  25% 29898/120000 [00:03<00:09, 9327.78 examples/s]\u001b[A\n",
            "Generating train examples...:  26% 30838/120000 [00:03<00:09, 9346.95 examples/s]\u001b[A\n",
            "Generating train examples...:  26% 31773/120000 [00:03<00:09, 9334.89 examples/s]\u001b[A\n",
            "Generating train examples...:  27% 32707/120000 [00:03<00:09, 8991.20 examples/s]\u001b[A\n",
            "Generating train examples...:  28% 33650/120000 [00:03<00:09, 9116.56 examples/s]\u001b[A\n",
            "Generating train examples...:  29% 34590/120000 [00:03<00:09, 9199.34 examples/s]\u001b[A\n",
            "Generating train examples...:  30% 35531/120000 [00:03<00:09, 9259.74 examples/s]\u001b[A\n",
            "Generating train examples...:  30% 36469/120000 [00:03<00:08, 9293.40 examples/s]\u001b[A\n",
            "Generating train examples...:  31% 37406/120000 [00:04<00:08, 9313.81 examples/s]\u001b[A\n",
            "Generating train examples...:  32% 38339/120000 [00:04<00:08, 9307.05 examples/s]\u001b[A\n",
            "Generating train examples...:  33% 39271/120000 [00:04<00:08, 9295.25 examples/s]\u001b[A\n",
            "Generating train examples...:  34% 40201/120000 [00:04<00:08, 9295.32 examples/s]\u001b[A\n",
            "Generating train examples...:  34% 41131/120000 [00:04<00:08, 9256.41 examples/s]\u001b[A\n",
            "Generating train examples...:  35% 42075/120000 [00:04<00:08, 9308.54 examples/s]\u001b[A\n",
            "Generating train examples...:  36% 43007/120000 [00:04<00:08, 9307.13 examples/s]\u001b[A\n",
            "Generating train examples...:  37% 43938/120000 [00:04<00:08, 9291.23 examples/s]\u001b[A\n",
            "Generating train examples...:  37% 44874/120000 [00:04<00:08, 9310.33 examples/s]\u001b[A\n",
            "Generating train examples...:  38% 45806/120000 [00:04<00:07, 9291.03 examples/s]\u001b[A\n",
            "Generating train examples...:  39% 46736/120000 [00:05<00:07, 9269.31 examples/s]\u001b[A\n",
            "Generating train examples...:  40% 47679/120000 [00:05<00:07, 9316.59 examples/s]\u001b[A\n",
            "Generating train examples...:  41% 48617/120000 [00:05<00:07, 9333.65 examples/s]\u001b[A\n",
            "Generating train examples...:  41% 49551/120000 [00:05<00:07, 9298.02 examples/s]\u001b[A\n",
            "Generating train examples...:  42% 50487/120000 [00:05<00:07, 9315.97 examples/s]\u001b[A\n",
            "Generating train examples...:  43% 51419/120000 [00:05<00:07, 9264.19 examples/s]\u001b[A\n",
            "Generating train examples...:  44% 52349/120000 [00:05<00:07, 9272.93 examples/s]\u001b[A\n",
            "Generating train examples...:  44% 53277/120000 [00:05<00:07, 9258.22 examples/s]\u001b[A\n",
            "Generating train examples...:  45% 54205/120000 [00:05<00:07, 9262.17 examples/s]\u001b[A\n",
            "Generating train examples...:  46% 55132/120000 [00:05<00:07, 9224.48 examples/s]\u001b[A\n",
            "Generating train examples...:  47% 56077/120000 [00:06<00:06, 9290.15 examples/s]\u001b[A\n",
            "Generating train examples...:  48% 57007/120000 [00:06<00:06, 9274.99 examples/s]\u001b[A\n",
            "Generating train examples...:  48% 57935/120000 [00:06<00:06, 9230.83 examples/s]\u001b[A\n",
            "Generating train examples...:  49% 58880/120000 [00:06<00:06, 9294.41 examples/s]\u001b[A\n",
            "Generating train examples...:  50% 59810/120000 [00:06<00:06, 9293.82 examples/s]\u001b[A\n",
            "Generating train examples...:  51% 60743/120000 [00:06<00:06, 9302.44 examples/s]\u001b[A\n",
            "Generating train examples...:  51% 61677/120000 [00:06<00:06, 9312.51 examples/s]\u001b[A\n",
            "Generating train examples...:  52% 62609/120000 [00:06<00:06, 9294.15 examples/s]\u001b[A\n",
            "Generating train examples...:  53% 63556/120000 [00:06<00:06, 9344.55 examples/s]\u001b[A\n",
            "Generating train examples...:  54% 64491/120000 [00:06<00:05, 9302.59 examples/s]\u001b[A\n",
            "Generating train examples...:  55% 65422/120000 [00:07<00:05, 9239.20 examples/s]\u001b[A\n",
            "Generating train examples...:  55% 66348/120000 [00:07<00:05, 9243.49 examples/s]\u001b[A\n",
            "Generating train examples...:  56% 67283/120000 [00:07<00:05, 9274.55 examples/s]\u001b[A\n",
            "Generating train examples...:  57% 68211/120000 [00:07<00:05, 9266.71 examples/s]\u001b[A\n",
            "Generating train examples...:  58% 69138/120000 [00:07<00:05, 9251.89 examples/s]\u001b[A\n",
            "Generating train examples...:  58% 70067/120000 [00:07<00:05, 9262.21 examples/s]\u001b[A\n",
            "Generating train examples...:  59% 70996/120000 [00:07<00:05, 9268.92 examples/s]\u001b[A\n",
            "Generating train examples...:  60% 71923/120000 [00:07<00:05, 9252.41 examples/s]\u001b[A\n",
            "Generating train examples...:  61% 72851/120000 [00:07<00:05, 9258.08 examples/s]\u001b[A\n",
            "Generating train examples...:  61% 73777/120000 [00:07<00:05, 9239.53 examples/s]\u001b[A\n",
            "Generating train examples...:  62% 74701/120000 [00:08<00:04, 9223.68 examples/s]\u001b[A\n",
            "Generating train examples...:  63% 75636/120000 [00:08<00:04, 9259.14 examples/s]\u001b[A\n",
            "Generating train examples...:  64% 76562/120000 [00:08<00:04, 9247.24 examples/s]\u001b[A\n",
            "Generating train examples...:  65% 77493/120000 [00:08<00:04, 9263.15 examples/s]\u001b[A\n",
            "Generating train examples...:  65% 78420/120000 [00:08<00:04, 9257.60 examples/s]\u001b[A\n",
            "Generating train examples...:  66% 79362/120000 [00:08<00:04, 9303.67 examples/s]\u001b[A\n",
            "Generating train examples...:  67% 80296/120000 [00:08<00:04, 9311.81 examples/s]\u001b[A\n",
            "Generating train examples...:  68% 81228/120000 [00:08<00:04, 9280.01 examples/s]\u001b[A\n",
            "Generating train examples...:  68% 82164/120000 [00:08<00:04, 9303.01 examples/s]\u001b[A\n",
            "Generating train examples...:  69% 83095/120000 [00:08<00:03, 9267.18 examples/s]\u001b[A\n",
            "Generating train examples...:  70% 84037/120000 [00:09<00:03, 9309.30 examples/s]\u001b[A\n",
            "Generating train examples...:  71% 84969/120000 [00:09<00:03, 9312.01 examples/s]\u001b[A\n",
            "Generating train examples...:  72% 85901/120000 [00:09<00:03, 9279.00 examples/s]\u001b[A\n",
            "Generating train examples...:  72% 86844/120000 [00:09<00:03, 9323.59 examples/s]\u001b[A\n",
            "Generating train examples...:  73% 87777/120000 [00:09<00:03, 9317.40 examples/s]\u001b[A\n",
            "Generating train examples...:  74% 88709/120000 [00:09<00:03, 9294.40 examples/s]\u001b[A\n",
            "Generating train examples...:  75% 89639/120000 [00:09<00:03, 8949.75 examples/s]\u001b[A\n",
            "Generating train examples...:  75% 90571/120000 [00:09<00:03, 9057.46 examples/s]\u001b[A\n",
            "Generating train examples...:  76% 91502/120000 [00:09<00:03, 9131.50 examples/s]\u001b[A\n",
            "Generating train examples...:  77% 92437/120000 [00:09<00:02, 9194.99 examples/s]\u001b[A\n",
            "Generating train examples...:  78% 93371/120000 [00:10<00:02, 9236.71 examples/s]\u001b[A\n",
            "Generating train examples...:  79% 94296/120000 [00:10<00:02, 9209.37 examples/s]\u001b[A\n",
            "Generating train examples...:  79% 95234/120000 [00:10<00:02, 9258.56 examples/s]\u001b[A\n",
            "Generating train examples...:  80% 96161/120000 [00:10<00:02, 9252.81 examples/s]\u001b[A\n",
            "Generating train examples...:  81% 97097/120000 [00:10<00:02, 9282.58 examples/s]\u001b[A\n",
            "Generating train examples...:  82% 98036/120000 [00:10<00:02, 9312.33 examples/s]\u001b[A\n",
            "Generating train examples...:  82% 98975/120000 [00:10<00:02, 9334.23 examples/s]\u001b[A\n",
            "Generating train examples...:  83% 99909/120000 [00:10<00:02, 9322.92 examples/s]\u001b[A\n",
            "Generating train examples...:  84% 100849/120000 [00:10<00:02, 9344.90 examples/s]\u001b[A\n",
            "Generating train examples...:  85% 101784/120000 [00:10<00:01, 9321.01 examples/s]\u001b[A\n",
            "Generating train examples...:  86% 102717/120000 [00:11<00:01, 9272.29 examples/s]\u001b[A\n",
            "Generating train examples...:  86% 103653/120000 [00:11<00:01, 9296.33 examples/s]\u001b[A\n",
            "Generating train examples...:  87% 104583/120000 [00:11<00:01, 9283.72 examples/s]\u001b[A\n",
            "Generating train examples...:  88% 105512/120000 [00:11<00:01, 9250.16 examples/s]\u001b[A\n",
            "Generating train examples...:  89% 106456/120000 [00:11<00:01, 9306.02 examples/s]\u001b[A\n",
            "Generating train examples...:  89% 107391/120000 [00:11<00:01, 9318.60 examples/s]\u001b[A\n",
            "Generating train examples...:  90% 108323/120000 [00:11<00:01, 9313.51 examples/s]\u001b[A\n",
            "Generating train examples...:  91% 109255/120000 [00:11<00:01, 8996.77 examples/s]\u001b[A\n",
            "Generating train examples...:  92% 110192/120000 [00:11<00:01, 9104.50 examples/s]\u001b[A\n",
            "Generating train examples...:  93% 111112/120000 [00:11<00:00, 9132.38 examples/s]\u001b[A\n",
            "Generating train examples...:  93% 112055/120000 [00:12<00:00, 9219.17 examples/s]\u001b[A\n",
            "Generating train examples...:  94% 112982/120000 [00:12<00:00, 9233.72 examples/s]\u001b[A\n",
            "Generating train examples...:  95% 113907/120000 [00:12<00:00, 9214.51 examples/s]\u001b[A\n",
            "Generating train examples...:  96% 114844/120000 [00:12<00:00, 9260.47 examples/s]\u001b[A\n",
            "Generating train examples...:  96% 115783/120000 [00:12<00:00, 9298.64 examples/s]\u001b[A\n",
            "Generating train examples...:  97% 116719/120000 [00:12<00:00, 9314.80 examples/s]\u001b[A\n",
            "Generating train examples...:  98% 117660/120000 [00:12<00:00, 9340.84 examples/s]\u001b[A\n",
            "Generating train examples...:  99% 118604/120000 [00:12<00:00, 9368.33 examples/s]\u001b[A\n",
            "Generating train examples...: 100% 119541/120000 [00:12<00:00, 9360.13 examples/s]\u001b[A\n",
            "                                                                                  \u001b[A\n",
            "Shuffling /root/tensorflow_datasets/ag_news_subset/1.0.0.incomplete10WVZM/ag_news_subset-train.tfrecord*...:   0% 0/120000 [00:00<?, ? examples/s]\u001b[A\n",
            "Shuffling /root/tensorflow_datasets/ag_news_subset/1.0.0.incomplete10WVZM/ag_news_subset-train.tfrecord*...:   0% 1/120000 [00:00<3:21:58,  9.90 examples/s]\u001b[A\n",
            "Shuffling /root/tensorflow_datasets/ag_news_subset/1.0.0.incomplete10WVZM/ag_news_subset-train.tfrecord*...:  38% 46075/120000 [00:00<00:00, 269919.69 examples/s]\u001b[A\n",
            "Shuffling /root/tensorflow_datasets/ag_news_subset/1.0.0.incomplete10WVZM/ag_news_subset-train.tfrecord*...:  79% 94500/120000 [00:00<00:00, 367560.99 examples/s]\u001b[A\n",
            "INFO[writer.py]: Done writing /root/tensorflow_datasets/ag_news_subset/1.0.0.incomplete10WVZM/ag_news_subset-train.tfrecord*. Number of examples: 120000 (shards: [120000])\n",
            "Generating splits...:  50% 1/2 [00:13<00:13, 13.32s/ splits]\n",
            "Generating test examples...:   0% 0/7600 [00:00<?, ? examples/s]\u001b[A\n",
            "Generating test examples...:  12% 925/7600 [00:00<00:00, 9243.38 examples/s]\u001b[A\n",
            "Generating test examples...:  25% 1867/7600 [00:00<00:00, 9345.32 examples/s]\u001b[A\n",
            "Generating test examples...:  37% 2804/7600 [00:00<00:00, 9354.04 examples/s]\u001b[A\n",
            "Generating test examples...:  49% 3740/7600 [00:00<00:00, 9343.90 examples/s]\u001b[A\n",
            "Generating test examples...:  62% 4683/7600 [00:00<00:00, 9373.24 examples/s]\u001b[A\n",
            "Generating test examples...:  74% 5621/7600 [00:00<00:00, 9351.33 examples/s]\u001b[A\n",
            "Generating test examples...:  86% 6557/7600 [00:00<00:00, 9344.23 examples/s]\u001b[A\n",
            "Generating test examples...:  99% 7492/7600 [00:00<00:00, 9325.45 examples/s]\u001b[A\n",
            "                                                                             \u001b[A\n",
            "Shuffling /root/tensorflow_datasets/ag_news_subset/1.0.0.incomplete10WVZM/ag_news_subset-test.tfrecord*...:   0% 0/7600 [00:00<?, ? examples/s]\u001b[A\n",
            "INFO[writer.py]: Done writing /root/tensorflow_datasets/ag_news_subset/1.0.0.incomplete10WVZM/ag_news_subset-test.tfrecord*. Number of examples: 7600 (shards: [7600])\n",
            "\u001b[1mDataset ag_news_subset downloaded and prepared to /root/tensorflow_datasets/ag_news_subset/1.0.0. Subsequent calls will reuse this data.\u001b[0m\n",
            "INFO[build.py]: Dataset generation complete...\n",
            "\n",
            "tfds.core.DatasetInfo(\n",
            "    name='ag_news_subset',\n",
            "    full_name='ag_news_subset/1.0.0',\n",
            "    description=\"\"\"\n",
            "    AG is a collection of more than 1 million news articles.\n",
            "    News articles have been gathered from more than 2000  news sources by ComeToMyHead in more than 1 year of activity.\n",
            "    ComeToMyHead is an academic news search engine which has been running since July, 2004.\n",
            "    The dataset is provided by the academic comunity for research purposes in data mining (clustering, classification, etc),\n",
            "    information retrieval (ranking, search, etc), xml, data compression, data streaming,\n",
            "    and any other non-commercial activity.\n",
            "    For more information, please refer to the link http://www.di.unipi.it/~gulli/AG_corpus_of_news_articles.html .\n",
            "    \n",
            "    The AG's news topic classification dataset is constructed by Xiang Zhang (xiang.zhang@nyu.edu) from the dataset above.\n",
            "    It is used as a text classification benchmark in the following paper:\n",
            "    Xiang Zhang, Junbo Zhao, Yann LeCun. Character-level Convolutional Networks for Text Classification. Advances in Neural Information Processing Systems 28 (NIPS 2015).\n",
            "    \n",
            "    The AG's news topic classification dataset is constructed by choosing 4 largest classes from the original corpus.\n",
            "    Each class contains 30,000 training samples and 1,900 testing samples.\n",
            "    The total number of training samples is 120,000 and testing 7,600.\n",
            "    \"\"\",\n",
            "    homepage='https://arxiv.org/abs/1509.01626',\n",
            "    data_path='/root/tensorflow_datasets/ag_news_subset/1.0.0',\n",
            "    file_format=tfrecord,\n",
            "    download_size=11.24 MiB,\n",
            "    dataset_size=35.79 MiB,\n",
            "    features=FeaturesDict({\n",
            "        'description': Text(shape=(), dtype=tf.string),\n",
            "        'label': ClassLabel(shape=(), dtype=tf.int64, num_classes=4),\n",
            "        'title': Text(shape=(), dtype=tf.string),\n",
            "    }),\n",
            "    supervised_keys=('description', 'label'),\n",
            "    disable_shuffling=False,\n",
            "    splits={\n",
            "        'test': <SplitInfo num_examples=7600, num_shards=1>,\n",
            "        'train': <SplitInfo num_examples=120000, num_shards=1>,\n",
            "    },\n",
            "    citation=\"\"\"@misc{zhang2015characterlevel,\n",
            "        title={Character-level Convolutional Networks for Text Classification},\n",
            "        author={Xiang Zhang and Junbo Zhao and Yann LeCun},\n",
            "        year={2015},\n",
            "        eprint={1509.01626},\n",
            "        archivePrefix={arXiv},\n",
            "        primaryClass={cs.LG}\n",
            "    }\"\"\",\n",
            ")\n",
            "\n"
          ]
        }
      ]
    },
    {
      "cell_type": "markdown",
      "metadata": {
        "id": "mq7Q6zlFRro_"
      },
      "source": [
        "## Preparing Integer Sequence Datasets"
      ]
    },
    {
      "cell_type": "code",
      "execution_count": 11,
      "metadata": {
        "id": "XzuiyImJxreh",
        "colab": {
          "base_uri": "https://localhost:8080/"
        },
        "outputId": "5e11a912-5339-433a-f5cb-1a8f86cdc873"
      },
      "outputs": [
        {
          "output_type": "stream",
          "name": "stderr",
          "text": [
            "[nltk_data] Downloading package stopwords to /root/nltk_data...\n",
            "[nltk_data]   Unzipping corpora/stopwords.zip.\n"
          ]
        }
      ],
      "source": [
        "nltk.download('stopwords')\n",
        "STOPWORDS = stopwords.words(\"english\")"
      ]
    },
    {
      "cell_type": "code",
      "execution_count": 12,
      "metadata": {
        "id": "AfTnCGIERrpA"
      },
      "outputs": [],
      "source": [
        "max_length = 150\n",
        "max_tokens = 1000\n",
        "text_vectorization = layers.TextVectorization(\n",
        "    max_tokens=max_tokens,\n",
        "    output_mode=\"int\",\n",
        "    output_sequence_length=max_length,\n",
        "    standardize=custom_stopwords\n",
        ")\n",
        "text_vectorization.adapt(text_only_train_ds)\n",
        "\n",
        "int_train_ds = train_ds.map(\n",
        "    lambda x, y: (text_vectorization(x), y),\n",
        "    num_parallel_calls=4)\n",
        "int_val_ds = val_ds.map(\n",
        "    lambda x, y: (text_vectorization(x), y),\n",
        "    num_parallel_calls=4)\n",
        "int_test_ds = test_ds.map(\n",
        "    lambda x, y: (text_vectorization(x), y),\n",
        "    num_parallel_calls=4)"
      ]
    },
    {
      "cell_type": "markdown",
      "metadata": {
        "id": "NBL0CkaB5ukv"
      },
      "source": [
        "## Experiment D: 1D CNN\n",
        "\n",
        "Source: Deeap Learning with Python (Challot): Chapter 11"
      ]
    },
    {
      "cell_type": "code",
      "source": [
        "## Transformer encoder implimented as a subclass Layer\n",
        "\n",
        "    def __init__(self, embed_dim, dense_dim, num_heads, **kwargs):\n",
        "        super().__init__(**kwargs)\n",
        "        self.embed_dim = embed_dim\n",
        "        self.dense_dim = dense_dim\n",
        "        self.num_heads = num_heads\n",
        "        self.attention = layers.MultiHeadAttention(\n",
        "            num_heads=num_heads, key_dim=embed_dim)\n",
        "        self.dense_proj = keras.Sequential(\n",
        "            [layers.Dense(dense_dim, activation=\"relu\"),\n",
        "             layers.Dense(embed_dim),]\n",
        "        )\n",
        "        self.layernorm_1 = layers.LayerNormalization()\n",
        "        self.layernorm_2 = layers.LayerNormalization()\n",
        "    def call(self, inputs, mask=None):\n",
        "        if mask is not None:\n",
        "            mask = mask[:, tf.newaxis, :]\n",
        "        attention_output = self.attention(\n",
        "            inputs, inputs, attention_mask=mask)\n",
        "        proj_input = self.layernorm_1(inputs + attention_output)\n",
        "        proj_output = self.dense_proj(proj_input)\n",
        "        return self.layernorm_2(proj_input + proj_output)\n",
        "  \n",
        "    def get_config(self):\n",
        "        config = super().get_config()\n",
        "        config.update({\n",
        "            \"embed_dim\": self.embed_dim,\n",
        "            \"num_heads\": self.num_heads,\n",
        "            \"dense_dim\": self.dense_dim,\n",
        "        })\n",
        "        return config"
      ],
      "metadata": {
        "id": "4cSCwRfwlAr9"
      },
      "execution_count": 17,
      "outputs": []
    },
    {
      "cell_type": "code",
      "source": [
        "## Implementing positional embedding as sa subclassed layer\n",
        "\n",
        "class PositionalEmbedding(layers.Layer):\n",
        "    def __init__(self, sequence_length, input_dim, output_dim, **kwargs):\n",
        "        super().__init__(**kwargs)\n",
        "        self.token_embeddings = layers.Embedding(\n",
        "            input_dim=input_dim, output_dim=output_dim)\n",
        "        self.position_embeddings = layers.Embedding(\n",
        "            input_dim=sequence_length, output_dim=output_dim)\n",
        "        self.sequence_length = sequence_length\n",
        "        self.input_dim = input_dim\n",
        "        self.output_dim = output_dim\n",
        "  \n",
        "    def call(self, inputs):\n",
        "        length = tf.shape(inputs)[-1]\n",
        "        positions = tf.range(start=0, limit=length, delta=1)\n",
        "        embedded_tokens = self.token_embeddings(inputs)\n",
        "        embedded_positions = self.position_embeddings(positions)\n",
        "        return embedded_tokens + embedded_positions\n",
        " \n",
        "    def compute_mask(self, inputs, mask=None):\n",
        "        return tf.math.not_equal(inputs, 0)\n",
        " \n",
        "    def get_config(self):\n",
        "        config = super().get_config()\n",
        "        config.update({\n",
        "            \"output_dim\": self.output_dim,\n",
        "            \"sequence_length\": self.sequence_length,\n",
        "            \"input_dim\": self.input_dim,\n",
        "        })\n",
        "        return config"
      ],
      "metadata": {
        "id": "BcY5_8BPoZgS"
      },
      "execution_count": 27,
      "outputs": []
    },
    {
      "cell_type": "markdown",
      "source": [
        "### Model 1"
      ],
      "metadata": {
        "id": "6NamjssVq91J"
      }
    },
    {
      "cell_type": "code",
      "execution_count": 61,
      "metadata": {
        "id": "Hq6dB-zWRrpB",
        "colab": {
          "base_uri": "https://localhost:8080/"
        },
        "outputId": "7180578d-8299-412b-ad80-f93764995d55"
      },
      "outputs": [
        {
          "output_type": "stream",
          "name": "stdout",
          "text": [
            "Model: \"model_9\"\n",
            "_________________________________________________________________\n",
            " Layer (type)                Output Shape              Param #   \n",
            "=================================================================\n",
            " input_11 (InputLayer)       [(None, None)]            0         \n",
            "                                                                 \n",
            " embedding_10 (Embedding)    (None, None, 256)         5120000   \n",
            "                                                                 \n",
            " transformer_encoder_9 (Tran  (None, None, 256)        543776    \n",
            " sformerEncoder)                                                 \n",
            "                                                                 \n",
            " global_max_pooling1d_9 (Glo  (None, 256)              0         \n",
            " balMaxPooling1D)                                                \n",
            "                                                                 \n",
            " dropout_9 (Dropout)         (None, 256)               0         \n",
            "                                                                 \n",
            " dense_39 (Dense)            (None, 1)                 257       \n",
            "                                                                 \n",
            "=================================================================\n",
            "Total params: 5,664,033\n",
            "Trainable params: 5,664,033\n",
            "Non-trainable params: 0\n",
            "_________________________________________________________________\n"
          ]
        }
      ],
      "source": [
        "## Using Transformer encoder for text classification \n",
        "vocab_size = 20000 \n",
        "embed_dim = 256 \n",
        "num_heads = 2 \n",
        "dense_dim = 32 \n",
        "  \n",
        "inputs = keras.Input(shape=(None,), dtype=\"int64\")\n",
        "x = layers.Embedding(vocab_size, embed_dim)(inputs)\n",
        "x = TransformerEncoder(embed_dim, dense_dim, num_heads)(x)\n",
        "x = layers.GlobalMaxPooling1D()(x)\n",
        "x = layers.Dropout(0.5)(x)\n",
        "outputs = layers.Dense(1, activation=\"sigmoid\")(x)\n",
        "model1 = keras.Model(inputs, outputs)\n",
        "model1.compile(optimizer=\"rmsprop\",\n",
        "              loss=\"binary_crossentropy\",\n",
        "              metrics=[\"accuracy\"])\n",
        "model1.summary()"
      ]
    },
    {
      "cell_type": "code",
      "source": [
        "callbacks = [\n",
        "    keras.callbacks.ModelCheckpoint(\"full_transformer_encoder1.keras\",\n",
        "                                    save_best_only=True)]"
      ],
      "metadata": {
        "id": "RVK8bFZcbYvq"
      },
      "execution_count": 62,
      "outputs": []
    },
    {
      "cell_type": "code",
      "execution_count": 63,
      "metadata": {
        "id": "5kCbHrrsRrpC",
        "colab": {
          "base_uri": "https://localhost:8080/"
        },
        "outputId": "ebe226f9-5ce1-4a25-b8e4-9a507d6662bf"
      },
      "outputs": [
        {
          "output_type": "stream",
          "name": "stdout",
          "text": [
            "Epoch 1/20\n",
            "3563/3563 [==============================] - 27s 7ms/step - loss: -2544.2205 - accuracy: 0.3727 - val_loss: -7116.4858 - val_accuracy: 0.4163\n",
            "Epoch 2/20\n",
            "3563/3563 [==============================] - 25s 7ms/step - loss: -15668.5361 - accuracy: 0.3951 - val_loss: -26357.5234 - val_accuracy: 0.4167\n",
            "Epoch 3/20\n",
            "3563/3563 [==============================] - 25s 7ms/step - loss: -41207.5469 - accuracy: 0.3959 - val_loss: -58051.0312 - val_accuracy: 0.4095\n",
            "Epoch 4/20\n",
            "3563/3563 [==============================] - 25s 7ms/step - loss: -79300.8359 - accuracy: 0.3939 - val_loss: -102933.2266 - val_accuracy: 0.4193\n",
            "Epoch 5/20\n",
            "3563/3563 [==============================] - 25s 7ms/step - loss: -129993.2422 - accuracy: 0.3848 - val_loss: -158354.0156 - val_accuracy: 0.4192\n",
            "Epoch 6/20\n",
            "3563/3563 [==============================] - 25s 7ms/step - loss: -193174.9844 - accuracy: 0.3791 - val_loss: -226812.5156 - val_accuracy: 0.4017\n",
            "Epoch 7/20\n",
            "3563/3563 [==============================] - 25s 7ms/step - loss: -269014.2188 - accuracy: 0.3787 - val_loss: -309891.1250 - val_accuracy: 0.4022\n",
            "Epoch 8/20\n",
            "3563/3563 [==============================] - 25s 7ms/step - loss: -357671.4062 - accuracy: 0.3817 - val_loss: -402600.3750 - val_accuracy: 0.4003\n",
            "Epoch 9/20\n",
            "3563/3563 [==============================] - 25s 7ms/step - loss: -459048.4062 - accuracy: 0.3838 - val_loss: -511930.8438 - val_accuracy: 0.4148\n",
            "Epoch 10/20\n",
            "3563/3563 [==============================] - 25s 7ms/step - loss: -572665.5625 - accuracy: 0.3861 - val_loss: -629409.1250 - val_accuracy: 0.4268\n",
            "Epoch 11/20\n",
            "3563/3563 [==============================] - 25s 7ms/step - loss: -699661.1250 - accuracy: 0.3888 - val_loss: -766485.1875 - val_accuracy: 0.4090\n",
            "Epoch 12/20\n",
            "3563/3563 [==============================] - 25s 7ms/step - loss: -838128.5000 - accuracy: 0.3890 - val_loss: -906698.1250 - val_accuracy: 0.4172\n",
            "Epoch 13/20\n",
            "3563/3563 [==============================] - 25s 7ms/step - loss: -991232.1250 - accuracy: 0.3910 - val_loss: -1067734.1250 - val_accuracy: 0.4180\n",
            "Epoch 14/20\n",
            "3563/3563 [==============================] - 25s 7ms/step - loss: -1154234.8750 - accuracy: 0.3917 - val_loss: -1233792.7500 - val_accuracy: 0.4112\n",
            "Epoch 15/20\n",
            "3563/3563 [==============================] - 25s 7ms/step - loss: -1331707.5000 - accuracy: 0.3923 - val_loss: -1415198.7500 - val_accuracy: 0.4252\n",
            "Epoch 16/20\n",
            "3563/3563 [==============================] - 25s 7ms/step - loss: -1519815.2500 - accuracy: 0.3935 - val_loss: -1603869.7500 - val_accuracy: 0.4137\n",
            "Epoch 17/20\n",
            "3563/3563 [==============================] - 25s 7ms/step - loss: -1719929.5000 - accuracy: 0.3925 - val_loss: -1815866.5000 - val_accuracy: 0.4082\n",
            "Epoch 18/20\n",
            "3563/3563 [==============================] - 25s 7ms/step - loss: -1936245.6250 - accuracy: 0.3927 - val_loss: -2037357.3750 - val_accuracy: 0.4167\n",
            "Epoch 19/20\n",
            "3563/3563 [==============================] - 25s 7ms/step - loss: -2163384.2500 - accuracy: 0.3956 - val_loss: -2263143.0000 - val_accuracy: 0.4127\n",
            "Epoch 20/20\n",
            "3563/3563 [==============================] - 25s 7ms/step - loss: -2401289.0000 - accuracy: 0.3948 - val_loss: -2495513.0000 - val_accuracy: 0.3998\n",
            "238/238 [==============================] - 1s 4ms/step - loss: -2508695.2500 - accuracy: 0.3989\n",
            "Test acc: 0.399\n"
          ]
        }
      ],
      "source": [
        "history1 = model1.fit(int_train_ds, validation_data=int_val_ds, epochs=20, callbacks=callbacks)\n",
        "model1 = keras.models.load_model(\n",
        "    \"full_transformer_encoder1.keras\",\n",
        "    custom_objects={\"TransformerEncoder\": TransformerEncoder,\n",
        "                    \"PositionalEmbedding\": PositionalEmbedding}) \n",
        "print(f\"Test acc: {model1.evaluate(int_test_ds)[1]:.3f}\")"
      ]
    },
    {
      "cell_type": "code",
      "source": [
        "## Metrics\n",
        "history_dict = history1.history\n",
        "history_dict.keys()\n",
        "\n",
        "losses = history1.history['loss']\n",
        "accs = history1.history['accuracy']\n",
        "val_losses = history1.history['val_loss']\n",
        "val_accs = history1.history['val_accuracy']\n",
        "epochs = len(losses)"
      ],
      "metadata": {
        "id": "3nFVIUsJbHKF"
      },
      "execution_count": 64,
      "outputs": []
    },
    {
      "cell_type": "code",
      "source": [
        "## Loss and Accuracy\n",
        "plt.figure(figsize=(15, 4))\n",
        "for i, metrics in enumerate(zip([losses, accs], [val_losses, val_accs], ['Loss', 'Accuracy'])):\n",
        "    plt.subplot(1, 2, i + 1)\n",
        "    plt.plot(range(epochs), metrics[0], label='Training {}'.format(metrics[2]))\n",
        "    plt.plot(range(epochs), metrics[1], label='Validation {}'.format(metrics[2]))\n",
        "    plt.legend()\n",
        "plt.show()"
      ],
      "metadata": {
        "colab": {
          "base_uri": "https://localhost:8080/",
          "height": 276
        },
        "id": "ixmF4c_lbHHa",
        "outputId": "f4267b20-1001-448a-879f-718d5cfa12df"
      },
      "execution_count": 65,
      "outputs": [
        {
          "output_type": "display_data",
          "data": {
            "text/plain": [
              "<Figure size 1080x288 with 2 Axes>"
            ],
            "image/png": "[encoded data removed]"
          },
          "metadata": {
            "needs_background": "light"
          }
        }
      ]
    },
    {
      "cell_type": "code",
      "source": [],
      "metadata": {
        "id": "iUufYzZ-q5gU"
      },
      "execution_count": null,
      "outputs": []
    },
    {
      "cell_type": "markdown",
      "source": [
        "### Model 2"
      ],
      "metadata": {
        "id": "BoVd0Beds6D0"
      }
    },
    {
      "cell_type": "code",
      "execution_count": 56,
      "metadata": {
        "colab": {
          "base_uri": "https://localhost:8080/"
        },
        "outputId": "c660f25d-2844-4a27-daff-d7aa247f3bc0",
        "id": "s3Nl4c_es6D0"
      },
      "outputs": [
        {
          "output_type": "stream",
          "name": "stdout",
          "text": [
            "Model: \"model_8\"\n",
            "_________________________________________________________________\n",
            " Layer (type)                Output Shape              Param #   \n",
            "=================================================================\n",
            " input_10 (InputLayer)       [(None, None)]            0         \n",
            "                                                                 \n",
            " embedding_9 (Embedding)     (None, None, 256)         2560000   \n",
            "                                                                 \n",
            " transformer_encoder_8 (Tran  (None, None, 256)        543776    \n",
            " sformerEncoder)                                                 \n",
            "                                                                 \n",
            " global_max_pooling1d_8 (Glo  (None, 256)              0         \n",
            " balMaxPooling1D)                                                \n",
            "                                                                 \n",
            " dropout_8 (Dropout)         (None, 256)               0         \n",
            "                                                                 \n",
            " dense_34 (Dense)            (None, 1)                 257       \n",
            "                                                                 \n",
            "=================================================================\n",
            "Total params: 3,104,033\n",
            "Trainable params: 3,104,033\n",
            "Non-trainable params: 0\n",
            "_________________________________________________________________\n"
          ]
        }
      ],
      "source": [
        "## Using Transformer encoder for text classification \n",
        "vocab_size = 10000 \n",
        "embed_dim = 256 \n",
        "num_heads = 2 \n",
        "dense_dim = 32 \n",
        "  \n",
        "inputs = keras.Input(shape=(None,), dtype=\"int64\")\n",
        "x = layers.Embedding(vocab_size, embed_dim)(inputs)\n",
        "x = TransformerEncoder(embed_dim, dense_dim, num_heads)(x)\n",
        "x = layers.GlobalMaxPooling1D()(x)\n",
        "x = layers.Dropout(0.5)(x)\n",
        "outputs = layers.Dense(1, activation=\"sigmoid\")(x)\n",
        "model2 = keras.Model(inputs, outputs)\n",
        "model2.compile(optimizer=\"rmsprop\",\n",
        "              loss=\"binary_crossentropy\",\n",
        "              metrics=[\"accuracy\"])\n",
        "model2.summary()"
      ]
    },
    {
      "cell_type": "code",
      "source": [
        "callbacks = [\n",
        "    keras.callbacks.ModelCheckpoint(\"full_transformer_encoder2.keras\",\n",
        "                                    save_best_only=True)]"
      ],
      "metadata": {
        "id": "8TYLApWqs6D0"
      },
      "execution_count": 57,
      "outputs": []
    },
    {
      "cell_type": "code",
      "execution_count": 58,
      "metadata": {
        "colab": {
          "base_uri": "https://localhost:8080/"
        },
        "outputId": "c8e8cb0a-9827-4151-98f8-c039cbf1a67b",
        "id": "6vkz9JuFs6D1"
      },
      "outputs": [
        {
          "output_type": "stream",
          "name": "stdout",
          "text": [
            "Epoch 1/20\n",
            "3563/3563 [==============================] - 27s 7ms/step - loss: -2636.0156 - accuracy: 0.3708 - val_loss: -7358.6694 - val_accuracy: 0.4168\n",
            "Epoch 2/20\n",
            "3563/3563 [==============================] - 25s 7ms/step - loss: -16488.4707 - accuracy: 0.3895 - val_loss: -27728.7949 - val_accuracy: 0.4003\n",
            "Epoch 3/20\n",
            "3563/3563 [==============================] - 25s 7ms/step - loss: -43771.2031 - accuracy: 0.3740 - val_loss: -61470.5234 - val_accuracy: 0.3983\n",
            "Epoch 4/20\n",
            "3563/3563 [==============================] - 25s 7ms/step - loss: -84415.8281 - accuracy: 0.3765 - val_loss: -107745.1641 - val_accuracy: 0.3912\n",
            "Epoch 5/20\n",
            "3563/3563 [==============================] - 25s 7ms/step - loss: -138401.3281 - accuracy: 0.3776 - val_loss: -168514.3125 - val_accuracy: 0.4088\n",
            "Epoch 6/20\n",
            "3563/3563 [==============================] - 25s 7ms/step - loss: -205356.8281 - accuracy: 0.3816 - val_loss: -241769.4531 - val_accuracy: 0.3955\n",
            "Epoch 7/20\n",
            "3563/3563 [==============================] - 25s 7ms/step - loss: -285641.8438 - accuracy: 0.3821 - val_loss: -328275.8125 - val_accuracy: 0.4235\n",
            "Epoch 8/20\n",
            "3563/3563 [==============================] - 25s 7ms/step - loss: -379999.0938 - accuracy: 0.3799 - val_loss: -428536.2812 - val_accuracy: 0.4072\n",
            "Epoch 9/20\n",
            "3563/3563 [==============================] - 25s 7ms/step - loss: -487248.7188 - accuracy: 0.3823 - val_loss: -539381.0000 - val_accuracy: 0.4108\n",
            "Epoch 10/20\n",
            "3563/3563 [==============================] - 25s 7ms/step - loss: -608105.6875 - accuracy: 0.3829 - val_loss: -669865.6250 - val_accuracy: 0.4112\n",
            "Epoch 11/20\n",
            "3563/3563 [==============================] - 25s 7ms/step - loss: -742344.6875 - accuracy: 0.3813 - val_loss: -805605.6875 - val_accuracy: 0.4093\n",
            "Epoch 12/20\n",
            "3563/3563 [==============================] - 25s 7ms/step - loss: -889253.2500 - accuracy: 0.3823 - val_loss: -956369.9375 - val_accuracy: 0.4167\n",
            "Epoch 13/20\n",
            "3563/3563 [==============================] - 25s 7ms/step - loss: -1051455.6250 - accuracy: 0.3825 - val_loss: -1130257.6250 - val_accuracy: 0.4203\n",
            "Epoch 14/20\n",
            "3563/3563 [==============================] - 25s 7ms/step - loss: -1225820.5000 - accuracy: 0.3850 - val_loss: -1265615.8750 - val_accuracy: 0.3853\n",
            "Epoch 15/20\n",
            "3563/3563 [==============================] - 25s 7ms/step - loss: -1413868.7500 - accuracy: 0.3837 - val_loss: -1498002.3750 - val_accuracy: 0.4190\n",
            "Epoch 16/20\n",
            "3563/3563 [==============================] - 25s 7ms/step - loss: -1614366.2500 - accuracy: 0.3841 - val_loss: -1710112.3750 - val_accuracy: 0.4168\n",
            "Epoch 17/20\n",
            "3563/3563 [==============================] - 25s 7ms/step - loss: -1831825.6250 - accuracy: 0.3842 - val_loss: -1923036.8750 - val_accuracy: 0.4158\n",
            "Epoch 18/20\n",
            "3563/3563 [==============================] - 25s 7ms/step - loss: -2059317.7500 - accuracy: 0.3837 - val_loss: -2156168.2500 - val_accuracy: 0.4173\n",
            "Epoch 19/20\n",
            "3563/3563 [==============================] - 25s 7ms/step - loss: -2300827.0000 - accuracy: 0.3840 - val_loss: -2379739.7500 - val_accuracy: 0.4127\n",
            "Epoch 20/20\n",
            "3563/3563 [==============================] - 25s 7ms/step - loss: -2557805.0000 - accuracy: 0.3866 - val_loss: -2660266.5000 - val_accuracy: 0.3965\n",
            "238/238 [==============================] - 1s 4ms/step - loss: -2673501.5000 - accuracy: 0.3941\n",
            "Test acc: 0.394\n"
          ]
        }
      ],
      "source": [
        "history2 = model2.fit(int_train_ds, validation_data=int_val_ds, epochs=20, callbacks=callbacks)\n",
        "model2 = keras.models.load_model(\n",
        "    \"full_transformer_encoder2.keras\",\n",
        "    custom_objects={\"TransformerEncoder\": TransformerEncoder,\n",
        "                    \"PositionalEmbedding\": PositionalEmbedding}) \n",
        "print(f\"Test acc: {model2.evaluate(int_test_ds)[1]:.3f}\")"
      ]
    },
    {
      "cell_type": "code",
      "source": [
        "## Metrics\n",
        "history_dict = history2.history\n",
        "history_dict.keys()\n",
        "\n",
        "losses = history2.history['loss']\n",
        "accs = history2.history['accuracy']\n",
        "val_losses = history2.history['val_loss']\n",
        "val_accs = history2.history['val_accuracy']\n",
        "epochs = len(losses)"
      ],
      "metadata": {
        "id": "0lsow9C5s6D1"
      },
      "execution_count": 59,
      "outputs": []
    },
    {
      "cell_type": "code",
      "source": [
        "## Loss and Accuracy\n",
        "plt.figure(figsize=(15, 4))\n",
        "for i, metrics in enumerate(zip([losses, accs], [val_losses, val_accs], ['Loss', 'Accuracy'])):\n",
        "    plt.subplot(1, 2, i + 1)\n",
        "    plt.plot(range(epochs), metrics[0], label='Training {}'.format(metrics[2]))\n",
        "    plt.plot(range(epochs), metrics[1], label='Validation {}'.format(metrics[2]))\n",
        "    plt.legend()\n",
        "plt.show()"
      ],
      "metadata": {
        "colab": {
          "base_uri": "https://localhost:8080/",
          "height": 276
        },
        "outputId": "7b6c69d9-b5a5-4ce5-9e2f-8bd4fb1babd4",
        "id": "hVXH_6pbs6D1"
      },
      "execution_count": 60,
      "outputs": [
        {
          "output_type": "display_data",
          "data": {
            "text/plain": [
              "<Figure size 1080x288 with 2 Axes>"
            ],
            "image/png": "[encoded data removed]"
          },
          "metadata": {
            "needs_background": "light"
          }
        }
      ]
    },
    {
      "cell_type": "markdown",
      "source": [
        "### Model 3"
      ],
      "metadata": {
        "id": "Epatf-SEzrKT"
      }
    },
    {
      "cell_type": "code",
      "execution_count": 49,
      "metadata": {
        "colab": {
          "base_uri": "https://localhost:8080/"
        },
        "outputId": "2d136fe2-63df-4168-85e9-c43c09724898",
        "id": "UGrvSXnazrKV"
      },
      "outputs": [
        {
          "output_type": "stream",
          "name": "stdout",
          "text": [
            "Model: \"model_7\"\n",
            "_________________________________________________________________\n",
            " Layer (type)                Output Shape              Param #   \n",
            "=================================================================\n",
            " input_9 (InputLayer)        [(None, None)]            0         \n",
            "                                                                 \n",
            " embedding_8 (Embedding)     (None, None, 550)         11000000  \n",
            "                                                                 \n",
            " transformer_encoder_7 (Tran  (None, None, 550)        2461832   \n",
            " sformerEncoder)                                                 \n",
            "                                                                 \n",
            " global_max_pooling1d_7 (Glo  (None, 550)              0         \n",
            " balMaxPooling1D)                                                \n",
            "                                                                 \n",
            " dropout_7 (Dropout)         (None, 550)               0         \n",
            "                                                                 \n",
            " dense_29 (Dense)            (None, 1)                 551       \n",
            "                                                                 \n",
            "=================================================================\n",
            "Total params: 13,462,383\n",
            "Trainable params: 13,462,383\n",
            "Non-trainable params: 0\n",
            "_________________________________________________________________\n"
          ]
        }
      ],
      "source": [
        "## Using Transformer encoder for text classification \n",
        "vocab_size = 20000 \n",
        "embed_dim = 550 \n",
        "num_heads = 2 \n",
        "dense_dim = 32 \n",
        "  \n",
        "inputs = keras.Input(shape=(None,), dtype=\"int64\")\n",
        "x = layers.Embedding(vocab_size, embed_dim)(inputs)\n",
        "x = TransformerEncoder(embed_dim, dense_dim, num_heads)(x)\n",
        "x = layers.GlobalMaxPooling1D()(x)\n",
        "x = layers.Dropout(0.5)(x)\n",
        "outputs = layers.Dense(1, activation=\"sigmoid\")(x)\n",
        "model3 = keras.Model(inputs, outputs)\n",
        "model3.compile(optimizer=\"rmsprop\",\n",
        "              loss=\"binary_crossentropy\",\n",
        "              metrics=[\"accuracy\"])\n",
        "model3.summary()"
      ]
    },
    {
      "cell_type": "code",
      "source": [
        "callbacks = [\n",
        "    keras.callbacks.ModelCheckpoint(\"full_transformer_encoder3.keras\",\n",
        "                                    save_best_only=True)]"
      ],
      "metadata": {
        "id": "Q_ozhEGqzrKX"
      },
      "execution_count": 50,
      "outputs": []
    },
    {
      "cell_type": "code",
      "execution_count": 51,
      "metadata": {
        "colab": {
          "base_uri": "https://localhost:8080/"
        },
        "outputId": "42e75065-9a6a-424d-8a3b-20829a52e583",
        "id": "H4QKx7DdzrKY"
      },
      "outputs": [
        {
          "output_type": "stream",
          "name": "stdout",
          "text": [
            "Epoch 1/20\n",
            "3563/3563 [==============================] - 36s 10ms/step - loss: -5305.5073 - accuracy: 0.3453 - val_loss: -14596.4229 - val_accuracy: 0.3897\n",
            "Epoch 2/20\n",
            "3563/3563 [==============================] - 34s 10ms/step - loss: -32964.2266 - accuracy: 0.3763 - val_loss: -55588.4336 - val_accuracy: 0.3957\n",
            "Epoch 3/20\n",
            "3563/3563 [==============================] - 34s 10ms/step - loss: -88322.2891 - accuracy: 0.3914 - val_loss: -124321.3438 - val_accuracy: 0.4027\n",
            "Epoch 4/20\n",
            "3563/3563 [==============================] - 35s 10ms/step - loss: -171224.1250 - accuracy: 0.3924 - val_loss: -220396.1406 - val_accuracy: 0.4142\n",
            "Epoch 5/20\n",
            "3563/3563 [==============================] - 35s 10ms/step - loss: -281623.5625 - accuracy: 0.3912 - val_loss: -343823.3750 - val_accuracy: 0.4067\n",
            "Epoch 6/20\n",
            "3563/3563 [==============================] - 34s 10ms/step - loss: -419239.0625 - accuracy: 0.3916 - val_loss: -494390.1562 - val_accuracy: 0.4085\n",
            "Epoch 7/20\n",
            "3563/3563 [==============================] - 35s 10ms/step - loss: -584508.8125 - accuracy: 0.3903 - val_loss: -669455.0000 - val_accuracy: 0.3893\n",
            "Epoch 8/20\n",
            "3563/3563 [==============================] - 35s 10ms/step - loss: -777366.8750 - accuracy: 0.3897 - val_loss: -875907.0625 - val_accuracy: 0.4063\n",
            "Epoch 9/20\n",
            "3563/3563 [==============================] - 34s 10ms/step - loss: -996406.3750 - accuracy: 0.3872 - val_loss: -1101253.5000 - val_accuracy: 0.4105\n",
            "Epoch 10/20\n",
            "3563/3563 [==============================] - 35s 10ms/step - loss: -1245120.7500 - accuracy: 0.3868 - val_loss: -1362957.8750 - val_accuracy: 0.4148\n",
            "Epoch 11/20\n",
            "3563/3563 [==============================] - 34s 10ms/step - loss: -1518648.3750 - accuracy: 0.3861 - val_loss: -1644710.7500 - val_accuracy: 0.4040\n",
            "Epoch 12/20\n",
            "3563/3563 [==============================] - 34s 10ms/step - loss: -1818457.6250 - accuracy: 0.3838 - val_loss: -1963329.0000 - val_accuracy: 0.4025\n",
            "Epoch 13/20\n",
            "3563/3563 [==============================] - 34s 10ms/step - loss: -2147245.2500 - accuracy: 0.3851 - val_loss: -2299429.7500 - val_accuracy: 0.4113\n",
            "Epoch 14/20\n",
            "3563/3563 [==============================] - 34s 10ms/step - loss: -2503498.2500 - accuracy: 0.3824 - val_loss: -2664229.7500 - val_accuracy: 0.3825\n",
            "Epoch 15/20\n",
            "3563/3563 [==============================] - 34s 10ms/step - loss: -2887113.5000 - accuracy: 0.3817 - val_loss: -3056246.0000 - val_accuracy: 0.4088\n",
            "Epoch 16/20\n",
            "3563/3563 [==============================] - 35s 10ms/step - loss: -3295371.7500 - accuracy: 0.3813 - val_loss: -3450893.2500 - val_accuracy: 0.3842\n",
            "Epoch 17/20\n",
            "3563/3563 [==============================] - 35s 10ms/step - loss: -3731544.2500 - accuracy: 0.3811 - val_loss: -3929625.0000 - val_accuracy: 0.4052\n",
            "Epoch 18/20\n",
            "3563/3563 [==============================] - 35s 10ms/step - loss: -4199524.0000 - accuracy: 0.3799 - val_loss: -4392462.0000 - val_accuracy: 0.4038\n",
            "Epoch 19/20\n",
            "3563/3563 [==============================] - 35s 10ms/step - loss: -4695514.5000 - accuracy: 0.3800 - val_loss: -4850487.5000 - val_accuracy: 0.4095\n",
            "Epoch 20/20\n",
            "3563/3563 [==============================] - 35s 10ms/step - loss: -5216158.0000 - accuracy: 0.3805 - val_loss: -5432040.0000 - val_accuracy: 0.3935\n",
            "238/238 [==============================] - 1s 4ms/step - loss: -5468325.5000 - accuracy: 0.3971\n",
            "Test acc: 0.397\n"
          ]
        }
      ],
      "source": [
        "history3 = model3.fit(int_train_ds, validation_data=int_val_ds, epochs=20, callbacks=callbacks)\n",
        "model3 = keras.models.load_model(\n",
        "    \"full_transformer_encoder3.keras\",\n",
        "    custom_objects={\"TransformerEncoder\": TransformerEncoder,\n",
        "                    \"PositionalEmbedding\": PositionalEmbedding}) \n",
        "print(f\"Test acc: {model3.evaluate(int_test_ds)[1]:.3f}\")"
      ]
    },
    {
      "cell_type": "code",
      "source": [
        "## Metrics\n",
        "history_dict = history2.history\n",
        "history_dict.keys()\n",
        "\n",
        "losses = history2.history['loss']\n",
        "accs = history2.history['accuracy']\n",
        "val_losses = history2.history['val_loss']\n",
        "val_accs = history2.history['val_accuracy']\n",
        "epochs = len(losses)"
      ],
      "metadata": {
        "id": "5QlKdZmTzrKZ"
      },
      "execution_count": 54,
      "outputs": []
    },
    {
      "cell_type": "code",
      "source": [
        "## Loss and Accuracy\n",
        "plt.figure(figsize=(15, 4))\n",
        "for i, metrics in enumerate(zip([losses, accs], [val_losses, val_accs], ['Loss', 'Accuracy'])):\n",
        "    plt.subplot(1, 2, i + 1)\n",
        "    plt.plot(range(epochs), metrics[0], label='Training {}'.format(metrics[2]))\n",
        "    plt.plot(range(epochs), metrics[1], label='Validation {}'.format(metrics[2]))\n",
        "    plt.legend()\n",
        "plt.show()"
      ],
      "metadata": {
        "colab": {
          "base_uri": "https://localhost:8080/",
          "height": 276
        },
        "outputId": "3a431111-1198-4946-8f80-58a292336566",
        "id": "9i-T0DnpzrKa"
      },
      "execution_count": 55,
      "outputs": [
        {
          "output_type": "display_data",
          "data": {
            "text/plain": [
              "<Figure size 1080x288 with 2 Axes>"
            ],
            "image/png": "[encoded data removed]"
          },
          "metadata": {
            "needs_background": "light"
          }
        }
      ]
    },
    {
      "cell_type": "code",
      "source": [],
      "metadata": {
        "id": "a94ye-0D01HQ"
      },
      "execution_count": null,
      "outputs": []
    }
  ],
  "metadata": {
    "accelerator": "GPU",
    "colab": {
      "collapsed_sections": [
        "Ydgzc1l15ukl",
        "SNt8VbLK5ukp",
        "AHfRyGdPxref",
        "jdo-2dHCWttQ"
      ],
      "machine_shape": "hm",
      "provenance": [],
      "include_colab_link": true
    },
    "kernelspec": {
      "display_name": "Python 3",
      "language": "python",
      "name": "python3"
    },
    "language_info": {
      "codemirror_mode": {
        "name": "ipython",
        "version": 3
      },
      "file_extension": ".py",
      "mimetype": "text/x-python",
      "name": "python",
      "nbconvert_exporter": "python",
      "pygments_lexer": "ipython3",
      "version": "3.8.10"
    },
    "gpuClass": "premium"
  },
  "nbformat": 4,
  "nbformat_minor": 0
}
