{
  "cells": [
    {
      "cell_type": "markdown",
      "metadata": {
        "id": "view-in-github",
        "colab_type": "text"
      },
      "source": [
        "<a href=\"https://colab.research.google.com/github/alawrence30/Deep-Learning/blob/main/A_MSDS458_Assignment_03_EDA_v4.ipynb\" target=\"_parent\"><img src=\"https://colab.research.google.com/assets/colab-badge.svg\" alt=\"Open In Colab\"/></a>"
      ]
    },
    {
      "cell_type": "markdown",
      "metadata": {
        "id": "Cfh9kVB-rpjo"
      },
      "source": [
        "<img src=\"https://github.com/djp840/MSDS_458_Public/blob/master/images/NorthwesternHeader.png?raw=1\">"
      ]
    },
    {
      "cell_type": "markdown",
      "metadata": {
        "id": "pRAx1f1ir1St"
      },
      "source": [
        "## MSDS458 Research Assignment 3 - Part 00"
      ]
    },
    {
      "cell_type": "markdown",
      "metadata": {
        "id": "jQnyR1_aFk-t"
      },
      "source": [
        "## Analyze AG_NEWS_SUBSET Data <br>\n",
        "\n",
        "AG is a collection of more than 1 million news articles. News articles have been gathered from more than 2000 news sources by ComeToMyHead in more than 1 year of activity. ComeToMyHead is an academic news search engine which has been running since July, 2004. The dataset is provided by the academic comunity for research purposes in data mining (clustering, classification, etc), information retrieval (ranking, search, etc), xml, data compression, data streaming, and any other non-commercial activity.<br> \n",
        "\n",
        "For more information, please refer to the link http://www.di.unipi.it/~gulli/AG_corpus_of_news_articles.html<br> \n",
        "\n",
        "\n",
        "The AG's news topic classification dataset is constructed by choosing 4 largest classes (**World**, **Sports**, **Business**, and **Sci/Tech**) from the original corpus. Each class contains 30,000 training samples and 1,900 testing samples. The total number of training samples is 120,000 and testing 7,600.<br>\n",
        "\n",
        "Homepage: https://arxiv.org/abs/1509.01626<br>\n",
        "\n",
        "Source code: tfds.text.AGNewsSubset\n",
        "\n",
        "Versions:\n",
        "\n",
        "1.0.0 (default): No release notes.\n",
        "Download size: 11.24 MiB\n",
        "\n",
        "Dataset size: 35.79 MiB"
      ]
    },
    {
      "cell_type": "markdown",
      "metadata": {
        "id": "oGBlk-2-NaCn"
      },
      "source": [
        "<div class=\"alert alert-block alert-success\">\n",
        "    <b>More Technical</b>: Throughout the notebook. This types of boxes provide more technical details and extra references about what you are seeing. They contain helpful tips, but you can safely skip them the first time you run through the code.\n",
        "</div>"
      ]
    },
    {
      "cell_type": "code",
      "execution_count": 1,
      "metadata": {
        "id": "hB2vYGKUd-YB"
      },
      "outputs": [],
      "source": [
        "#!conda install -c anaconda tensorflow-datasets --y\n",
        "#!pip install -c anaconda tensorflow-datasets --y"
      ]
    },
    {
      "cell_type": "markdown",
      "source": [
        "##Functions and Packages"
      ],
      "metadata": {
        "id": "OLNUiYRus5Y6"
      }
    },
    {
      "cell_type": "markdown",
      "metadata": {
        "id": "t-Jjr3rNr5PR"
      },
      "source": [
        "### Import packages "
      ]
    },
    {
      "cell_type": "code",
      "execution_count": 2,
      "metadata": {
        "id": "mbrX9qUZvfs1"
      },
      "outputs": [],
      "source": [
        "import datetime\n",
        "from packaging import version\n",
        "from collections import Counter\n",
        "import numpy as np\n",
        "import pandas as pd\n",
        "import time\n",
        "import string\n",
        "import nltk\n",
        "from nltk.corpus import stopwords\n",
        "from collections import Counter\n",
        "import re\n",
        "\n",
        "import matplotlib.pyplot as plt\n",
        "import matplotlib as mpl\n",
        "import seaborn as sns\n",
        "\n",
        "from sklearn.metrics import confusion_matrix, classification_report\n",
        "from sklearn.preprocessing import StandardScaler\n",
        "from sklearn.decomposition import PCA\n",
        "from sklearn.manifold import TSNE\n",
        "from sklearn.ensemble import RandomForestClassifier\n",
        "from sklearn.metrics import mean_squared_error as MSE\n",
        "from sklearn.metrics import accuracy_score\n",
        "\n",
        "import tensorflow as tf\n",
        "from tensorflow import keras\n",
        "import tensorflow_datasets as tfds\n",
        "from tensorflow.keras.layers import TextVectorization\n",
        "from tensorflow.keras import layers"
      ]
    },
    {
      "cell_type": "code",
      "execution_count": 3,
      "metadata": {
        "id": "q0H8HuzHrWwN"
      },
      "outputs": [],
      "source": [
        "%matplotlib inline\n",
        "np.set_printoptions(precision=3, suppress=True)"
      ]
    },
    {
      "cell_type": "markdown",
      "metadata": {
        "id": "Ty0inyVYd-YO"
      },
      "source": [
        "### Visualization Utility Functions"
      ]
    },
    {
      "cell_type": "code",
      "execution_count": 4,
      "metadata": {
        "id": "RJZnDOpYd-YO"
      },
      "outputs": [],
      "source": [
        "def print_validation_report(test_labels, predictions):\n",
        "    print(\"Classification Report\")\n",
        "    print(classification_report(test_labels, predictions))\n",
        "    print('Accuracy Score: {}'.format(accuracy_score(test_labels, predictions)))\n",
        "    print('Root Mean Square Error: {}'.format(np.sqrt(MSE(test_labels, predictions)))) \n",
        "    \n",
        "def plot_confusion_matrix(y_true, y_pred):\n",
        "    mtx = confusion_matrix(y_true, y_pred)\n",
        "    fig, ax = plt.subplots(figsize=(8,8))\n",
        "    sns.heatmap(mtx, annot=True, fmt='d', linewidths=.75,  cbar=False, ax=ax,cmap='Blues',linecolor='white')\n",
        "    #  square=True,\n",
        "    plt.ylabel('true label')\n",
        "    plt.xlabel('predicted label')\n",
        "\n",
        "def plot_graphs(history, metric):\n",
        "  plt.plot(history.history[metric])\n",
        "  plt.plot(history.history['val_'+metric], '')\n",
        "  plt.xlabel(\"Epochs\")\n",
        "  plt.ylabel(metric)\n",
        "  plt.legend([metric, 'val_'+metric])"
      ]
    },
    {
      "cell_type": "markdown",
      "metadata": {
        "id": "tOgRNMV7d-YP"
      },
      "source": [
        "### Vectorization Class"
      ]
    },
    {
      "cell_type": "code",
      "execution_count": 5,
      "metadata": {
        "id": "FMyvSVCtd-YP"
      },
      "outputs": [],
      "source": [
        "class Vectorizer:\n",
        "    def standardize(self, text):\n",
        "        text = text.lower()\n",
        "        return \"\".join(char for char in text if char not in string.punctuation)\n",
        "\n",
        "    def tokenize(self, text):\n",
        "        text = self.standardize(text)\n",
        "        return text.split()\n",
        "\n",
        "    def make_vocabulary(self, dataset):\n",
        "        self.vocabulary = {\"\": 0, \"[UNK]\": 1}\n",
        "        for text in dataset:\n",
        "            text = self.standardize(text)\n",
        "            tokens = self.tokenize(text)\n",
        "            for token in tokens:\n",
        "                if token not in self.vocabulary:\n",
        "                    self.vocabulary[token] = len(self.vocabulary)\n",
        "        self.inverse_vocabulary = dict(\n",
        "            (v, k) for k, v in self.vocabulary.items())\n",
        "\n",
        "    def encode(self, text):\n",
        "        text = self.standardize(text)\n",
        "        tokens = self.tokenize(text)\n",
        "        return [self.vocabulary.get(token, 1) for token in tokens]\n",
        "\n",
        "    def decode(self, int_sequence):\n",
        "        return \" \".join(\n",
        "            self.inverse_vocabulary.get(i, \"[UNK]\") for i in int_sequence)\n"
      ]
    },
    {
      "cell_type": "markdown",
      "metadata": {
        "id": "iKucNfkrsqrP"
      },
      "source": [
        "### Verify TensorFlow Version and Keras Version"
      ]
    },
    {
      "cell_type": "code",
      "execution_count": 6,
      "metadata": {
        "colab": {
          "base_uri": "https://localhost:8080/"
        },
        "id": "g_BoGg9JrWzj",
        "outputId": "95afa761-2a03-4886-ff1e-24c6fe6886ad"
      },
      "outputs": [
        {
          "output_type": "stream",
          "name": "stdout",
          "text": [
            "This notebook requires TensorFlow 2.0 or above\n",
            "TensorFlow version:  2.9.2\n"
          ]
        }
      ],
      "source": [
        "print(\"This notebook requires TensorFlow 2.0 or above\")\n",
        "print(\"TensorFlow version: \", tf.__version__)\n",
        "assert version.parse(tf.__version__).release[0] >=2"
      ]
    },
    {
      "cell_type": "code",
      "execution_count": 7,
      "metadata": {
        "colab": {
          "base_uri": "https://localhost:8080/"
        },
        "id": "U_bLWHP4rW3b",
        "outputId": "8264fe0a-b839-4ba9-a4e4-3041d46e91d5"
      },
      "outputs": [
        {
          "output_type": "stream",
          "name": "stdout",
          "text": [
            "Keras version:  2.9.0\n"
          ]
        }
      ],
      "source": [
        "print(\"Keras version: \", keras.__version__)"
      ]
    },
    {
      "cell_type": "markdown",
      "source": [
        "##Mount Google Colab"
      ],
      "metadata": {
        "id": "xXtZkSnW09ue"
      }
    },
    {
      "cell_type": "code",
      "execution_count": 8,
      "metadata": {
        "id": "CXm3H81YrW8-",
        "colab": {
          "base_uri": "https://localhost:8080/"
        },
        "outputId": "4a38b6fe-61b6-4b5f-80d9-5fcea408ad6a"
      },
      "outputs": [
        {
          "output_type": "stream",
          "name": "stdout",
          "text": [
            "Mounted at /content/gdrive\n"
          ]
        }
      ],
      "source": [
        " from google.colab import drive\n",
        " drive.mount('/content/gdrive')"
      ]
    },
    {
      "cell_type": "markdown",
      "source": [
        "## Read Data - TWO OPTIONS (from CSV from Google drive OR from Kaggle)"
      ],
      "metadata": {
        "id": "puJwZDVgtEw0"
      }
    },
    {
      "cell_type": "markdown",
      "metadata": {
        "id": "mNZtmLKjd-YP"
      },
      "source": [
        "### OPTION 1: AG_NEWS_SUBSET Data in CSV files from Google drive\n",
        "<div class=\"alert alert-block alert-info\">\n",
        "    <b> ag_news_subset</b><br>\n",
        "    See  https://www.kaggle.com/amananandrai/ag-news-classification-dataset\n",
        " \n",
        "  <li>We combined the Title and Description columns into a Title_Description column in the training and test csv files.</li>\n",
        "  <li>We also created a validation csv file using some of the data from the training csv file.</li>\n",
        "</ol>\n",
        "\n",
        " </div>"
      ]
    },
    {
      "cell_type": "code",
      "execution_count": 9,
      "metadata": {
        "colab": {
          "base_uri": "https://localhost:8080/"
        },
        "id": "AzjbRALZd-YP",
        "outputId": "74c06edc-adbf-45ff-a675-ac88ee4b1d96"
      },
      "outputs": [
        {
          "output_type": "stream",
          "name": "stdout",
          "text": [
            "There are 114000 news articles for training.\n",
            "There are 6000 news articles for validation.\n",
            "There are 7600 news articles for testing.\n",
            "There are 127600 news articles total.\n"
          ]
        }
      ],
      "source": [
        "train_df = pd.read_csv('gdrive/My Drive/MSDS 458/MSDS_458_Public-master/MSDS458_Assignment_03/data/train.csv')\n",
        "val_df = pd.read_csv('gdrive/My Drive/MSDS 458/MSDS_458_Public-master/MSDS458_Assignment_03/data/val.csv')\n",
        "test_df = pd.read_csv('gdrive/My Drive/MSDS 458/MSDS_458_Public-master/MSDS458_Assignment_03/data/test.csv')\n",
        "all_df = pd.read_csv('gdrive/My Drive/MSDS 458/MSDS_458_Public-master/MSDS458_Assignment_03/data/all.csv')\n",
        "\n",
        "print(f\"There are {train_df.shape[0]} news articles for training.\")\n",
        "print(f\"There are {val_df.shape[0]} news articles for validation.\")\n",
        "print(f\"There are {test_df.shape[0]} news articles for testing.\")\n",
        "print(f\"There are {all_df.shape[0]} news articles total.\")"
      ]
    },
    {
      "cell_type": "code",
      "source": [
        "type(train_df)"
      ],
      "metadata": {
        "colab": {
          "base_uri": "https://localhost:8080/"
        },
        "id": "qsgJVV4O29qC",
        "outputId": "f754be28-7560-4626-deba-cfc3f72b0745"
      },
      "execution_count": 10,
      "outputs": [
        {
          "output_type": "execute_result",
          "data": {
            "text/plain": [
              "pandas.core.frame.DataFrame"
            ]
          },
          "metadata": {},
          "execution_count": 10
        }
      ]
    },
    {
      "cell_type": "code",
      "source": [
        "train_df.head(2)"
      ],
      "metadata": {
        "colab": {
          "base_uri": "https://localhost:8080/",
          "height": 112
        },
        "id": "eEQucs4bu1uH",
        "outputId": "94ac4099-a4b4-4acf-8b16-e7743e967931"
      },
      "execution_count": 11,
      "outputs": [
        {
          "output_type": "execute_result",
          "data": {
            "text/plain": [
              "   Label                                              Title  \\\n",
              "0      2  Wall St. Bears Claw Back Into the Black (Reuters)   \n",
              "1      2  Carlyle Looks Toward Commercial Aerospace (Reu...   \n",
              "\n",
              "                                         Description  \\\n",
              "0  Reuters - Short-sellers, Wall Street's dwindli...   \n",
              "1  Reuters - Private investment firm Carlyle Grou...   \n",
              "\n",
              "                                   Title_Description  \n",
              "0  Wall St. Bears Claw Back Into the Black (Reute...  \n",
              "1  Carlyle Looks Toward Commercial Aerospace (Reu...  "
            ],
            "text/html": [
              "\n",
              "  <div id=\"df-64bc6793-73f7-47f1-b403-bcdf7e3e3345\">\n",
              "    <div class=\"colab-df-container\">\n",
              "      <div>\n",
              "<style scoped>\n",
              "    .dataframe tbody tr th:only-of-type {\n",
              "        vertical-align: middle;\n",
              "    }\n",
              "\n",
              "    .dataframe tbody tr th {\n",
              "        vertical-align: top;\n",
              "    }\n",
              "\n",
              "    .dataframe thead th {\n",
              "        text-align: right;\n",
              "    }\n",
              "</style>\n",
              "<table border=\"1\" class=\"dataframe\">\n",
              "  <thead>\n",
              "    <tr style=\"text-align: right;\">\n",
              "      <th></th>\n",
              "      <th>Label</th>\n",
              "      <th>Title</th>\n",
              "      <th>Description</th>\n",
              "      <th>Title_Description</th>\n",
              "    </tr>\n",
              "  </thead>\n",
              "  <tbody>\n",
              "    <tr>\n",
              "      <th>0</th>\n",
              "      <td>2</td>\n",
              "      <td>Wall St. Bears Claw Back Into the Black (Reuters)</td>\n",
              "      <td>Reuters - Short-sellers, Wall Street's dwindli...</td>\n",
              "      <td>Wall St. Bears Claw Back Into the Black (Reute...</td>\n",
              "    </tr>\n",
              "    <tr>\n",
              "      <th>1</th>\n",
              "      <td>2</td>\n",
              "      <td>Carlyle Looks Toward Commercial Aerospace (Reu...</td>\n",
              "      <td>Reuters - Private investment firm Carlyle Grou...</td>\n",
              "      <td>Carlyle Looks Toward Commercial Aerospace (Reu...</td>\n",
              "    </tr>\n",
              "  </tbody>\n",
              "</table>\n",
              "</div>\n",
              "      <button class=\"colab-df-convert\" onclick=\"convertToInteractive('df-64bc6793-73f7-47f1-b403-bcdf7e3e3345')\"\n",
              "              title=\"Convert this dataframe to an interactive table.\"\n",
              "              style=\"display:none;\">\n",
              "        \n",
              "  <svg xmlns=\"http://www.w3.org/2000/svg\" height=\"24px\"viewBox=\"0 0 24 24\"\n",
              "       width=\"24px\">\n",
              "    <path d=\"M0 0h24v24H0V0z\" fill=\"none\"/>\n",
              "    <path d=\"M18.56 5.44l.94 2.06.94-2.06 2.06-.94-2.06-.94-.94-2.06-.94 2.06-2.06.94zm-11 1L8.5 8.5l.94-2.06 2.06-.94-2.06-.94L8.5 2.5l-.94 2.06-2.06.94zm10 10l.94 2.06.94-2.06 2.06-.94-2.06-.94-.94-2.06-.94 2.06-2.06.94z\"/><path d=\"M17.41 7.96l-1.37-1.37c-.4-.4-.92-.59-1.43-.59-.52 0-1.04.2-1.43.59L10.3 9.45l-7.72 7.72c-.78.78-.78 2.05 0 2.83L4 21.41c.39.39.9.59 1.41.59.51 0 1.02-.2 1.41-.59l7.78-7.78 2.81-2.81c.8-.78.8-2.07 0-2.86zM5.41 20L4 18.59l7.72-7.72 1.47 1.35L5.41 20z\"/>\n",
              "  </svg>\n",
              "      </button>\n",
              "      \n",
              "  <style>\n",
              "    .colab-df-container {\n",
              "      display:flex;\n",
              "      flex-wrap:wrap;\n",
              "      gap: 12px;\n",
              "    }\n",
              "\n",
              "    .colab-df-convert {\n",
              "      background-color: #E8F0FE;\n",
              "      border: none;\n",
              "      border-radius: 50%;\n",
              "      cursor: pointer;\n",
              "      display: none;\n",
              "      fill: #1967D2;\n",
              "      height: 32px;\n",
              "      padding: 0 0 0 0;\n",
              "      width: 32px;\n",
              "    }\n",
              "\n",
              "    .colab-df-convert:hover {\n",
              "      background-color: #E2EBFA;\n",
              "      box-shadow: 0px 1px 2px rgba(60, 64, 67, 0.3), 0px 1px 3px 1px rgba(60, 64, 67, 0.15);\n",
              "      fill: #174EA6;\n",
              "    }\n",
              "\n",
              "    [theme=dark] .colab-df-convert {\n",
              "      background-color: #3B4455;\n",
              "      fill: #D2E3FC;\n",
              "    }\n",
              "\n",
              "    [theme=dark] .colab-df-convert:hover {\n",
              "      background-color: #434B5C;\n",
              "      box-shadow: 0px 1px 3px 1px rgba(0, 0, 0, 0.15);\n",
              "      filter: drop-shadow(0px 1px 2px rgba(0, 0, 0, 0.3));\n",
              "      fill: #FFFFFF;\n",
              "    }\n",
              "  </style>\n",
              "\n",
              "      <script>\n",
              "        const buttonEl =\n",
              "          document.querySelector('#df-64bc6793-73f7-47f1-b403-bcdf7e3e3345 button.colab-df-convert');\n",
              "        buttonEl.style.display =\n",
              "          google.colab.kernel.accessAllowed ? 'block' : 'none';\n",
              "\n",
              "        async function convertToInteractive(key) {\n",
              "          const element = document.querySelector('#df-64bc6793-73f7-47f1-b403-bcdf7e3e3345');\n",
              "          const dataTable =\n",
              "            await google.colab.kernel.invokeFunction('convertToInteractive',\n",
              "                                                     [key], {});\n",
              "          if (!dataTable) return;\n",
              "\n",
              "          const docLinkHtml = 'Like what you see? Visit the ' +\n",
              "            '<a target=\"_blank\" href=https://colab.research.google.com/notebooks/data_table.ipynb>data table notebook</a>'\n",
              "            + ' to learn more about interactive tables.';\n",
              "          element.innerHTML = '';\n",
              "          dataTable['output_type'] = 'display_data';\n",
              "          await google.colab.output.renderOutput(dataTable, element);\n",
              "          const docLink = document.createElement('div');\n",
              "          docLink.innerHTML = docLinkHtml;\n",
              "          element.appendChild(docLink);\n",
              "        }\n",
              "      </script>\n",
              "    </div>\n",
              "  </div>\n",
              "  "
            ]
          },
          "metadata": {},
          "execution_count": 11
        }
      ]
    },
    {
      "cell_type": "code",
      "source": [
        "test_df.head(2).T"
      ],
      "metadata": {
        "colab": {
          "base_uri": "https://localhost:8080/",
          "height": 175
        },
        "id": "hjmXcOf1u1re",
        "outputId": "0a4b4099-4fdf-44c8-f1d0-bc88dadd15ac"
      },
      "execution_count": 12,
      "outputs": [
        {
          "output_type": "execute_result",
          "data": {
            "text/plain": [
              "                                                                   0  \\\n",
              "Label                                                              2   \n",
              "Title                              Fears for T N pension after talks   \n",
              "Description        Unions representing workers at Turner   Newall...   \n",
              "Title_Description  Fears for T N pension after talks Unions repre...   \n",
              "\n",
              "                                                                   1  \n",
              "Label                                                              3  \n",
              "Title              The Race is On: Second Private Team Sets Launc...  \n",
              "Description        SPACE.com - TORONTO, Canada -- A second\\team o...  \n",
              "Title_Description  The Race is On: Second Private Team Sets Launc...  "
            ],
            "text/html": [
              "\n",
              "  <div id=\"df-0b46711c-3458-4d6d-9c58-c72b55b75c53\">\n",
              "    <div class=\"colab-df-container\">\n",
              "      <div>\n",
              "<style scoped>\n",
              "    .dataframe tbody tr th:only-of-type {\n",
              "        vertical-align: middle;\n",
              "    }\n",
              "\n",
              "    .dataframe tbody tr th {\n",
              "        vertical-align: top;\n",
              "    }\n",
              "\n",
              "    .dataframe thead th {\n",
              "        text-align: right;\n",
              "    }\n",
              "</style>\n",
              "<table border=\"1\" class=\"dataframe\">\n",
              "  <thead>\n",
              "    <tr style=\"text-align: right;\">\n",
              "      <th></th>\n",
              "      <th>0</th>\n",
              "      <th>1</th>\n",
              "    </tr>\n",
              "  </thead>\n",
              "  <tbody>\n",
              "    <tr>\n",
              "      <th>Label</th>\n",
              "      <td>2</td>\n",
              "      <td>3</td>\n",
              "    </tr>\n",
              "    <tr>\n",
              "      <th>Title</th>\n",
              "      <td>Fears for T N pension after talks</td>\n",
              "      <td>The Race is On: Second Private Team Sets Launc...</td>\n",
              "    </tr>\n",
              "    <tr>\n",
              "      <th>Description</th>\n",
              "      <td>Unions representing workers at Turner   Newall...</td>\n",
              "      <td>SPACE.com - TORONTO, Canada -- A second\\team o...</td>\n",
              "    </tr>\n",
              "    <tr>\n",
              "      <th>Title_Description</th>\n",
              "      <td>Fears for T N pension after talks Unions repre...</td>\n",
              "      <td>The Race is On: Second Private Team Sets Launc...</td>\n",
              "    </tr>\n",
              "  </tbody>\n",
              "</table>\n",
              "</div>\n",
              "      <button class=\"colab-df-convert\" onclick=\"convertToInteractive('df-0b46711c-3458-4d6d-9c58-c72b55b75c53')\"\n",
              "              title=\"Convert this dataframe to an interactive table.\"\n",
              "              style=\"display:none;\">\n",
              "        \n",
              "  <svg xmlns=\"http://www.w3.org/2000/svg\" height=\"24px\"viewBox=\"0 0 24 24\"\n",
              "       width=\"24px\">\n",
              "    <path d=\"M0 0h24v24H0V0z\" fill=\"none\"/>\n",
              "    <path d=\"M18.56 5.44l.94 2.06.94-2.06 2.06-.94-2.06-.94-.94-2.06-.94 2.06-2.06.94zm-11 1L8.5 8.5l.94-2.06 2.06-.94-2.06-.94L8.5 2.5l-.94 2.06-2.06.94zm10 10l.94 2.06.94-2.06 2.06-.94-2.06-.94-.94-2.06-.94 2.06-2.06.94z\"/><path d=\"M17.41 7.96l-1.37-1.37c-.4-.4-.92-.59-1.43-.59-.52 0-1.04.2-1.43.59L10.3 9.45l-7.72 7.72c-.78.78-.78 2.05 0 2.83L4 21.41c.39.39.9.59 1.41.59.51 0 1.02-.2 1.41-.59l7.78-7.78 2.81-2.81c.8-.78.8-2.07 0-2.86zM5.41 20L4 18.59l7.72-7.72 1.47 1.35L5.41 20z\"/>\n",
              "  </svg>\n",
              "      </button>\n",
              "      \n",
              "  <style>\n",
              "    .colab-df-container {\n",
              "      display:flex;\n",
              "      flex-wrap:wrap;\n",
              "      gap: 12px;\n",
              "    }\n",
              "\n",
              "    .colab-df-convert {\n",
              "      background-color: #E8F0FE;\n",
              "      border: none;\n",
              "      border-radius: 50%;\n",
              "      cursor: pointer;\n",
              "      display: none;\n",
              "      fill: #1967D2;\n",
              "      height: 32px;\n",
              "      padding: 0 0 0 0;\n",
              "      width: 32px;\n",
              "    }\n",
              "\n",
              "    .colab-df-convert:hover {\n",
              "      background-color: #E2EBFA;\n",
              "      box-shadow: 0px 1px 2px rgba(60, 64, 67, 0.3), 0px 1px 3px 1px rgba(60, 64, 67, 0.15);\n",
              "      fill: #174EA6;\n",
              "    }\n",
              "\n",
              "    [theme=dark] .colab-df-convert {\n",
              "      background-color: #3B4455;\n",
              "      fill: #D2E3FC;\n",
              "    }\n",
              "\n",
              "    [theme=dark] .colab-df-convert:hover {\n",
              "      background-color: #434B5C;\n",
              "      box-shadow: 0px 1px 3px 1px rgba(0, 0, 0, 0.15);\n",
              "      filter: drop-shadow(0px 1px 2px rgba(0, 0, 0, 0.3));\n",
              "      fill: #FFFFFF;\n",
              "    }\n",
              "  </style>\n",
              "\n",
              "      <script>\n",
              "        const buttonEl =\n",
              "          document.querySelector('#df-0b46711c-3458-4d6d-9c58-c72b55b75c53 button.colab-df-convert');\n",
              "        buttonEl.style.display =\n",
              "          google.colab.kernel.accessAllowed ? 'block' : 'none';\n",
              "\n",
              "        async function convertToInteractive(key) {\n",
              "          const element = document.querySelector('#df-0b46711c-3458-4d6d-9c58-c72b55b75c53');\n",
              "          const dataTable =\n",
              "            await google.colab.kernel.invokeFunction('convertToInteractive',\n",
              "                                                     [key], {});\n",
              "          if (!dataTable) return;\n",
              "\n",
              "          const docLinkHtml = 'Like what you see? Visit the ' +\n",
              "            '<a target=\"_blank\" href=https://colab.research.google.com/notebooks/data_table.ipynb>data table notebook</a>'\n",
              "            + ' to learn more about interactive tables.';\n",
              "          element.innerHTML = '';\n",
              "          dataTable['output_type'] = 'display_data';\n",
              "          await google.colab.output.renderOutput(dataTable, element);\n",
              "          const docLink = document.createElement('div');\n",
              "          docLink.innerHTML = docLinkHtml;\n",
              "          element.appendChild(docLink);\n",
              "        }\n",
              "      </script>\n",
              "    </div>\n",
              "  </div>\n",
              "  "
            ]
          },
          "metadata": {},
          "execution_count": 12
        }
      ]
    },
    {
      "cell_type": "code",
      "source": [
        "val_df.head(2).T"
      ],
      "metadata": {
        "colab": {
          "base_uri": "https://localhost:8080/",
          "height": 175
        },
        "id": "ojgZD-sxu1ow",
        "outputId": "1c374c7e-ae18-40c5-f376-dd3708bebad1"
      },
      "execution_count": 13,
      "outputs": [
        {
          "output_type": "execute_result",
          "data": {
            "text/plain": [
              "                                                                   0  \\\n",
              "Label                                                              0   \n",
              "Title                                 US shrugs off report of ransom   \n",
              "Description        The Bush administration yesterday gave Italy t...   \n",
              "Title_Description  US shrugs off report of ransom The Bush admini...   \n",
              "\n",
              "                                                                   1  \n",
              "Label                                                              0  \n",
              "Title                           Clinton Making Satisfactory Recovery  \n",
              "Description        NEW YORK - Breathing on his own and sipping li...  \n",
              "Title_Description  Clinton Making Satisfactory Recovery NEW YORK ...  "
            ],
            "text/html": [
              "\n",
              "  <div id=\"df-b89a3c69-b3c7-48eb-a864-c64b9a1bff18\">\n",
              "    <div class=\"colab-df-container\">\n",
              "      <div>\n",
              "<style scoped>\n",
              "    .dataframe tbody tr th:only-of-type {\n",
              "        vertical-align: middle;\n",
              "    }\n",
              "\n",
              "    .dataframe tbody tr th {\n",
              "        vertical-align: top;\n",
              "    }\n",
              "\n",
              "    .dataframe thead th {\n",
              "        text-align: right;\n",
              "    }\n",
              "</style>\n",
              "<table border=\"1\" class=\"dataframe\">\n",
              "  <thead>\n",
              "    <tr style=\"text-align: right;\">\n",
              "      <th></th>\n",
              "      <th>0</th>\n",
              "      <th>1</th>\n",
              "    </tr>\n",
              "  </thead>\n",
              "  <tbody>\n",
              "    <tr>\n",
              "      <th>Label</th>\n",
              "      <td>0</td>\n",
              "      <td>0</td>\n",
              "    </tr>\n",
              "    <tr>\n",
              "      <th>Title</th>\n",
              "      <td>US shrugs off report of ransom</td>\n",
              "      <td>Clinton Making Satisfactory Recovery</td>\n",
              "    </tr>\n",
              "    <tr>\n",
              "      <th>Description</th>\n",
              "      <td>The Bush administration yesterday gave Italy t...</td>\n",
              "      <td>NEW YORK - Breathing on his own and sipping li...</td>\n",
              "    </tr>\n",
              "    <tr>\n",
              "      <th>Title_Description</th>\n",
              "      <td>US shrugs off report of ransom The Bush admini...</td>\n",
              "      <td>Clinton Making Satisfactory Recovery NEW YORK ...</td>\n",
              "    </tr>\n",
              "  </tbody>\n",
              "</table>\n",
              "</div>\n",
              "      <button class=\"colab-df-convert\" onclick=\"convertToInteractive('df-b89a3c69-b3c7-48eb-a864-c64b9a1bff18')\"\n",
              "              title=\"Convert this dataframe to an interactive table.\"\n",
              "              style=\"display:none;\">\n",
              "        \n",
              "  <svg xmlns=\"http://www.w3.org/2000/svg\" height=\"24px\"viewBox=\"0 0 24 24\"\n",
              "       width=\"24px\">\n",
              "    <path d=\"M0 0h24v24H0V0z\" fill=\"none\"/>\n",
              "    <path d=\"M18.56 5.44l.94 2.06.94-2.06 2.06-.94-2.06-.94-.94-2.06-.94 2.06-2.06.94zm-11 1L8.5 8.5l.94-2.06 2.06-.94-2.06-.94L8.5 2.5l-.94 2.06-2.06.94zm10 10l.94 2.06.94-2.06 2.06-.94-2.06-.94-.94-2.06-.94 2.06-2.06.94z\"/><path d=\"M17.41 7.96l-1.37-1.37c-.4-.4-.92-.59-1.43-.59-.52 0-1.04.2-1.43.59L10.3 9.45l-7.72 7.72c-.78.78-.78 2.05 0 2.83L4 21.41c.39.39.9.59 1.41.59.51 0 1.02-.2 1.41-.59l7.78-7.78 2.81-2.81c.8-.78.8-2.07 0-2.86zM5.41 20L4 18.59l7.72-7.72 1.47 1.35L5.41 20z\"/>\n",
              "  </svg>\n",
              "      </button>\n",
              "      \n",
              "  <style>\n",
              "    .colab-df-container {\n",
              "      display:flex;\n",
              "      flex-wrap:wrap;\n",
              "      gap: 12px;\n",
              "    }\n",
              "\n",
              "    .colab-df-convert {\n",
              "      background-color: #E8F0FE;\n",
              "      border: none;\n",
              "      border-radius: 50%;\n",
              "      cursor: pointer;\n",
              "      display: none;\n",
              "      fill: #1967D2;\n",
              "      height: 32px;\n",
              "      padding: 0 0 0 0;\n",
              "      width: 32px;\n",
              "    }\n",
              "\n",
              "    .colab-df-convert:hover {\n",
              "      background-color: #E2EBFA;\n",
              "      box-shadow: 0px 1px 2px rgba(60, 64, 67, 0.3), 0px 1px 3px 1px rgba(60, 64, 67, 0.15);\n",
              "      fill: #174EA6;\n",
              "    }\n",
              "\n",
              "    [theme=dark] .colab-df-convert {\n",
              "      background-color: #3B4455;\n",
              "      fill: #D2E3FC;\n",
              "    }\n",
              "\n",
              "    [theme=dark] .colab-df-convert:hover {\n",
              "      background-color: #434B5C;\n",
              "      box-shadow: 0px 1px 3px 1px rgba(0, 0, 0, 0.15);\n",
              "      filter: drop-shadow(0px 1px 2px rgba(0, 0, 0, 0.3));\n",
              "      fill: #FFFFFF;\n",
              "    }\n",
              "  </style>\n",
              "\n",
              "      <script>\n",
              "        const buttonEl =\n",
              "          document.querySelector('#df-b89a3c69-b3c7-48eb-a864-c64b9a1bff18 button.colab-df-convert');\n",
              "        buttonEl.style.display =\n",
              "          google.colab.kernel.accessAllowed ? 'block' : 'none';\n",
              "\n",
              "        async function convertToInteractive(key) {\n",
              "          const element = document.querySelector('#df-b89a3c69-b3c7-48eb-a864-c64b9a1bff18');\n",
              "          const dataTable =\n",
              "            await google.colab.kernel.invokeFunction('convertToInteractive',\n",
              "                                                     [key], {});\n",
              "          if (!dataTable) return;\n",
              "\n",
              "          const docLinkHtml = 'Like what you see? Visit the ' +\n",
              "            '<a target=\"_blank\" href=https://colab.research.google.com/notebooks/data_table.ipynb>data table notebook</a>'\n",
              "            + ' to learn more about interactive tables.';\n",
              "          element.innerHTML = '';\n",
              "          dataTable['output_type'] = 'display_data';\n",
              "          await google.colab.output.renderOutput(dataTable, element);\n",
              "          const docLink = document.createElement('div');\n",
              "          docLink.innerHTML = docLinkHtml;\n",
              "          element.appendChild(docLink);\n",
              "        }\n",
              "      </script>\n",
              "    </div>\n",
              "  </div>\n",
              "  "
            ]
          },
          "metadata": {},
          "execution_count": 13
        }
      ]
    },
    {
      "cell_type": "code",
      "source": [
        "categories = {0: 'World', 1: 'Sports', 2: 'Business', 3: 'Sci/Tech'}\n",
        "all_df.Label.value_counts(sort=False).rename(index=categories)"
      ],
      "metadata": {
        "colab": {
          "base_uri": "https://localhost:8080/"
        },
        "id": "MHkGuQOGu1mG",
        "outputId": "a48856c4-32d1-4718-bf1f-9ed0d978d928"
      },
      "execution_count": 14,
      "outputs": [
        {
          "output_type": "execute_result",
          "data": {
            "text/plain": [
              "Business    31900\n",
              "Sci/Tech    31900\n",
              "Sports      31900\n",
              "World       31900\n",
              "Name: Label, dtype: int64"
            ]
          },
          "metadata": {},
          "execution_count": 14
        }
      ]
    },
    {
      "cell_type": "code",
      "execution_count": 15,
      "metadata": {
        "id": "EZV79qtRd-YV"
      },
      "outputs": [],
      "source": [
        "## Convert to TensorFlow datasets\n",
        "batch_size = 32\n",
        "train_ds =\\\n",
        "tf.data.experimental.make_csv_dataset('gdrive/My Drive/MSDS 458/MSDS_458_Public-master/MSDS458_Assignment_03/data/train.csv',select_columns=['Title_Description','Label'],\n",
        "                                      label_name=\"Label\",num_epochs=1, batch_size=batch_size)\n",
        "val_ds =\\\n",
        "tf.data.experimental.make_csv_dataset('gdrive/My Drive/MSDS 458/MSDS_458_Public-master/MSDS458_Assignment_03/data/val.csv',select_columns=['Title_Description','Label'],\n",
        "                                      label_name=\"Label\",num_epochs=1,batch_size=batch_size)\n",
        "test_ds =\\\n",
        "tf.data.experimental.make_csv_dataset('gdrive/My Drive/MSDS 458/MSDS_458_Public-master/MSDS458_Assignment_03/data/test.csv',select_columns=['Title_Description','Label'],\n",
        "                                      label_name=\"Label\",num_epochs=1,batch_size=batch_size)\n",
        "all_ds =\\\n",
        "tf.data.experimental.make_csv_dataset('gdrive/My Drive/MSDS 458/MSDS_458_Public-master/MSDS458_Assignment_03/data/all.csv',select_columns=['Title_Description','Label'],\n",
        "                                      label_name=\"Label\",num_epochs=1, batch_size=1)"
      ]
    },
    {
      "cell_type": "code",
      "source": [
        "type(train_ds)"
      ],
      "metadata": {
        "colab": {
          "base_uri": "https://localhost:8080/"
        },
        "id": "YdnNKW063Fz4",
        "outputId": "2f33b27a-9a1c-448d-ca29-82a7d53e8884"
      },
      "execution_count": 16,
      "outputs": [
        {
          "output_type": "execute_result",
          "data": {
            "text/plain": [
              "tensorflow.python.data.ops.dataset_ops.PrefetchDataset"
            ]
          },
          "metadata": {},
          "execution_count": 16
        }
      ]
    },
    {
      "cell_type": "code",
      "source": [
        "## Would not run\n",
        "#len(train_ds), len(val_ds), len(test_ds)"
      ],
      "metadata": {
        "id": "4xxjX_8g6ieE"
      },
      "execution_count": 17,
      "outputs": []
    },
    {
      "cell_type": "code",
      "source": [
        "## Review Examples By Classification\n",
        "categories = {0: 'World', 1: 'Sports', 2: 'Business', 3: 'Sci/Tech'}\n",
        "all_df.Label.value_counts(sort=False).rename(index=categories)"
      ],
      "metadata": {
        "colab": {
          "base_uri": "https://localhost:8080/"
        },
        "id": "Mal-s0496cHn",
        "outputId": "840d09e6-af74-4b8d-b4dd-f38123246f30"
      },
      "execution_count": 18,
      "outputs": [
        {
          "output_type": "execute_result",
          "data": {
            "text/plain": [
              "Business    31900\n",
              "Sci/Tech    31900\n",
              "Sports      31900\n",
              "World       31900\n",
              "Name: Label, dtype: int64"
            ]
          },
          "metadata": {},
          "execution_count": 18
        }
      ]
    },
    {
      "cell_type": "code",
      "source": [
        "## Review first article in train dataset\n",
        "for inputs, targets in train_ds:\n",
        "    print(f\"The first batch has {inputs['Title_Description'].shape[0]} articles with {targets.shape[0]} labels.\")\n",
        "    print(f\"The articles have type {inputs['Title_Description'].dtype}, the labels type: {targets.dtype}\\n\")\n",
        "    \n",
        "    # just print the first news article in the batch\n",
        "    print(f\"The first news article:\\n{inputs['Title_Description'][0]}\\n\") \n",
        "\n",
        "    print(f\"It is a {categories[targets[0].numpy()]} article.\")\n",
        "    break"
      ],
      "metadata": {
        "colab": {
          "base_uri": "https://localhost:8080/"
        },
        "id": "6k9hrLPL6Gcx",
        "outputId": "702490b5-932d-4758-c127-3a41f4244116"
      },
      "execution_count": 19,
      "outputs": [
        {
          "output_type": "stream",
          "name": "stdout",
          "text": [
            "The first batch has 32 articles with 32 labels.\n",
            "The articles have type <dtype: 'string'>, the labels type: <dtype: 'int32'>\n",
            "\n",
            "The first news article:\n",
            "b'Softball gold takes Candrea, US from tragedy to triumph To the rest of the world, they were the  quot;In Your Dreams quot; Team. But for their coach, Mike Candrea, it was about another dream.'\n",
            "\n",
            "It is a Sports article.\n"
          ]
        }
      ]
    },
    {
      "cell_type": "markdown",
      "source": [
        "## Preorocessing\n"
      ],
      "metadata": {
        "id": "Pv78HbmE7YnK"
      }
    },
    {
      "cell_type": "code",
      "execution_count": 20,
      "metadata": {
        "id": "CFhJ3h_Pd-YW"
      },
      "outputs": [],
      "source": [
        "# By default, the TextVectorization layer will use the setting “convert to lowercase and remove punctuation” for text standardization, and “split on whitespace” for tokenization.\n",
        "text_vectorization = TextVectorization(\n",
        "    output_mode=\"int\",\n",
        ")\n",
        "text_only_all_ds = all_ds.map(lambda x, y: x['Title_Description'])"
      ]
    },
    {
      "cell_type": "code",
      "source": [
        "for text in text_only_all_ds:\n",
        "    print(f\"Get first batch of {text.shape[0]} news articles.\\n\")\n",
        "    print(f\"Here is the first news article:\\n\\n{text[0]}.\")\n",
        "    break"
      ],
      "metadata": {
        "colab": {
          "base_uri": "https://localhost:8080/"
        },
        "id": "hY_NxS-i9p4W",
        "outputId": "0135364b-9304-4554-fffd-a321c1571e28"
      },
      "execution_count": 21,
      "outputs": [
        {
          "output_type": "stream",
          "name": "stdout",
          "text": [
            "Get first batch of 1 news articles.\n",
            "\n",
            "Here is the first news article:\n",
            "\n",
            "b'Pay-Per-View Revenue Boosts WWE Profit  NEW YORK (Reuters) - World Wrestling Entertainment Inc.  &lt;A HREF=\"http://www.investor.reuters.com/FullQuote.aspx?ticker=WWE.N target=/stocks/quickinfo/fullquote\"&gt;WWE.N&lt;/A&gt;, a producer of wrestling entertainment programs  including \"SmackDown\" and \"WrestleMania,\" reported higher  quarterly profit on Monday, helped by increased pay-per-view  revenue.'.\n"
          ]
        }
      ]
    },
    {
      "cell_type": "markdown",
      "metadata": {
        "id": "1t-hEu4Od-YW"
      },
      "source": [
        "Create the layer, and pass the dataset's text to the layer's `.adapt` method:\n",
        "The processing of each sample contains the following steps:\n",
        "\n",
        "    standardize each sample (usually lowercasing + punctuation stripping)\n",
        "    split each sample into substrings (usually words)\n",
        "    recombine substrings into tokens (usually ngrams)\n",
        "    index tokens (associate a unique int value with each token)\n",
        "    transform each sample using this index, either into a vector of ints or a dense float vector."
      ]
    },
    {
      "cell_type": "code",
      "execution_count": 22,
      "metadata": {
        "colab": {
          "base_uri": "https://localhost:8080/"
        },
        "id": "mpoqGxUed-YW",
        "outputId": "641c808a-cff8-4cec-85ef-be6664144de2"
      },
      "outputs": [
        {
          "output_type": "stream",
          "name": "stdout",
          "text": [
            "CPU times: user 2min 9s, sys: 16 s, total: 2min 25s\n",
            "Wall time: 1min 50s\n"
          ]
        }
      ],
      "source": [
        "%%time\n",
        "text_vectorization.adapt(text_only_all_ds)"
      ]
    },
    {
      "cell_type": "code",
      "source": [
        "for text in text_only_all_ds:\n",
        "    print(f\"Get first batch of {text.shape[0]} news articles.\\n\")\n",
        "    print(f\"Here is the first news article:\\n\\n{text[0]}.\")\n",
        "    break"
      ],
      "metadata": {
        "colab": {
          "base_uri": "https://localhost:8080/"
        },
        "id": "W6k0TRij-GAC",
        "outputId": "0c64c241-8185-4841-ceff-2c78bf071cc4"
      },
      "execution_count": 23,
      "outputs": [
        {
          "output_type": "stream",
          "name": "stdout",
          "text": [
            "Get first batch of 1 news articles.\n",
            "\n",
            "Here is the first news article:\n",
            "\n",
            "b\"AT T strikes VoIP deals with cable Company points potential Net phone customers to cable giants for broadband--all part of Ma Bell's aggressive VoIP plans.\".\n"
          ]
        }
      ]
    },
    {
      "cell_type": "markdown",
      "metadata": {
        "id": "tyqf06wyd-YW"
      },
      "source": [
        "## Vocabulary Words In Corpus"
      ]
    },
    {
      "cell_type": "code",
      "execution_count": 24,
      "metadata": {
        "colab": {
          "base_uri": "https://localhost:8080/"
        },
        "id": "ZeHllY3dd-YX",
        "outputId": "268a57e5-9e12-4bb2-ec1b-f68ab6e653c6"
      },
      "outputs": [
        {
          "output_type": "stream",
          "name": "stdout",
          "text": [
            "There are 105275 vocabulary words in the corpus.\n"
          ]
        }
      ],
      "source": [
        "vocab = text_vectorization.get_vocabulary()\n",
        "print(f\"There are {len(vocab)} vocabulary words in the corpus.\")"
      ]
    },
    {
      "cell_type": "markdown",
      "metadata": {
        "id": "XeqSlVyFd-YX"
      },
      "source": [
        "## Example 12 Words "
      ]
    },
    {
      "cell_type": "code",
      "execution_count": 25,
      "metadata": {
        "colab": {
          "base_uri": "https://localhost:8080/"
        },
        "id": "HDShDy0td-YX",
        "outputId": "2388f4fc-b998-4d31-df3f-1e3caf4bb349"
      },
      "outputs": [
        {
          "output_type": "execute_result",
          "data": {
            "text/plain": [
              "['', '[UNK]', 'the', 'to', 'a', 'of', 'in', 'and', 'on', 'for', '39s', 'that']"
            ]
          },
          "metadata": {},
          "execution_count": 25
        }
      ],
      "source": [
        "vocab[:12]"
      ]
    },
    {
      "cell_type": "markdown",
      "metadata": {
        "id": "fxq9COv3d-YX"
      },
      "source": [
        "## Vectorization - Title Description Column"
      ]
    },
    {
      "cell_type": "code",
      "execution_count": 26,
      "metadata": {
        "colab": {
          "base_uri": "https://localhost:8080/"
        },
        "id": "YRAW_71Ud-YX",
        "outputId": "563cb9f5-7888-439d-c8af-b051b4bab638"
      },
      "outputs": [
        {
          "output_type": "stream",
          "name": "stdout",
          "text": [
            "CPU times: user 7min 7s, sys: 11 s, total: 7min 18s\n",
            "Wall time: 7min 21s\n"
          ]
        }
      ],
      "source": [
        "%%time\n",
        "doc_sizes = []\n",
        "corpus = []\n",
        "for example, _ in all_ds:\n",
        "  enc_example = text_vectorization(example['Title_Description'])\n",
        "  doc_sizes.append(enc_example.shape[1])\n",
        "  corpus+=list(enc_example.numpy()[0])"
      ]
    },
    {
      "cell_type": "code",
      "execution_count": 27,
      "metadata": {
        "scrolled": true,
        "colab": {
          "base_uri": "https://localhost:8080/"
        },
        "id": "MmWq0ntAd-YX",
        "outputId": "b00fe3dd-b680-494d-9ca2-ebfb2cd54674"
      },
      "outputs": [
        {
          "output_type": "stream",
          "name": "stdout",
          "text": [
            "There are 4773046 words in the corpus of 127600 news articles.\n",
            "Each news article has between 4 and 177 tokens in it.\n"
          ]
        }
      ],
      "source": [
        "print(f\"There are {len(corpus)} words in the corpus of {len(doc_sizes)} news articles.\")\n",
        "print(f\"Each news article has between {min(doc_sizes)} and {max(doc_sizes)} tokens in it.\")"
      ]
    },
    {
      "cell_type": "code",
      "execution_count": 28,
      "metadata": {
        "colab": {
          "base_uri": "https://localhost:8080/"
        },
        "id": "aIwU1ncQd-YY",
        "outputId": "e7109f02-a07d-490c-f3d5-182de97c2556"
      },
      "outputs": [
        {
          "output_type": "execute_result",
          "data": {
            "text/plain": [
              "[9416, 9384, 1107, 3341, 142]"
            ]
          },
          "metadata": {},
          "execution_count": 28
        }
      ],
      "source": [
        "corpus[:5]"
      ]
    },
    {
      "cell_type": "markdown",
      "metadata": {
        "id": "VQpznAbzd-YY"
      },
      "source": [
        "## Plot Distribution of Percent of Non-Vocabulary Words in News Articles"
      ]
    },
    {
      "cell_type": "code",
      "execution_count": 29,
      "metadata": {
        "colab": {
          "base_uri": "https://localhost:8080/",
          "height": 551
        },
        "id": "vULeHRmpd-YY",
        "outputId": "fd513088-ccb0-43f0-d256-0ec525e54acb"
      },
      "outputs": [
        {
          "output_type": "display_data",
          "data": {
            "text/plain": [
              "<Figure size 1080x648 with 1 Axes>"
            ],
            "image/png": "[encoded data removed]"
          },
          "metadata": {
            "needs_background": "light"
          }
        }
      ],
      "source": [
        "plt.figure(figsize=(15,9))\n",
        "plt.hist(doc_sizes, bins=20,range = (0,120))\n",
        "plt.xlabel(\"Tokens Per Document\")\n",
        "plt.ylabel(\"Number of AG News Articles\");"
      ]
    },
    {
      "cell_type": "markdown",
      "metadata": {
        "id": "FvFD4ArOd-YY"
      },
      "source": [
        "##Experiment A: EDA"
      ]
    },
    {
      "cell_type": "markdown",
      "source": [
        "###Part a\n",
        "\n",
        "Tweak the vocabulary size, at least 3 levels"
      ],
      "metadata": {
        "id": "ZMSZMr6NJ60f"
      }
    },
    {
      "cell_type": "markdown",
      "source": [
        "#### Level 1, vocab size: 500 "
      ],
      "metadata": {
        "id": "NchVK1ZsaAw0"
      }
    },
    {
      "cell_type": "code",
      "execution_count": 30,
      "metadata": {
        "colab": {
          "base_uri": "https://localhost:8080/"
        },
        "outputId": "c2700a50-3518-46d8-ff76-37279d55489f",
        "id": "ZqjXSdT3aAw1"
      },
      "outputs": [
        {
          "output_type": "stream",
          "name": "stdout",
          "text": [
            "CPU times: user 2min 10s, sys: 15.7 s, total: 2min 26s\n",
            "Wall time: 2min 21s\n"
          ]
        }
      ],
      "source": [
        "%%time\n",
        "from tensorflow.keras.layers import TextVectorization\n",
        "encoder_500 = TextVectorization(\n",
        "    output_mode=\"int\",\n",
        "    max_tokens=500\n",
        ")\n",
        "encoder_500.adapt(text_only_all_ds)\n",
        "vocab_500 = np.array(encoder_500.get_vocabulary());"
      ]
    },
    {
      "cell_type": "code",
      "execution_count": 31,
      "metadata": {
        "colab": {
          "base_uri": "https://localhost:8080/"
        },
        "outputId": "5e2f216d-159b-472b-a934-59f2b4d81da1",
        "id": "9wrgtpRGaAw1"
      },
      "outputs": [
        {
          "output_type": "execute_result",
          "data": {
            "text/plain": [
              "array(['', '[UNK]', 'the', 'to', 'a', 'of', 'in', 'and', 'on', 'for',\n",
              "       '39s', 'that', 'with', 'as', 'at', 'its', 'is', 'new', 'by',\n",
              "       'said'], dtype='<U13')"
            ]
          },
          "metadata": {},
          "execution_count": 31
        }
      ],
      "source": [
        "## Excample 20 Words\n",
        "vocab_500[:20]"
      ]
    },
    {
      "cell_type": "code",
      "execution_count": 32,
      "metadata": {
        "colab": {
          "base_uri": "https://localhost:8080/"
        },
        "outputId": "0861be25-6874-4c36-dc32-7f5fb8157a6c",
        "id": "zFLWo--paAw1"
      },
      "outputs": [
        {
          "output_type": "execute_result",
          "data": {
            "text/plain": [
              "array([  2,   1,   1,  29,   4, 178,   1,  13,  20,   1,  18,   2,   1,\n",
              "         8,   2,   1])"
            ]
          },
          "metadata": {},
          "execution_count": 32
        }
      ],
      "source": [
        "example = \"the dog ran after a red ball as it rolled by the hat on the ground.\"\n",
        "enc_example = encoder_500(example).numpy()\n",
        "enc_example"
      ]
    },
    {
      "cell_type": "code",
      "execution_count": 33,
      "metadata": {
        "colab": {
          "base_uri": "https://localhost:8080/"
        },
        "outputId": "f70300f6-4c12-4873-c5d0-7e1906097518",
        "id": "t2MSM_QTaAw1"
      },
      "outputs": [
        {
          "output_type": "execute_result",
          "data": {
            "text/plain": [
              "6"
            ]
          },
          "metadata": {},
          "execution_count": 33
        }
      ],
      "source": [
        "## ## Zero and One are Special Value Integers ( 0 = Padding, 1 = Unknown Word)\n",
        "num_ones = tf.math.count_nonzero(enc_example==1).numpy()\n",
        "num_ones"
      ]
    },
    {
      "cell_type": "code",
      "execution_count": 34,
      "metadata": {
        "colab": {
          "base_uri": "https://localhost:8080/"
        },
        "outputId": "cdb92382-ffad-4a37-d882-42a859f04228",
        "id": "cOsQVJAoaAw2"
      },
      "outputs": [
        {
          "output_type": "stream",
          "name": "stdout",
          "text": [
            "CPU times: user 8min 49s, sys: 11.1 s, total: 9min\n",
            "Wall time: 8min 30s\n"
          ]
        }
      ],
      "source": [
        "## Encode Sequences Leveraging 1000 Word Vocabulary \n",
        "%%time\n",
        "doc500_sizes = []\n",
        "corpus500 = []\n",
        "count500=0\n",
        "useless = 0\n",
        "# stop = 0\n",
        "percents = []\n",
        "for example, _ in all_ds.as_numpy_iterator():\n",
        "#   stop+=1\n",
        "#   if stop > 2: break\n",
        "  enc_example = encoder_500(example['Title_Description'])[0]\n",
        "#   print(enc_example)\n",
        "\n",
        "  num_ones = tf.math.count_nonzero(enc_example==1).numpy()\n",
        "#   print(num_ones)\n",
        "  percent_ones = round(num_ones*100/len(enc_example))\n",
        "#   print(f\"{percent_ones}%\")\n",
        "  percents.append(percent_ones)\n",
        "\n",
        "  s = set(list(enc_example.numpy()))\n",
        "  if s == {1}: useless+=1\n",
        "#   print(useless)\n",
        "\n",
        "  doc500_sizes.append(len(enc_example))\n",
        "  corpus500+=list(enc_example.numpy())\n",
        "\n",
        "  count500 += tf.math.count_nonzero(enc_example>1)"
      ]
    },
    {
      "cell_type": "code",
      "execution_count": 35,
      "metadata": {
        "colab": {
          "base_uri": "https://localhost:8080/",
          "height": 0
        },
        "outputId": "61cfbf45-9ffa-484e-ef9b-9723ab9fee94",
        "id": "QGaJjnEnaAw2"
      },
      "outputs": [
        {
          "output_type": "display_data",
          "data": {
            "text/plain": [
              "<Figure size 1080x648 with 1 Axes>"
            ],
            "image/png": "[encoded data removed]"
          },
          "metadata": {
            "needs_background": "light"
          }
        }
      ],
      "source": [
        "## Plot Distribution of Tokens Per News Article\n",
        "plt.figure(figsize=(15,9))\n",
        "plt.hist(percents, 20)\n",
        "plt.ylabel('Number of Documents')\n",
        "plt.xlabel('Percent of Non-Vocabulary Words in a Document');"
      ]
    },
    {
      "cell_type": "code",
      "execution_count": 36,
      "metadata": {
        "colab": {
          "base_uri": "https://localhost:8080/"
        },
        "outputId": "60210eec-3a47-4439-c2d4-d540bc514e96",
        "id": "bIOx2UBpaAw2"
      },
      "outputs": [
        {
          "output_type": "stream",
          "name": "stdout",
          "text": [
            "Each news article has between 4 and 177 tokens in it.\n"
          ]
        }
      ],
      "source": [
        "print(f\"Each news article has between {min(doc500_sizes)} and {max(doc500_sizes)} tokens in it.\")"
      ]
    },
    {
      "cell_type": "code",
      "source": [
        "print(f\"There are {count500} top {len(vocab_500)} vocabulary words in the corpus.\")"
      ],
      "metadata": {
        "colab": {
          "base_uri": "https://localhost:8080/"
        },
        "outputId": "6fb1821c-b5ec-4af4-e93c-fe036d43dffc",
        "id": "5_WQpYaiaAw3"
      },
      "execution_count": 37,
      "outputs": [
        {
          "output_type": "stream",
          "name": "stdout",
          "text": [
            "There are 2609655 top 500 vocabulary words in the corpus.\n"
          ]
        }
      ]
    },
    {
      "cell_type": "markdown",
      "source": [
        "#### Level 2, vocab size: 1,000 "
      ],
      "metadata": {
        "id": "s6ednO1hKDdJ"
      }
    },
    {
      "cell_type": "code",
      "execution_count": 38,
      "metadata": {
        "colab": {
          "base_uri": "https://localhost:8080/"
        },
        "id": "Tvuz027Od-YY",
        "outputId": "c2f70b7d-8740-4a33-84f2-a5132584a191"
      },
      "outputs": [
        {
          "output_type": "stream",
          "name": "stdout",
          "text": [
            "CPU times: user 2min 8s, sys: 15.1 s, total: 2min 23s\n",
            "Wall time: 1min 47s\n"
          ]
        }
      ],
      "source": [
        "%%time\n",
        "from tensorflow.keras.layers import TextVectorization\n",
        "encoder_1000 = TextVectorization(\n",
        "    output_mode=\"int\",\n",
        "    max_tokens=1000\n",
        ")\n",
        "encoder_1000.adapt(text_only_all_ds)\n",
        "vocab_1000 = np.array(encoder_1000.get_vocabulary());"
      ]
    },
    {
      "cell_type": "code",
      "execution_count": 39,
      "metadata": {
        "colab": {
          "base_uri": "https://localhost:8080/"
        },
        "id": "6IN_28eXd-YY",
        "outputId": "296ff0dc-9443-4d9f-8ce7-5a3e3019dbbc"
      },
      "outputs": [
        {
          "output_type": "execute_result",
          "data": {
            "text/plain": [
              "array(['', '[UNK]', 'the', 'to', 'a', 'of', 'in', 'and', 'on', 'for',\n",
              "       '39s', 'that', 'with', 'as', 'at', 'its', 'is', 'new', 'by',\n",
              "       'said'], dtype='<U14')"
            ]
          },
          "metadata": {},
          "execution_count": 39
        }
      ],
      "source": [
        "## Excample 20 Words\n",
        "vocab_1000[:20]"
      ]
    },
    {
      "cell_type": "code",
      "execution_count": 40,
      "metadata": {
        "id": "nBcNKZ44d-YZ",
        "colab": {
          "base_uri": "https://localhost:8080/"
        },
        "outputId": "1ed7a0e2-f2cf-41b9-baf1-7d9c56cf338d"
      },
      "outputs": [
        {
          "output_type": "execute_result",
          "data": {
            "text/plain": [
              "array([  2,   1,   1,  29,   4, 178,   1,  13,  20,   1,  18,   2,   1,\n",
              "         8,   2,   1])"
            ]
          },
          "metadata": {},
          "execution_count": 40
        }
      ],
      "source": [
        "example = \"the dog ran after a red ball as it rolled by the hat on the ground.\"\n",
        "enc_example = encoder_1000(example).numpy()\n",
        "enc_example"
      ]
    },
    {
      "cell_type": "code",
      "execution_count": 41,
      "metadata": {
        "id": "MGY1NY56d-Yd",
        "colab": {
          "base_uri": "https://localhost:8080/"
        },
        "outputId": "5b8d587b-2383-4e88-dde1-390710eaa866"
      },
      "outputs": [
        {
          "output_type": "execute_result",
          "data": {
            "text/plain": [
              "6"
            ]
          },
          "metadata": {},
          "execution_count": 41
        }
      ],
      "source": [
        "## ## Zero and One are Special Value Integers ( 0 = Padding, 1 = Unknown Word)\n",
        "num_ones = tf.math.count_nonzero(enc_example==1).numpy()\n",
        "num_ones"
      ]
    },
    {
      "cell_type": "code",
      "execution_count": 42,
      "metadata": {
        "id": "J6hYj9TZd-Yd",
        "colab": {
          "base_uri": "https://localhost:8080/"
        },
        "outputId": "1fe8daa5-529e-4523-eae0-d59e15a36a4a"
      },
      "outputs": [
        {
          "output_type": "stream",
          "name": "stdout",
          "text": [
            "CPU times: user 9min 8s, sys: 12.1 s, total: 9min 21s\n",
            "Wall time: 8min 46s\n"
          ]
        }
      ],
      "source": [
        "## Encode Sequences Leveraging 1000 Word Vocabulary \n",
        "%%time\n",
        "doc1000_sizes = []\n",
        "corpus1000 = []\n",
        "count1000=0\n",
        "useless = 0\n",
        "# stop = 0\n",
        "percents = []\n",
        "for example, _ in all_ds.as_numpy_iterator():\n",
        "#   stop+=1\n",
        "#   if stop > 2: break\n",
        "  enc_example = encoder_1000(example['Title_Description'])[0]\n",
        "#   print(enc_example)\n",
        "\n",
        "  num_ones = tf.math.count_nonzero(enc_example==1).numpy()\n",
        "#   print(num_ones)\n",
        "  percent_ones = round(num_ones*100/len(enc_example))\n",
        "#   print(f\"{percent_ones}%\")\n",
        "  percents.append(percent_ones)\n",
        "\n",
        "  s = set(list(enc_example.numpy()))\n",
        "  if s == {1}: useless+=1\n",
        "#   print(useless)\n",
        "\n",
        "  doc1000_sizes.append(len(enc_example))\n",
        "  corpus1000+=list(enc_example.numpy())\n",
        "\n",
        "  count1000 += tf.math.count_nonzero(enc_example>1)"
      ]
    },
    {
      "cell_type": "code",
      "execution_count": 43,
      "metadata": {
        "id": "pk0tSDxad-Yd",
        "colab": {
          "base_uri": "https://localhost:8080/",
          "height": 0
        },
        "outputId": "6b2f027f-a311-4297-aa59-0886b0d3115a"
      },
      "outputs": [
        {
          "output_type": "display_data",
          "data": {
            "text/plain": [
              "<Figure size 1080x648 with 1 Axes>"
            ],
            "image/png": "[encoded data removed]"
          },
          "metadata": {
            "needs_background": "light"
          }
        }
      ],
      "source": [
        "## Plot Distribution of Tokens Per News Article\n",
        "plt.figure(figsize=(15,9))\n",
        "plt.hist(percents, 20)\n",
        "plt.ylabel('Number of Documents')\n",
        "plt.xlabel('Percent of Non-Vocabulary Words in a Document');"
      ]
    },
    {
      "cell_type": "code",
      "execution_count": 44,
      "metadata": {
        "id": "Lz2TP9h2d-Ye",
        "colab": {
          "base_uri": "https://localhost:8080/"
        },
        "outputId": "c370114e-a5f1-4615-ff7a-34a0e021c3cd"
      },
      "outputs": [
        {
          "output_type": "stream",
          "name": "stdout",
          "text": [
            "Each news article has between 4 and 177 tokens in it.\n"
          ]
        }
      ],
      "source": [
        "print(f\"Each news article has between {min(doc1000_sizes)} and {max(doc1000_sizes)} tokens in it.\")"
      ]
    },
    {
      "cell_type": "code",
      "source": [
        "print(f\"There are {count1000} top {len(vocab_1000)} vocabulary words in the corpus.\")"
      ],
      "metadata": {
        "id": "VzkFrONYZsA1",
        "colab": {
          "base_uri": "https://localhost:8080/"
        },
        "outputId": "97b451ba-58d3-48ef-fb59-e2bb196cdfc4"
      },
      "execution_count": 45,
      "outputs": [
        {
          "output_type": "stream",
          "name": "stdout",
          "text": [
            "There are 3061452 top 1000 vocabulary words in the corpus.\n"
          ]
        }
      ]
    },
    {
      "cell_type": "markdown",
      "source": [
        "#### Level 3, vocab size: 8,000"
      ],
      "metadata": {
        "id": "ydRJLce6O8Gs"
      }
    },
    {
      "cell_type": "code",
      "execution_count": 46,
      "metadata": {
        "id": "jjeclKURO8Gs",
        "colab": {
          "base_uri": "https://localhost:8080/"
        },
        "outputId": "86384624-6f7f-4155-a7dc-1eec061fca55"
      },
      "outputs": [
        {
          "output_type": "stream",
          "name": "stdout",
          "text": [
            "CPU times: user 2min 9s, sys: 15.2 s, total: 2min 24s\n",
            "Wall time: 1min 48s\n"
          ]
        }
      ],
      "source": [
        "%%time\n",
        "from tensorflow.keras.layers import TextVectorization\n",
        "encoder_8000 = TextVectorization(\n",
        "    output_mode=\"int\",\n",
        "    max_tokens=8000\n",
        ")\n",
        "encoder_8000.adapt(text_only_all_ds)\n",
        "vocab_8000 = np.array(encoder_8000.get_vocabulary());"
      ]
    },
    {
      "cell_type": "code",
      "execution_count": 47,
      "metadata": {
        "id": "wrrnpcydO8Gs",
        "colab": {
          "base_uri": "https://localhost:8080/"
        },
        "outputId": "ab97af86-a43d-4803-f186-2672c7d0c4ee"
      },
      "outputs": [
        {
          "output_type": "execute_result",
          "data": {
            "text/plain": [
              "array(['', '[UNK]', 'the', 'to', 'a', 'of', 'in', 'and', 'on', 'for',\n",
              "       '39s', 'that', 'with', 'as', 'at', 'its', 'is', 'new', 'by',\n",
              "       'said'], dtype='<U52')"
            ]
          },
          "metadata": {},
          "execution_count": 47
        }
      ],
      "source": [
        "## Excample 20 Words\n",
        "vocab_8000[:20]"
      ]
    },
    {
      "cell_type": "code",
      "execution_count": 48,
      "metadata": {
        "id": "1X7KbdGuO8Gs",
        "colab": {
          "base_uri": "https://localhost:8080/"
        },
        "outputId": "3f757d42-b74e-4272-9042-f166df1e6fcb"
      },
      "outputs": [
        {
          "output_type": "execute_result",
          "data": {
            "text/plain": [
              "array([   2, 5278, 1609,   29,    4,  178, 1468,   13,   20, 3188,   18,\n",
              "          2, 1820,    8,    2, 1054])"
            ]
          },
          "metadata": {},
          "execution_count": 48
        }
      ],
      "source": [
        "example = \"the dog ran after a red ball as it rolled by the hat on the ground.\"\n",
        "enc_example = encoder_8000(example).numpy()\n",
        "enc_example"
      ]
    },
    {
      "cell_type": "code",
      "execution_count": 49,
      "metadata": {
        "id": "xM_skgwFO8Gs",
        "colab": {
          "base_uri": "https://localhost:8080/"
        },
        "outputId": "107bbd24-711d-49fd-9373-83fcd49c5217"
      },
      "outputs": [
        {
          "output_type": "execute_result",
          "data": {
            "text/plain": [
              "0"
            ]
          },
          "metadata": {},
          "execution_count": 49
        }
      ],
      "source": [
        "## ## Zero and One are Special Value Integers ( 0 = Padding, 1 = Unknown Word)\n",
        "num_ones = tf.math.count_nonzero(enc_example==1).numpy()\n",
        "num_ones"
      ]
    },
    {
      "cell_type": "code",
      "execution_count": 50,
      "metadata": {
        "id": "1xy0JkkhO8Gs",
        "colab": {
          "base_uri": "https://localhost:8080/"
        },
        "outputId": "5a897b55-78f9-4804-aa94-f34f1f2f58c0"
      },
      "outputs": [
        {
          "output_type": "stream",
          "name": "stdout",
          "text": [
            "CPU times: user 8min 44s, sys: 11.2 s, total: 8min 56s\n",
            "Wall time: 8min 25s\n"
          ]
        }
      ],
      "source": [
        "## Encode Sequences Leveraging 1000 Word Vocabulary \n",
        "%%time\n",
        "doc8000_sizes = []\n",
        "corpus8000 = []\n",
        "count8000=0\n",
        "useless = 0\n",
        "# stop = 0\n",
        "percents = []\n",
        "for example, _ in all_ds.as_numpy_iterator():\n",
        "#   stop+=1\n",
        "#   if stop > 2: break\n",
        "  enc_example = encoder_8000(example['Title_Description'])[0]\n",
        "#   print(enc_example)\n",
        "\n",
        "  num_ones = tf.math.count_nonzero(enc_example==1).numpy()\n",
        "#   print(num_ones)\n",
        "  percent_ones = round(num_ones*100/len(enc_example))\n",
        "#   print(f\"{percent_ones}%\")\n",
        "  percents.append(percent_ones)\n",
        "\n",
        "  s = set(list(enc_example.numpy()))\n",
        "  if s == {1}: useless+=1\n",
        "#   print(useless)\n",
        "\n",
        "  doc8000_sizes.append(len(enc_example))\n",
        "  corpus8000+=list(enc_example.numpy())\n",
        "\n",
        "  count8000 += tf.math.count_nonzero(enc_example>1)"
      ]
    },
    {
      "cell_type": "code",
      "execution_count": 51,
      "metadata": {
        "id": "sGBVxAaHO8Gt",
        "colab": {
          "base_uri": "https://localhost:8080/",
          "height": 551
        },
        "outputId": "38f3e0a4-8811-46f5-f45a-32bac96540bd"
      },
      "outputs": [
        {
          "output_type": "display_data",
          "data": {
            "text/plain": [
              "<Figure size 1080x648 with 1 Axes>"
            ],
            "image/png": "[encoded data removed]"
          },
          "metadata": {
            "needs_background": "light"
          }
        }
      ],
      "source": [
        "## Plot Distribution of Tokens Per News Article\n",
        "plt.figure(figsize=(15,9))\n",
        "plt.hist(percents, 20)\n",
        "plt.ylabel('Number of Documents')\n",
        "plt.xlabel('Percent of Non-Vocabulary Words in a Document');"
      ]
    },
    {
      "cell_type": "code",
      "execution_count": 52,
      "metadata": {
        "id": "iIt-enfFO8Gt",
        "colab": {
          "base_uri": "https://localhost:8080/"
        },
        "outputId": "0d69e63f-62f4-4cdf-863b-ec2d94de7844"
      },
      "outputs": [
        {
          "output_type": "stream",
          "name": "stdout",
          "text": [
            "Each news article has between 4 and 177 tokens in it.\n"
          ]
        }
      ],
      "source": [
        "print(f\"Each news article has between {min(doc8000_sizes)} and {max(doc8000_sizes)} tokens in it.\")"
      ]
    },
    {
      "cell_type": "code",
      "source": [
        "print(f\"There are {count8000} top {len(vocab_8000)} vocabulary words in the corpus.\")"
      ],
      "metadata": {
        "id": "nacaZmvWZxI1",
        "colab": {
          "base_uri": "https://localhost:8080/"
        },
        "outputId": "6f416248-d14c-4bf8-b1f1-3b166c0026cc"
      },
      "execution_count": 53,
      "outputs": [
        {
          "output_type": "stream",
          "name": "stdout",
          "text": [
            "There are 4295499 top 8000 vocabulary words in the corpus.\n"
          ]
        }
      ]
    },
    {
      "cell_type": "markdown",
      "source": [
        "###Part b\n",
        "Editing the Vocabulary: Try unedited most frequent words, VS edit the list by deleting the most frequent words such as articles, ‘the’, ‘a’, etc."
      ],
      "metadata": {
        "id": "L7qHvhC4dd2I"
      }
    },
    {
      "cell_type": "code",
      "source": [
        "# Top 25 words from all_df\n",
        "\n",
        "from collections import Counter\n",
        "Counter(\" \".join(all_df['Description']).split()).most_common(25)"
      ],
      "metadata": {
        "id": "PgzxaBTRn92R",
        "colab": {
          "base_uri": "https://localhost:8080/"
        },
        "outputId": "0aa57ac3-ebb1-4452-db61-6ec8b7a8c686"
      },
      "execution_count": 54,
      "outputs": [
        {
          "output_type": "execute_result",
          "data": {
            "text/plain": [
              "[('the', 183490),\n",
              " ('to', 100936),\n",
              " ('a', 100359),\n",
              " ('of', 94260),\n",
              " ('in', 80008),\n",
              " ('and', 69279),\n",
              " ('on', 49107),\n",
              " ('-', 40397),\n",
              " ('for', 39128),\n",
              " ('that', 28545),\n",
              " ('#39;s', 26499),\n",
              " ('The', 25280),\n",
              " ('with', 22895),\n",
              " ('its', 22301),\n",
              " ('as', 21947),\n",
              " ('is', 20789),\n",
              " ('at', 20752),\n",
              " ('has', 19331),\n",
              " ('by', 18146),\n",
              " ('said', 17482),\n",
              " ('from', 16513),\n",
              " ('it', 16001),\n",
              " ('an', 15942),\n",
              " ('his', 15045),\n",
              " ('will', 14122)]"
            ]
          },
          "metadata": {},
          "execution_count": 54
        }
      ]
    },
    {
      "cell_type": "code",
      "source": [],
      "metadata": {
        "id": "u3hTGifP335S"
      },
      "execution_count": 54,
      "outputs": []
    },
    {
      "cell_type": "markdown",
      "metadata": {
        "id": "Y5LI3YE-1Pv6"
      },
      "source": [
        "### Stopword Function"
      ]
    },
    {
      "cell_type": "code",
      "execution_count": 55,
      "metadata": {
        "id": "SY0p59q61Pv6"
      },
      "outputs": [],
      "source": [
        "def custom_stopwords(input_text):\n",
        "    lowercase = tf.strings.lower(input_text)\n",
        "    stripped_punct = tf.strings.regex_replace(lowercase\n",
        "                                  ,'[%s]' % re.escape(string.punctuation)\n",
        "                                  ,'')\n",
        "    return tf.strings.regex_replace(stripped_punct, r'\\b(' + r'|'.join(STOPWORDS) + r')\\b\\s*',\"\")"
      ]
    },
    {
      "cell_type": "code",
      "source": [
        "nltk.download('stopwords')\n",
        "STOPWORDS = stopwords.words(\"english\")"
      ],
      "metadata": {
        "colab": {
          "base_uri": "https://localhost:8080/"
        },
        "id": "ZNWFC9OxGWQg",
        "outputId": "9f8205b6-a1de-432d-8112-8e9bbe111cbd"
      },
      "execution_count": 56,
      "outputs": [
        {
          "output_type": "stream",
          "name": "stderr",
          "text": [
            "[nltk_data] Downloading package stopwords to /root/nltk_data...\n",
            "[nltk_data]   Unzipping corpora/stopwords.zip.\n"
          ]
        }
      ]
    },
    {
      "cell_type": "code",
      "source": [
        "%%time\n",
        "max_length = 150\n",
        "max_tokens = 1000\n",
        "encoder_stop_words = layers.TextVectorization(\n",
        "    max_tokens=max_tokens,\n",
        "    output_mode=\"int\",\n",
        "    output_sequence_length=max_length,\n",
        "    standardize=custom_stopwords # removes stopwords\n",
        ")\n",
        "\n",
        "encoder_stop_words.adapt(text_only_all_ds)\n",
        "vocab_stop_words = np.array(encoder_stop_words.get_vocabulary());"
      ],
      "metadata": {
        "id": "Ur1mtU9ZTzg9",
        "colab": {
          "base_uri": "https://localhost:8080/"
        },
        "outputId": "10e749e0-6e8e-40b4-b6b3-12153bf70a0c"
      },
      "execution_count": 57,
      "outputs": [
        {
          "output_type": "stream",
          "name": "stdout",
          "text": [
            "CPU times: user 2min 5s, sys: 14.8 s, total: 2min 20s\n",
            "Wall time: 1min 46s\n"
          ]
        }
      ]
    },
    {
      "cell_type": "code",
      "execution_count": 58,
      "metadata": {
        "colab": {
          "base_uri": "https://localhost:8080/"
        },
        "outputId": "59954e5b-6770-4e53-e916-013309eba71e",
        "id": "BMF2KKwMUscT"
      },
      "outputs": [
        {
          "output_type": "execute_result",
          "data": {
            "text/plain": [
              "array(['', '[UNK]', '39s', 'new', 'said', 'us', 'reuters', 'ap', 'first',\n",
              "       'two', 'monday', 'world', 'wednesday', 'tuesday', 'oil',\n",
              "       'thursday', 'company', 'one', 'friday', 'inc'], dtype='<U14')"
            ]
          },
          "metadata": {},
          "execution_count": 58
        }
      ],
      "source": [
        "vocab_stop_words[:20]"
      ]
    },
    {
      "cell_type": "code",
      "execution_count": 59,
      "metadata": {
        "colab": {
          "base_uri": "https://localhost:8080/"
        },
        "outputId": "ff1e7d96-fdcb-4f32-8610-9618c38999a6",
        "id": "UeR06o1wUscU"
      },
      "outputs": [
        {
          "output_type": "execute_result",
          "data": {
            "text/plain": [
              "array([  1,   1, 118,   1,   1,   1, 953,   0,   0,   0,   0,   0,   0,\n",
              "         0,   0,   0,   0,   0,   0,   0,   0,   0,   0,   0,   0,   0,\n",
              "         0,   0,   0,   0,   0,   0,   0,   0,   0,   0,   0,   0,   0,\n",
              "         0,   0,   0,   0,   0,   0,   0,   0,   0,   0,   0,   0,   0,\n",
              "         0,   0,   0,   0,   0,   0,   0,   0,   0,   0,   0,   0,   0,\n",
              "         0,   0,   0,   0,   0,   0,   0,   0,   0,   0,   0,   0,   0,\n",
              "         0,   0,   0,   0,   0,   0,   0,   0,   0,   0,   0,   0,   0,\n",
              "         0,   0,   0,   0,   0,   0,   0,   0,   0,   0,   0,   0,   0,\n",
              "         0,   0,   0,   0,   0,   0,   0,   0,   0,   0,   0,   0,   0,\n",
              "         0,   0,   0,   0,   0,   0,   0,   0,   0,   0,   0,   0,   0,\n",
              "         0,   0,   0,   0,   0,   0,   0,   0,   0,   0,   0,   0,   0,\n",
              "         0,   0,   0,   0,   0,   0,   0])"
            ]
          },
          "metadata": {},
          "execution_count": 59
        }
      ],
      "source": [
        "example = \"the dog ran after a red ball as it rolled by the hat on the ground.\"\n",
        "enc_example = encoder_stop_words(example).numpy()\n",
        "enc_example"
      ]
    },
    {
      "cell_type": "markdown",
      "metadata": {
        "id": "_uEOVGs7UscU"
      },
      "source": [
        "#### Zero and One are Special Value Integers ( 0 = Padding, 1 = Unknown Word)"
      ]
    },
    {
      "cell_type": "code",
      "execution_count": 60,
      "metadata": {
        "colab": {
          "base_uri": "https://localhost:8080/"
        },
        "outputId": "5d565136-cb06-4b5a-92c2-b3506a542b71",
        "id": "T9K8vdgtUscU"
      },
      "outputs": [
        {
          "output_type": "execute_result",
          "data": {
            "text/plain": [
              "5"
            ]
          },
          "metadata": {},
          "execution_count": 60
        }
      ],
      "source": [
        "num_ones = tf.math.count_nonzero(enc_example==1).numpy()\n",
        "num_ones"
      ]
    },
    {
      "cell_type": "code",
      "source": [
        "## Encode and remove stopwords"
      ],
      "metadata": {
        "id": "XL3CMcvh6BXN"
      },
      "execution_count": 61,
      "outputs": []
    },
    {
      "cell_type": "code",
      "execution_count": 62,
      "metadata": {
        "colab": {
          "base_uri": "https://localhost:8080/"
        },
        "outputId": "1a542e89-0423-4ada-e0b4-c31332c65ff8",
        "id": "CYKVIhCJUscU"
      },
      "outputs": [
        {
          "output_type": "stream",
          "name": "stdout",
          "text": [
            "CPU times: user 8min 48s, sys: 11.8 s, total: 9min\n",
            "Wall time: 8min 34s\n"
          ]
        }
      ],
      "source": [
        "%%time\n",
        "docstop_words_sizes = []\n",
        "corpusstop_words = []\n",
        "countstop_words=0\n",
        "useless = 0\n",
        "# stop = 0\n",
        "percents = []\n",
        "for example, _ in all_ds.as_numpy_iterator():\n",
        "#   stop+=1\n",
        "#   if stop > 2: break\n",
        "  enc_example = encoder_stop_words(example['Title_Description'])[0]\n",
        "#   print(enc_example)\n",
        "\n",
        "  num_ones = tf.math.count_nonzero(enc_example==1).numpy()\n",
        "#   print(num_ones)\n",
        "  percent_ones = round(num_ones*100/len(enc_example))\n",
        "#   print(f\"{percent_ones}%\")\n",
        "  percents.append(percent_ones)\n",
        "\n",
        "  s = set(list(enc_example.numpy()))\n",
        "  if s == {1}: useless+=1\n",
        "#   print(useless)\n",
        "\n",
        "  docstop_words_sizes.append(len(enc_example))\n",
        "  corpusstop_words+=list(enc_example.numpy())\n",
        "\n",
        "  countstop_words += tf.math.count_nonzero(enc_example>1)"
      ]
    },
    {
      "cell_type": "code",
      "execution_count": 63,
      "metadata": {
        "colab": {
          "base_uri": "https://localhost:8080/",
          "height": 551
        },
        "outputId": "81b2b83c-c1fd-474e-b258-425942492cd4",
        "id": "GEeBZVT-UscU"
      },
      "outputs": [
        {
          "output_type": "display_data",
          "data": {
            "text/plain": [
              "<Figure size 1080x648 with 1 Axes>"
            ],
            "image/png": "[encoded data removed]"
          },
          "metadata": {
            "needs_background": "light"
          }
        }
      ],
      "source": [
        "## Plot Distribution of Tokens Per News Article\n",
        "\n",
        "plt.figure(figsize=(15,9))\n",
        "plt.hist(percents, 20)\n",
        "plt.ylabel('Number of Documents')\n",
        "plt.xlabel('Percent of Non-Vocabulary Words in a Document');"
      ]
    },
    {
      "cell_type": "code",
      "execution_count": 64,
      "metadata": {
        "colab": {
          "base_uri": "https://localhost:8080/"
        },
        "outputId": "0bb8d3f3-ce55-4b78-da2d-489db529bd77",
        "id": "LK5X7XRHUscU"
      },
      "outputs": [
        {
          "output_type": "stream",
          "name": "stdout",
          "text": [
            "Each news article has between 150 and 150 tokens in it.\n"
          ]
        }
      ],
      "source": [
        "print(f\"Each news article has between {min(docstop_words_sizes)} and {max(docstop_words_sizes)} tokens in it.\")"
      ]
    },
    {
      "cell_type": "markdown",
      "source": [],
      "metadata": {
        "id": "j_FcNuE0C-XJ"
      }
    },
    {
      "cell_type": "markdown",
      "source": [
        "###Part c\n",
        "Output sequence length: Use the default VS set it to a fixed number"
      ],
      "metadata": {
        "id": "G-UBWooeC-rV"
      }
    },
    {
      "cell_type": "code",
      "source": [
        "#1000 words vectoriezed with output length 100\n",
        "\n",
        "%%time\n",
        "from tensorflow.keras.layers import TextVectorization\n",
        "encoder_output_sequence_length = TextVectorization(\n",
        "    output_mode=\"int\",\n",
        "    max_tokens=1000,\n",
        "    output_sequence_length=100 # output_sequence_length \n",
        ")\n",
        "encoder_output_sequence_length.adapt(text_only_all_ds)\n",
        "vocab_output_sequence_length = np.array(encoder_output_sequence_length.get_vocabulary());"
      ],
      "metadata": {
        "id": "YjSphXw_DE9G",
        "colab": {
          "base_uri": "https://localhost:8080/"
        },
        "outputId": "d5a5e399-1184-4e90-a924-4b300fa00bfc"
      },
      "execution_count": 66,
      "outputs": [
        {
          "output_type": "stream",
          "name": "stdout",
          "text": [
            "CPU times: user 2min 5s, sys: 14.6 s, total: 2min 20s\n",
            "Wall time: 1min 45s\n"
          ]
        }
      ]
    },
    {
      "cell_type": "code",
      "source": [
        "vocab_output_sequence_length[:20]"
      ],
      "metadata": {
        "colab": {
          "base_uri": "https://localhost:8080/"
        },
        "id": "r2QvRQ7GGCCy",
        "outputId": "d715a791-9cb1-47a9-9005-656e929ed6bb"
      },
      "execution_count": 67,
      "outputs": [
        {
          "output_type": "execute_result",
          "data": {
            "text/plain": [
              "array(['', '[UNK]', 'the', 'to', 'a', 'of', 'in', 'and', 'on', 'for',\n",
              "       '39s', 'that', 'with', 'as', 'at', 'its', 'is', 'new', 'by',\n",
              "       'said'], dtype='<U14')"
            ]
          },
          "metadata": {},
          "execution_count": 67
        }
      ]
    },
    {
      "cell_type": "code",
      "source": [
        "example = \"the dog ran after a red ball as it rolled by the hat on the ground.\"\n",
        "enc_example = encoder_output_sequence_length(example).numpy()\n",
        "enc_example"
      ],
      "metadata": {
        "colab": {
          "base_uri": "https://localhost:8080/"
        },
        "id": "kgLRsp_QGDQG",
        "outputId": "3632f589-0b22-45c6-8aff-b06aad931cd4"
      },
      "execution_count": 68,
      "outputs": [
        {
          "output_type": "execute_result",
          "data": {
            "text/plain": [
              "array([  2,   1,   1,  29,   4, 178,   1,  13,  20,   1,  18,   2,   1,\n",
              "         8,   2,   1,   0,   0,   0,   0,   0,   0,   0,   0,   0,   0,\n",
              "         0,   0,   0,   0,   0,   0,   0,   0,   0,   0,   0,   0,   0,\n",
              "         0,   0,   0,   0,   0,   0,   0,   0,   0,   0,   0,   0,   0,\n",
              "         0,   0,   0,   0,   0,   0,   0,   0,   0,   0,   0,   0,   0,\n",
              "         0,   0,   0,   0,   0,   0,   0,   0,   0,   0,   0,   0,   0,\n",
              "         0,   0,   0,   0,   0,   0,   0,   0,   0,   0,   0,   0,   0,\n",
              "         0,   0,   0,   0,   0,   0,   0,   0,   0])"
            ]
          },
          "metadata": {},
          "execution_count": 68
        }
      ]
    },
    {
      "cell_type": "markdown",
      "metadata": {
        "id": "Aovn3kj4GIYJ"
      },
      "source": [
        "#### Zero and One are Special Value Integers ( 0 = Padding, 1 = Unknown Word)"
      ]
    },
    {
      "cell_type": "code",
      "execution_count": 69,
      "metadata": {
        "colab": {
          "base_uri": "https://localhost:8080/"
        },
        "outputId": "591e8f52-7f2e-4aa5-a39c-3d430df1e4cd",
        "id": "yzW720E_GIYK"
      },
      "outputs": [
        {
          "output_type": "execute_result",
          "data": {
            "text/plain": [
              "6"
            ]
          },
          "metadata": {},
          "execution_count": 69
        }
      ],
      "source": [
        "num_ones = tf.math.count_nonzero(enc_example==1).numpy()\n",
        "num_ones"
      ]
    },
    {
      "cell_type": "code",
      "source": [
        "## Encode and remove stopwords"
      ],
      "metadata": {
        "id": "e7GREJRdGIYK"
      },
      "execution_count": 70,
      "outputs": []
    },
    {
      "cell_type": "code",
      "source": [
        "%%time\n",
        "docoutput_sequence_length_sizes = []\n",
        "corpusoutput_sequence_length = []\n",
        "countoutput_sequence_length=0\n",
        "useless = 0\n",
        "# stop = 0\n",
        "percents = []\n",
        "for example, _ in all_ds.as_numpy_iterator():\n",
        "#   stop+=1\n",
        "#   if stop > 2: break\n",
        "  enc_example = encoder_output_sequence_length(example['Title_Description'])[0]\n",
        "#   print(enc_example)\n",
        "\n",
        "  num_ones = tf.math.count_nonzero(enc_example==1).numpy()\n",
        "#   print(num_ones)\n",
        "  percent_ones = round(num_ones*100/len(enc_example))\n",
        "#   print(f\"{percent_ones}%\")\n",
        "  percents.append(percent_ones)\n",
        "\n",
        "  s = set(list(enc_example.numpy()))\n",
        "  if s == {1}: useless+=1\n",
        "#   print(useless)\n",
        "\n",
        "  docoutput_sequence_length_sizes.append(len(enc_example))\n",
        "  corpus1000+=list(enc_example.numpy())\n",
        "\n",
        "  countoutput_sequence_length += tf.math.count_nonzero(enc_example>1)"
      ],
      "metadata": {
        "colab": {
          "base_uri": "https://localhost:8080/"
        },
        "id": "lllOAhX9GJwV",
        "outputId": "9e74dd5a-9447-4922-bbbe-9f6d78bd6e89"
      },
      "execution_count": 71,
      "outputs": [
        {
          "output_type": "stream",
          "name": "stdout",
          "text": [
            "CPU times: user 9min 13s, sys: 13.2 s, total: 9min 27s\n",
            "Wall time: 8min 53s\n"
          ]
        }
      ]
    },
    {
      "cell_type": "code",
      "source": [
        "plt.figure(figsize=(15,9))\n",
        "plt.hist(percents, 20)\n",
        "plt.ylabel('Number of Documents')\n",
        "plt.xlabel('Percent of Non-Vocabulary Words in a Document');"
      ],
      "metadata": {
        "colab": {
          "base_uri": "https://localhost:8080/",
          "height": 551
        },
        "id": "OgWcA7KuGK53",
        "outputId": "ae5e2597-f195-46d8-d11e-a59ea4713e41"
      },
      "execution_count": 72,
      "outputs": [
        {
          "output_type": "display_data",
          "data": {
            "text/plain": [
              "<Figure size 1080x648 with 1 Axes>"
            ],
            "image/png": "[encoded data removed]"
          },
          "metadata": {
            "needs_background": "light"
          }
        }
      ]
    },
    {
      "cell_type": "code",
      "execution_count": 73,
      "metadata": {
        "colab": {
          "base_uri": "https://localhost:8080/"
        },
        "outputId": "7debd2dd-a0d5-4970-c860-43a1d4bcb5b1",
        "id": "gWuJSSgyGPya"
      },
      "outputs": [
        {
          "output_type": "stream",
          "name": "stdout",
          "text": [
            "Each news article has between 100 and 100 tokens in it.\n"
          ]
        }
      ],
      "source": [
        "print(f\"Each news article has between {min(docoutput_sequence_length_sizes)} and {max(docoutput_sequence_length_sizes)} tokens in it.\")"
      ]
    },
    {
      "cell_type": "code",
      "source": [
        "print(f\"There are {count8000} top {len(vocab_8000)} vocabulary words in the corpus.\")"
      ],
      "metadata": {
        "colab": {
          "base_uri": "https://localhost:8080/"
        },
        "outputId": "dc7f053b-17c0-40e4-e8ce-d88b59b77417",
        "id": "pUmz7cAZGPyb"
      },
      "execution_count": 74,
      "outputs": [
        {
          "output_type": "stream",
          "name": "stdout",
          "text": [
            "There are 4295499 top 8000 vocabulary words in the corpus.\n"
          ]
        }
      ]
    }
  ],
  "metadata": {
    "colab": {
      "collapsed_sections": [
        "jQnyR1_aFk-t",
        "Ty0inyVYd-YO",
        "tOgRNMV7d-YP",
        "NchVK1ZsaAw0",
        "s6ednO1hKDdJ"
      ],
      "machine_shape": "hm",
      "provenance": [],
      "include_colab_link": true
    },
    "kernelspec": {
      "display_name": "Python 3",
      "language": "python",
      "name": "python3"
    },
    "language_info": {
      "codemirror_mode": {
        "name": "ipython",
        "version": 3
      },
      "file_extension": ".py",
      "mimetype": "text/x-python",
      "name": "python",
      "nbconvert_exporter": "python",
      "pygments_lexer": "ipython3",
      "version": "3.8.10"
    },
    "toc": {
      "base_numbering": 1,
      "nav_menu": {},
      "number_sections": false,
      "sideBar": true,
      "skip_h1_title": false,
      "title_cell": "Table of Contents",
      "title_sidebar": "Contents",
      "toc_cell": false,
      "toc_position": {},
      "toc_section_display": true,
      "toc_window_display": false
    },
    "gpuClass": "standard"
  },
  "nbformat": 4,
  "nbformat_minor": 0
}
